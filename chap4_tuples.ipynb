{
 "cells": [
  {
   "cell_type": "markdown",
   "metadata": {},
   "source": [
    "#### The tuple object (pronounced “toople” or “tuhple,” depending on whom you ask) is\n",
    "roughly like a list that cannot be changed—tuples are sequences, like lists, but they are\n",
    "immutable, like strings"
   ]
  },
  {
   "cell_type": "code",
   "execution_count": 8,
   "metadata": {},
   "outputs": [
    {
     "name": "stdout",
     "output_type": "stream",
     "text": [
      "6\n",
      "2\n",
      "(1, 2, 3, 4, 5, 6, 5, 7)\n",
      "1\n"
     ]
    }
   ],
   "source": [
    "T = (1,2,3,4,5,6)    #declating a tuple\n",
    "print(len(T))\n",
    "print(T[1])  #indexing ops\n",
    "print(T + (5,7))\n",
    "print(T[0])\n"
   ]
  },
  {
   "cell_type": "code",
   "execution_count": 13,
   "metadata": {},
   "outputs": [
    {
     "name": "stdout",
     "output_type": "stream",
     "text": [
      "(1, 1, 3, 4, 5, 6)\n"
     ]
    }
   ],
   "source": [
    "#tuples are immutable but can be recreated\n",
    "\n",
    "T = (1,) + T\n",
    "print(T)"
   ]
  },
  {
   "cell_type": "code",
   "execution_count": 24,
   "metadata": {},
   "outputs": [
    {
     "name": "stdout",
     "output_type": "stream",
     "text": [
      "(1, 'spam', [1, 3, 4])\n",
      "3\n"
     ]
    }
   ],
   "source": [
    "#Tuple supports mutiple data types\n",
    "\n",
    "T = (1),('spam'), ([1,3,4])\n",
    "print(T)\n",
    "print(T[2][1])"
   ]
  },
  {
   "cell_type": "markdown",
   "metadata": {},
   "source": [
    "### Tuples are used for their immutability ie integrity"
   ]
  },
  {
   "cell_type": "markdown",
   "metadata": {},
   "source": []
  }
 ],
 "metadata": {
  "kernelspec": {
   "display_name": "Python 3.8.8 ('arka')",
   "language": "python",
   "name": "python3"
  },
  "language_info": {
   "codemirror_mode": {
    "name": "ipython",
    "version": 3
   },
   "file_extension": ".py",
   "mimetype": "text/x-python",
   "name": "python",
   "nbconvert_exporter": "python",
   "pygments_lexer": "ipython3",
   "version": "3.8.8"
  },
  "orig_nbformat": 4,
  "vscode": {
   "interpreter": {
    "hash": "c31c384f5fd0255c2ec0e7740eeefa95ced326fc47538bade73e47175223050c"
   }
  }
 },
 "nbformat": 4,
 "nbformat_minor": 2
}

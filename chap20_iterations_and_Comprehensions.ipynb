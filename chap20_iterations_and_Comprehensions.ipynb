{
 "cells": [
  {
   "cell_type": "code",
   "execution_count": null,
   "metadata": {},
   "outputs": [],
   "source": [
    "#List comprehensions continued\n",
    "\n",
    "[x**2 for x in range(8)]"
   ]
  },
  {
   "cell_type": "code",
   "execution_count": null,
   "metadata": {},
   "outputs": [],
   "source": [
    "#Same operattion using map and lambda\n",
    "\n",
    "list(map(lambda x : x**2,range(8)))"
   ]
  },
  {
   "cell_type": "code",
   "execution_count": null,
   "metadata": {},
   "outputs": [],
   "source": [
    "#Three ways to do even number filtering \n",
    "\n",
    "[x for x in range(8) if x%2 == 0]"
   ]
  },
  {
   "cell_type": "code",
   "execution_count": null,
   "metadata": {},
   "outputs": [],
   "source": [
    "list(filter(lambda x: x%2==0,range(8)))   #filter checks the condition"
   ]
  },
  {
   "cell_type": "code",
   "execution_count": null,
   "metadata": {},
   "outputs": [],
   "source": [
    "#creating a function and using it\n",
    "\n",
    "res = []\n",
    "for x in range(8):\n",
    "    if x%2 == 0:\n",
    "        res.append(x)\n",
    "\n",
    "res"
   ]
  },
  {
   "cell_type": "code",
   "execution_count": null,
   "metadata": {},
   "outputs": [],
   "source": [
    "#square operation but using map\n",
    "\n",
    "list(map((lambda x: x**2), filter((lambda x: x % 2 ==0), range(8))))"
   ]
  },
  {
   "cell_type": "code",
   "execution_count": null,
   "metadata": {},
   "outputs": [],
   "source": [
    "#for clauses within a nested list work like equivalent nested for loop\n",
    "\n",
    "res = [x+y for x in [1,2] for y in [100,200,300]]\n",
    "res"
   ]
  },
  {
   "cell_type": "code",
   "execution_count": null,
   "metadata": {},
   "outputs": [],
   "source": [
    "#same effect but using a more verbose equivalent\n",
    "\n",
    "res = []\n",
    "for x in [1,2,3]:\n",
    "    for y in [100,200,300]:\n",
    "        res.append(x+y)\n",
    "res"
   ]
  },
  {
   "cell_type": "code",
   "execution_count": null,
   "metadata": {},
   "outputs": [],
   "source": [
    "#list constructors can also iterate over other sequence types\n",
    "\n",
    "[x+y for x in 'spam' for y in 'SPAM']"
   ]
  },
  {
   "cell_type": "code",
   "execution_count": null,
   "metadata": {},
   "outputs": [],
   "source": [
    "#other complex list operations\n",
    "\n",
    "[(x,y) for x in range(5) if x%2 == 0 for y in range(5) if y%2==1]"
   ]
  },
  {
   "cell_type": "code",
   "execution_count": null,
   "metadata": {},
   "outputs": [],
   "source": [
    "res = []\n",
    "for x in range(5):\n",
    "    if x%2==0:\n",
    "        for y in range(5):\n",
    "            if y%2==1:\n",
    "                res.append((x,y))\n",
    "            \n",
    "res"
   ]
  },
  {
   "cell_type": "code",
   "execution_count": null,
   "metadata": {},
   "outputs": [],
   "source": [
    "#map & filter equivalent\n",
    "[(x,y) for x in list(map(lambda x: x,filter(lambda x:x%2==0,range(5)))) for y in list(map(lambda x: x,filter(lambda x:x%2==1,range(5))))]\n"
   ]
  },
  {
   "cell_type": "markdown",
   "metadata": {},
   "source": [
    "#### List Comprehension s and Matrices"
   ]
  },
  {
   "cell_type": "code",
   "execution_count": null,
   "metadata": {},
   "outputs": [],
   "source": [
    "#declaring matrix\n",
    "#used pytorch to generate matrix easily\n",
    "import torch\n",
    "M = [[1,2,3],[4,5,6],[7,8,9]]\n",
    "M1 = torch.tensor(M)\n",
    "N1 = M1+11\n",
    "torch.matmul(M1,N1) #example matrix multiplication using torch\n",
    "\n",
    "N = N1.tolist()"
   ]
  },
  {
   "cell_type": "code",
   "execution_count": null,
   "metadata": {},
   "outputs": [],
   "source": [
    "N1"
   ]
  },
  {
   "cell_type": "code",
   "execution_count": null,
   "metadata": {},
   "outputs": [],
   "source": [
    "#matmul using torch\n",
    "\n",
    "torch.matmul(M1,N1)"
   ]
  },
  {
   "cell_type": "code",
   "execution_count": null,
   "metadata": {},
   "outputs": [],
   "source": [
    "#Matrix multiplication using generic python\n",
    "\n",
    "#This just creates a hadamard product ans not matrix multiplication\n",
    "[[M[row][col] * N[row][col] for row in range(3)] for col in range(3)]"
   ]
  },
  {
   "cell_type": "markdown",
   "metadata": {},
   "source": [
    "#### Comprehending List Comprehensions"
   ]
  },
  {
   "cell_type": "code",
   "execution_count": null,
   "metadata": {},
   "outputs": [],
   "source": [
    "F = open('myfile.txt','w')\n",
    "F.write('bbb\\n')"
   ]
  },
  {
   "cell_type": "code",
   "execution_count": null,
   "metadata": {},
   "outputs": [],
   "source": [
    "F.write('bbb\\n')\n",
    "F.write('ccc\\n')"
   ]
  },
  {
   "cell_type": "code",
   "execution_count": null,
   "metadata": {},
   "outputs": [],
   "source": [
    "open('myfile.txt','r').readlines()\n"
   ]
  },
  {
   "cell_type": "code",
   "execution_count": null,
   "metadata": {},
   "outputs": [],
   "source": [
    "[line.rstrip() for line in open('myfile.txt').readlines()]"
   ]
  },
  {
   "cell_type": "code",
   "execution_count": null,
   "metadata": {},
   "outputs": [],
   "source": [
    "[line.rstrip() for line in open('myfile.txt')]"
   ]
  },
  {
   "cell_type": "code",
   "execution_count": null,
   "metadata": {},
   "outputs": [],
   "source": [
    "list(map((lambda line: line.rstrip()), open('myfile.txt')))"
   ]
  },
  {
   "cell_type": "code",
   "execution_count": null,
   "metadata": {},
   "outputs": [],
   "source": [
    "listoftuple = [('bob', 35, 'mgr'), ('mel', 40, 'dev')]\n",
    "listoftuple[0]"
   ]
  },
  {
   "cell_type": "code",
   "execution_count": null,
   "metadata": {},
   "outputs": [],
   "source": [
    "[age[1] for age in listoftuple]"
   ]
  },
  {
   "cell_type": "code",
   "execution_count": null,
   "metadata": {},
   "outputs": [],
   "source": [
    "list(map((lambda x: x[1]), listoftuple))"
   ]
  },
  {
   "cell_type": "code",
   "execution_count": null,
   "metadata": {},
   "outputs": [],
   "source": [
    "##another way of doing it\n",
    "#this can only be done on python 2.6 not in 3.0\n",
    "#list(map((lambda (name, age,job): age), listoftuple))"
   ]
  },
  {
   "cell_type": "code",
   "execution_count": null,
   "metadata": {},
   "outputs": [],
   "source": []
  },
  {
   "cell_type": "markdown",
   "metadata": {},
   "source": [
    "### Iterators revisited"
   ]
  },
  {
   "cell_type": "code",
   "execution_count": null,
   "metadata": {},
   "outputs": [],
   "source": [
    "def gensquares(N):\n",
    "    for i in range(N):\n",
    "        yield i**2"
   ]
  },
  {
   "cell_type": "code",
   "execution_count": null,
   "metadata": {},
   "outputs": [],
   "source": [
    "x = gensquares(2)\n",
    "next(x)\n",
    "next(x)"
   ]
  },
  {
   "cell_type": "code",
   "execution_count": null,
   "metadata": {},
   "outputs": [],
   "source": [
    "for i in gensquares(5):\n",
    "    print(i, end=':')"
   ]
  },
  {
   "cell_type": "code",
   "execution_count": null,
   "metadata": {},
   "outputs": [],
   "source": [
    "x = gensquares(5)\n",
    "x    #generator function call\n"
   ]
  },
  {
   "cell_type": "code",
   "execution_count": null,
   "metadata": {},
   "outputs": [],
   "source": [
    "#using for loop\n",
    "for x in [i**2 for i in range(5)]:\n",
    "    print(x, end = ' ')"
   ]
  },
  {
   "cell_type": "code",
   "execution_count": null,
   "metadata": {},
   "outputs": [],
   "source": [
    "for x in map((lambda x: x**2), [i for i in range(5)]):\n",
    "    print(x, end = ' : ')"
   ]
  },
  {
   "cell_type": "markdown",
   "metadata": {},
   "source": [
    "##### Extended generator function protocol: send versus next"
   ]
  },
  {
   "cell_type": "code",
   "execution_count": null,
   "metadata": {},
   "outputs": [],
   "source": [
    "def gen():\n",
    "    for i in range(10):\n",
    "        X = yield i\n",
    "        print(X)\n",
    "\n",
    "gen().__next__() "
   ]
  },
  {
   "cell_type": "code",
   "execution_count": null,
   "metadata": {},
   "outputs": [],
   "source": [
    "G = gen()"
   ]
  },
  {
   "cell_type": "code",
   "execution_count": null,
   "metadata": {},
   "outputs": [],
   "source": [
    "next(G)"
   ]
  },
  {
   "cell_type": "code",
   "execution_count": null,
   "metadata": {},
   "outputs": [],
   "source": [
    "G.send(88)"
   ]
  },
  {
   "cell_type": "markdown",
   "metadata": {},
   "source": [
    "#### Generator Expressions: Iterators Meet Comprehensions"
   ]
  },
  {
   "cell_type": "code",
   "execution_count": null,
   "metadata": {},
   "outputs": [],
   "source": [
    "#Generator expresssions are like list comprehensions but enclosed in parentheses instead\n",
    "[x**2 for x in range(6)]    #list comprehension #compiles in memory\n",
    "(x**2 for x in range(6))    #generator expresssion #compiles on call\n",
    "\n",
    "#for example\n",
    "\n",
    "G = (x**2 for x in range(10))\n",
    "G.__next__()\n",
    "G.__next__()    #iterates over and generates\n",
    "next(G)         #also does the same thing"
   ]
  },
  {
   "cell_type": "code",
   "execution_count": null,
   "metadata": {},
   "outputs": [],
   "source": [
    "#other way\n",
    "G = (x**2 for x in range(10))        #also iterable\n",
    "\n",
    "def nextg(G):\n",
    "    for i in G:\n",
    "        print(i)"
   ]
  },
  {
   "cell_type": "code",
   "execution_count": null,
   "metadata": {},
   "outputs": [],
   "source": [
    "print(nextg(G))"
   ]
  },
  {
   "cell_type": "code",
   "execution_count": null,
   "metadata": {},
   "outputs": [],
   "source": [
    "for num in (x**2 for x in range(10)):\n",
    "    print ('%s,%s'%(num, num/2.0))"
   ]
  },
  {
   "cell_type": "code",
   "execution_count": null,
   "metadata": {},
   "outputs": [],
   "source": [
    "import torch\n",
    "A = torch.zeros((113,221))\n",
    "A"
   ]
  },
  {
   "cell_type": "code",
   "execution_count": null,
   "metadata": {},
   "outputs": [],
   "source": [
    "any(A.tolist()[0])"
   ]
  },
  {
   "cell_type": "code",
   "execution_count": null,
   "metadata": {},
   "outputs": [],
   "source": [
    "import math\n",
    "list(map(math.sqrt,(i**2 for i in range(5))))"
   ]
  },
  {
   "cell_type": "markdown",
   "metadata": {},
   "source": [
    "#### Generator Functions Versus Generator Expressions"
   ]
  },
  {
   "cell_type": "code",
   "execution_count": null,
   "metadata": {},
   "outputs": [],
   "source": [
    "G = (x*4 for x in 'SPAM')\n",
    "I = iter(G)\n",
    "next(I)\n",
    "next(I)\n",
    "G is iter(G)    #Generator expressions are iterator on itself"
   ]
  },
  {
   "cell_type": "code",
   "execution_count": null,
   "metadata": {},
   "outputs": [],
   "source": [
    "#manual function\n",
    "\n",
    "\n",
    "def timesfour(G):\n",
    "    for x in G:\n",
    "        yield x*4\n",
    "\n",
    "G = timesfour('spam')\n",
    "list(G)"
   ]
  },
  {
   "cell_type": "code",
   "execution_count": null,
   "metadata": {},
   "outputs": [],
   "source": [
    "#unlike generator expressions lists support multiple iterations\n",
    "\n",
    "L = [1,2,3,4]\n",
    "I1, I2 = iter(L),iter(L)\n",
    "\n",
    "next(I1),next(I1), next(I2)  #iteration of I2 is different from I1"
   ]
  },
  {
   "cell_type": "code",
   "execution_count": null,
   "metadata": {},
   "outputs": [],
   "source": [
    "#zip is also an iterable\n",
    "\n",
    "S1 = 'abc'\n",
    "S2 = 'xyz123'\n",
    "\n",
    "list(zip(S1,S2))  #iterates and zips"
   ]
  },
  {
   "cell_type": "code",
   "execution_count": null,
   "metadata": {},
   "outputs": [],
   "source": [
    "\n",
    "list(zip([-2,-1,0,1,2],[-2,-1,0,1,2],[-2,-1,0,1,2]))"
   ]
  },
  {
   "cell_type": "code",
   "execution_count": null,
   "metadata": {},
   "outputs": [],
   "source": [
    "#while map\n",
    "\n",
    "list(map(pow, [-2,-1,0,1,2],[1,2,3,4,5]))"
   ]
  },
  {
   "cell_type": "code",
   "execution_count": null,
   "metadata": {},
   "outputs": [],
   "source": [
    "#creating mymap function\n",
    "\n",
    "def mymap(func, *args):\n",
    "    res=[]\n",
    "    for x in zip(*args):\n",
    "        res.append(func(*x))\n",
    "    return res\n",
    "\n",
    "\n",
    "print(mymap(abs, [-1,-5,-5]))\n",
    "print(mymap(pow, [1,2,3],[3,2,1]))"
   ]
  },
  {
   "cell_type": "code",
   "execution_count": null,
   "metadata": {},
   "outputs": [],
   "source": [
    "#above function using list  comprehensio\n",
    "\n",
    "def mymap(func, *args):\n",
    "    return [func(*args) for args in zip(*args) ]\n",
    "\n",
    "mymap(abs, [-2,-4,-5])"
   ]
  },
  {
   "cell_type": "code",
   "execution_count": null,
   "metadata": {},
   "outputs": [],
   "source": [
    "#using generator expression\n",
    "def mymap(func, *args):\n",
    "    res = []\n",
    "    for arg in zip(*args):\n",
    "        yield func(*arg)\n",
    "\n",
    "mymap(abs, [-3,-2,-1]).__next__()"
   ]
  },
  {
   "cell_type": "code",
   "execution_count": null,
   "metadata": {},
   "outputs": [],
   "source": [
    "list(mymap(abs, [-3,-2,-1]))"
   ]
  },
  {
   "cell_type": "code",
   "execution_count": null,
   "metadata": {},
   "outputs": [],
   "source": [
    "#myzip function\n",
    "\n",
    "def myzip(*seqs):\n",
    "    seq = [list(S) for S in seqs]\n",
    "    while all(seqs):\n",
    "        yield tuple(S.pop(0) for S in seqs)\n",
    "\n",
    "(myzip([1,2,3,4,5])).__next__()"
   ]
  },
  {
   "cell_type": "code",
   "execution_count": null,
   "metadata": {},
   "outputs": [],
   "source": [
    "def mymappad(*seqs, pad=None):\n",
    "    seqs = [list(S) for S in seqs]\n",
    "    while any(seqs):\n",
    "        yield tuple((S.pop(0) if S else pad) for S in seqs)\n",
    "\n",
    "mymappad([1,2,3,4,5]).__next__()"
   ]
  },
  {
   "cell_type": "code",
   "execution_count": null,
   "metadata": {},
   "outputs": [],
   "source": [
    "#Dictionary comprehension\n",
    "\n",
    "{x: x*x for x in range(10)}    #generates a dictionary"
   ]
  },
  {
   "cell_type": "code",
   "execution_count": null,
   "metadata": {},
   "outputs": [],
   "source": [
    "#statement based equivalents\n",
    "res = set()\n",
    "for x in range(10):\n",
    "    res.add(x*x)\n",
    "res"
   ]
  },
  {
   "cell_type": "code",
   "execution_count": null,
   "metadata": {},
   "outputs": [],
   "source": [
    "res = {}\n",
    "for x in range(10):\n",
    "    res[x] = x*x\n",
    "\n",
    "res"
   ]
  },
  {
   "cell_type": "code",
   "execution_count": null,
   "metadata": {},
   "outputs": [],
   "source": [
    "#generator expression to create key and value on demand\n",
    "G =((x,x*x) for x in range(10))\n",
    "G.__next__()"
   ]
  },
  {
   "cell_type": "code",
   "execution_count": null,
   "metadata": {},
   "outputs": [],
   "source": [
    "#sets and dictionaries also support extended comprehension like lists\n",
    "\n",
    "[x*x for x in range(10) if x%3==0]\n",
    "{x*x for x in range(10) if x%3==0}\n",
    "{x:x*x for x in range(10) if x%3==0}\n",
    "\n",
    "\n",
    "\n",
    "#nested for loops also work\n",
    "\n",
    "[(x*3+y*4) for x in range(10) for y in range(10)]\n",
    "{x: y for x in 'spam' for y in 'ham'}"
   ]
  },
  {
   "cell_type": "code",
   "execution_count": null,
   "metadata": {},
   "outputs": [],
   "source": [
    "{x:y for x in [1,2,3] for y in [4,5,6]}\n",
    "{x+y for x in 'spam' for y in 'ham'}\n",
    "{k*2 for k in ['spam','ham','sausage'] if k[0] == 's'}\n",
    "{k.upper():k for k in ['spam','ham','sausage'] if k[0] == 's'}"
   ]
  },
  {
   "cell_type": "code",
   "execution_count": null,
   "metadata": {},
   "outputs": [],
   "source": [
    "#Timing Iteration Alternatives\n",
    "#Timing module\n",
    "import time\n",
    "reps = 1000\n",
    "repslist = range(reps)\n",
    "\n",
    "def mytimer(func, *args,**kwargs):\n",
    "    start = time.time()\n",
    "    for i in repslist:\n",
    "        ret = func(*args,**kwargs)\n",
    "    elapsed = time.time() - start\n",
    "    return (elapsed, ret)"
   ]
  },
  {
   "cell_type": "code",
   "execution_count": null,
   "metadata": {},
   "outputs": [],
   "source": [
    "%timeit list(map(abs, [-1,-3,-8]))"
   ]
  },
  {
   "cell_type": "code",
   "execution_count": null,
   "metadata": {},
   "outputs": [],
   "source": [
    "%timeit [abs(x) for x in [-1,-3,-8]]"
   ]
  },
  {
   "cell_type": "markdown",
   "metadata": {},
   "source": [
    "#### Timing Script\n"
   ]
  },
  {
   "cell_type": "code",
   "execution_count": 98,
   "metadata": {},
   "outputs": [
    {
     "name": "stdout",
     "output_type": "stream",
     "text": [
      "3.10.4 (main, Mar 31 2022, 08:41:55) [GCC 7.5.0]\n",
      "---------------------------------\n",
      "forloop    0.10831 => [1008...1009]\n",
      "---------------------------------\n",
      "listcomp   0.06669 => [998...999]\n",
      "---------------------------------\n",
      "mapcall    0.04246 => [998...999]\n",
      "---------------------------------\n",
      "genfunc    0.10354 => [998...999]\n"
     ]
    }
   ],
   "source": [
    "import sys\n",
    "reps = 1000\n",
    "repslist = range(reps)\n",
    "\n",
    "def forloop():\n",
    "    res = []\n",
    "    for x in repslist:\n",
    "        res.append(x+10)\n",
    "    return res\n",
    "\n",
    "def listcomp():\n",
    "    return [abs(x) for x in repslist]\n",
    "\n",
    "def mapcall():\n",
    "    return list(map(abs, repslist))\n",
    "\n",
    "def genfunc():\n",
    "    def gen():\n",
    "        for x in repslist:\n",
    "            yield abs(x)\n",
    "    return list(gen())\n",
    "\n",
    "\n",
    "print(sys.version)\n",
    "for test in (forloop, listcomp, mapcall, genfunc):\n",
    "    elapsed, result = mytimer(test)\n",
    "    print('-'*33)\n",
    "    print('%-10s %.5f => [%s...%s]' %(test.__name__,elapsed,result[-2],result[-1]))"
   ]
  },
  {
   "cell_type": "code",
   "execution_count": 124,
   "metadata": {},
   "outputs": [],
   "source": [
    "#alternative and more sophisticated timer module\n",
    "\n",
    "\"\"\"timer(spam, 1, 2, a=3, b=4, _reps=1000) calls and times spam(1, 2, a=3)\n",
    "_reps times, and returns total time for all runs, with final result;\n",
    "best(spam, 1, 2, a=3, b=4, _reps=50) runs best-of-N timer to filter out\n",
    "any system load variation, and returns best time among _reps tests\"\"\"\n",
    "\n",
    "\n",
    "\n",
    "import time,sys\n",
    "if sys.platform == 'linux':\n",
    "    timefunc = time.time\n",
    "else:\n",
    "    timefunc = time.clock\n",
    "\n",
    "def trace(*args): pass\n",
    "\n",
    "def timer(func, *args, **kwargs):\n",
    "    _reps = kwargs.pop('_reps',1000)  #pops the rep value or defaults to 1000\n",
    "    trace(func, args, kwargs, _reps)  #traces the inputs\n",
    "    repslist = range(_reps)\n",
    "    start = timefunc()                 #timer starts\n",
    "    for i in repslist:\n",
    "        ret = func(*args, **kwargs)\n",
    "    elapsed = timefunc() - start\n",
    "    return (elapsed, ret)               #returns elapsed time and function return\n",
    "\n",
    "def bestfunc(func, *args, **kwargs):\n",
    "    _reps = kwargs.pop('_reps',50)\n",
    "    best = 2**32                             #defaulting a value\n",
    "    for i in range(_reps):\n",
    "        (time,ret) = timer(func, *args, _reps=1, *kwargs)\n",
    "        if time < best: best = time\n",
    "    return (best, ret)"
   ]
  },
  {
   "cell_type": "code",
   "execution_count": 135,
   "metadata": {},
   "outputs": [
    {
     "name": "stdout",
     "output_type": "stream",
     "text": [
      "<genfunc>\n",
      "___________________________________\n",
      "genfunc : 0.00007 => [10...1009]\n",
      "___________________________________\n",
      "genfunc : 0.00005 => [0...999]\n",
      "___________________________________\n",
      "genfunc : 0.00003 => [0...999]\n",
      "___________________________________\n",
      "genfunc : 0.00006 => [0...999]\n"
     ]
    }
   ],
   "source": [
    "print('<%s>'%funcs.__name__)\n",
    "for funcs in (forloop,listcomp, mapcall, genfunc):\n",
    "    elapsed,result = bestfunc(funcs)\n",
    "    \n",
    "    print('_'*35)\n",
    "    print('%-8s: %.5f => [%s...%s]'%(test.__name__,elapsed,result[0],result[-1]))"
   ]
  },
  {
   "cell_type": "code",
   "execution_count": null,
   "metadata": {},
   "outputs": [],
   "source": []
  }
 ],
 "metadata": {
  "kernelspec": {
   "display_name": "Python 3.8.13 ('arka')",
   "language": "python",
   "name": "python3"
  },
  "language_info": {
   "codemirror_mode": {
    "name": "ipython",
    "version": 3
   },
   "file_extension": ".py",
   "mimetype": "text/x-python",
   "name": "python",
   "nbconvert_exporter": "python",
   "pygments_lexer": "ipython3",
   "version": "3.10.4"
  },
  "orig_nbformat": 4,
  "vscode": {
   "interpreter": {
    "hash": "fa46da6b9307ef350aad613908c1591a068b15a96db2be16e9d9e053b74e28ee"
   }
  }
 },
 "nbformat": 4,
 "nbformat_minor": 2
}

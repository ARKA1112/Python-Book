{
 "cells": [
  {
   "cell_type": "code",
   "execution_count": null,
   "metadata": {},
   "outputs": [],
   "source": [
    "#q2\n",
    "from importlib import reload\n",
    "import adder\n",
    "reload(adder)    #called the function"
   ]
  },
  {
   "cell_type": "code",
   "execution_count": null,
   "metadata": {},
   "outputs": [],
   "source": [
    "print(adder.adder(1,2,3,7,8,9,00))\n",
    " #used it adder function to add two numbers"
   ]
  },
  {
   "cell_type": "code",
   "execution_count": null,
   "metadata": {},
   "outputs": [],
   "source": [
    "adder.adder(['hello'],['whope'])\n",
    "print(adder.adder(3.4,9.2))"
   ]
  },
  {
   "cell_type": "code",
   "execution_count": null,
   "metadata": {},
   "outputs": [],
   "source": [
    "#no i dont have to print the results\n",
    "#as the function returs the result"
   ]
  },
  {
   "cell_type": "code",
   "execution_count": null,
   "metadata": {},
   "outputs": [],
   "source": [
    "import adder\n",
    "reload(adder)\n",
    "import adder"
   ]
  },
  {
   "cell_type": "code",
   "execution_count": null,
   "metadata": {},
   "outputs": [],
   "source": [
    "adder.adder(2,3,6)"
   ]
  },
  {
   "cell_type": "code",
   "execution_count": null,
   "metadata": {},
   "outputs": [],
   "source": [
    "#four arguments dont work\n",
    "adder.adder(ugly=1,good=2)\n",
    "#two or one arguments work because the rest\n",
    "# it catches from the default  "
   ]
  },
  {
   "cell_type": "code",
   "execution_count": null,
   "metadata": {},
   "outputs": [],
   "source": [
    "#q 1 2 3 answered\n",
    "\n",
    "\n",
    "#q4"
   ]
  },
  {
   "cell_type": "code",
   "execution_count": null,
   "metadata": {},
   "outputs": [],
   "source": [
    "import adder\n",
    "reload(adder)\n",
    "import adder"
   ]
  },
  {
   "cell_type": "code",
   "execution_count": null,
   "metadata": {},
   "outputs": [],
   "source": [
    "#adder.adder(**d)\n",
    "d[:0]"
   ]
  },
  {
   "cell_type": "code",
   "execution_count": null,
   "metadata": {},
   "outputs": [],
   "source": [
    "adder.adder(a=1,b=5)\n",
    "#q4 answered here"
   ]
  },
  {
   "cell_type": "code",
   "execution_count": null,
   "metadata": {},
   "outputs": [],
   "source": [
    "#q5\n",
    "def copydict(dict):\n",
    "    a = {}\n",
    "    for k in dict.keys():\n",
    "        a[k] = dict[k]\n",
    "    return a\n"
   ]
  },
  {
   "cell_type": "code",
   "execution_count": null,
   "metadata": {},
   "outputs": [],
   "source": [
    "copydict(d)\n",
    "\n",
    "\n",
    "\n",
    "#answered"
   ]
  },
  {
   "cell_type": "code",
   "execution_count": null,
   "metadata": {},
   "outputs": [],
   "source": [
    "#q6\n",
    "import adddict\n",
    "print(adddict.addDict({'a':2,'b':3},{'c':3,'d':4}))\n",
    "print(adddict.addDict({'a':2,'b':3},{'a':3,'d':4}))"
   ]
  },
  {
   "cell_type": "code",
   "execution_count": null,
   "metadata": {},
   "outputs": [],
   "source": [
    "reload(adddict)\n",
    "import adddict"
   ]
  },
  {
   "cell_type": "code",
   "execution_count": null,
   "metadata": {},
   "outputs": [],
   "source": [
    "#generalizing the above function to union list also\n",
    "adddict.addDict([1,2,3],[3,4,5])\n"
   ]
  },
  {
   "cell_type": "code",
   "execution_count": null,
   "metadata": {},
   "outputs": [],
   "source": [
    "#q6 also answered\n"
   ]
  },
  {
   "cell_type": "code",
   "execution_count": null,
   "metadata": {},
   "outputs": [],
   "source": [
    "#now we will answer the second part of the question"
   ]
  },
  {
   "cell_type": "code",
   "execution_count": null,
   "metadata": {},
   "outputs": [],
   "source": [
    "from imported import *"
   ]
  },
  {
   "cell_type": "code",
   "execution_count": null,
   "metadata": {},
   "outputs": [],
   "source": [
    "#q7 \n",
    "f1(1,2)\n",
    "f1(b=2, a=1)\n",
    "#f3(1,2,3) throws error because it takes one positional argument and any number of keyword arguments\n",
    "f2(1,2,3) #because the function assumes the the first input as a and the rest as b tuple\n",
    "f3(1,x=2,y=3)  #packs into dict\n",
    "f4(1,2,3, x=2, y=3)\n",
    "f5(1)   #rest are the default values\n",
    "f5(1,4)  #c as in default\n",
    "f6(1)   #a assigned b defaults and c rest ie empty\n",
    "f6(1,3,4) #c is assumed as a tuple\n",
    "\n",
    "#answered"
   ]
  },
  {
   "cell_type": "code",
   "execution_count": null,
   "metadata": {},
   "outputs": [],
   "source": [
    "#q8\n",
    "\n",
    "from importlib import reload\n",
    "\n",
    "import primechecker\n",
    "reload(primechecker)\n",
    "primechecker.chk(13)\n",
    "primechecker.chk(13.0)\n",
    "primechecker.chk(15)\n",
    "primechecker.chk(15.0)\n",
    "\n",
    "#answered"
   ]
  },
  {
   "cell_type": "code",
   "execution_count": null,
   "metadata": {},
   "outputs": [],
   "source": []
  }
 ],
 "metadata": {
  "kernelspec": {
   "display_name": "Python 3.10.4 ('arka')",
   "language": "python",
   "name": "python3"
  },
  "language_info": {
   "codemirror_mode": {
    "name": "ipython",
    "version": 3
   },
   "file_extension": ".py",
   "mimetype": "text/x-python",
   "name": "python",
   "nbconvert_exporter": "python",
   "pygments_lexer": "ipython3",
   "version": "3.10.4"
  },
  "vscode": {
   "interpreter": {
    "hash": "fa46da6b9307ef350aad613908c1591a068b15a96db2be16e9d9e053b74e28ee"
   }
  }
 },
 "nbformat": 4,
 "nbformat_minor": 4
}

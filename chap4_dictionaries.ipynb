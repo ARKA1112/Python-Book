{
 "cells": [
  {
   "cell_type": "code",
   "execution_count": 5,
   "metadata": {},
   "outputs": [],
   "source": [
    "D = {'food': 'Spam', 'quantity': 4, 'color': 'pink'}"
   ]
  },
  {
   "cell_type": "code",
   "execution_count": 6,
   "metadata": {},
   "outputs": [
    {
     "data": {
      "text/plain": [
       "'Spam'"
      ]
     },
     "execution_count": 6,
     "metadata": {},
     "output_type": "execute_result"
    }
   ],
   "source": [
    "D['food'] #key value"
   ]
  },
  {
   "cell_type": "code",
   "execution_count": 7,
   "metadata": {},
   "outputs": [
    {
     "name": "stdout",
     "output_type": "stream",
     "text": [
      "{'food': 'Spam', 'quantity': 5, 'color': 'pink'}\n"
     ]
    }
   ],
   "source": [
    "D['quantity'] += 1\n",
    "print(D)"
   ]
  },
  {
   "cell_type": "code",
   "execution_count": 10,
   "metadata": {},
   "outputs": [
    {
     "data": {
      "text/plain": [
       "'white'"
      ]
     },
     "execution_count": 10,
     "metadata": {},
     "output_type": "execute_result"
    }
   ],
   "source": [
    "D['color'].replace('pink','white')"
   ]
  },
  {
   "cell_type": "code",
   "execution_count": 11,
   "metadata": {},
   "outputs": [
    {
     "name": "stdout",
     "output_type": "stream",
     "text": [
      "{'food': 'Spam', 'quantity': 5, 'color': 'pink'}\n"
     ]
    }
   ],
   "source": [
    "print(D)"
   ]
  },
  {
   "cell_type": "code",
   "execution_count": 14,
   "metadata": {},
   "outputs": [
    {
     "name": "stdout",
     "output_type": "stream",
     "text": [
      "{'name': 'Dan', 'job': 'janitor', 'education': 'graduate', 'age': 50}\n",
      "50\n"
     ]
    }
   ],
   "source": [
    "#empty dictionary and filling it up\n",
    "\n",
    "D = {}\n",
    "D['name'] = 'Dan'\n",
    "D['job'] = 'janitor'\n",
    "D['education'] = 'graduate'\n",
    "D['age'] = 50\n",
    "print(D)\n",
    "print(D['age'])"
   ]
  },
  {
   "cell_type": "code",
   "execution_count": 18,
   "metadata": {},
   "outputs": [
    {
     "name": "stdout",
     "output_type": "stream",
     "text": [
      "{'name': 'john', 'age': 33, 'education': 'high school'}\n"
     ]
    },
    {
     "data": {
      "text/plain": [
       "'john'"
      ]
     },
     "execution_count": 18,
     "metadata": {},
     "output_type": "execute_result"
    }
   ],
   "source": [
    "#creating a dictionary using zip operation\n",
    "\n",
    "dict2 = dict(zip(['name','age','education'],['john',33,'high school']))\n",
    "print(dict2)\n",
    "dict2['name']"
   ]
  },
  {
   "cell_type": "code",
   "execution_count": 19,
   "metadata": {},
   "outputs": [
    {
     "data": {
      "text/plain": [
       "{'name': 'john', 'age': 33, 'education': 'high school'}"
      ]
     },
     "execution_count": 19,
     "metadata": {},
     "output_type": "execute_result"
    }
   ],
   "source": [
    "dict2"
   ]
  },
  {
   "cell_type": "code",
   "execution_count": 20,
   "metadata": {},
   "outputs": [],
   "source": [
    "#nested dictionary\n",
    "rec = {'name': {'first': 'Bob', 'last': 'Smith'},\n",
    "'jobs': ['dev', 'mgr'],\n",
    "'age': 40.5}"
   ]
  },
  {
   "cell_type": "code",
   "execution_count": 31,
   "metadata": {},
   "outputs": [
    {
     "name": "stdout",
     "output_type": "stream",
     "text": [
      "Bob\n",
      "40.5\n",
      "['dev', 'mgr']\n",
      "dev\n"
     ]
    }
   ],
   "source": [
    "rec\n",
    "print(rec['name']['first']) # 'name' is a nested dictionary as well as index the nested dictionary\n",
    "print(rec['age'])\n",
    "print(rec['jobs'])\n",
    "print(rec['jobs'][-2])"
   ]
  },
  {
   "cell_type": "code",
   "execution_count": 38,
   "metadata": {},
   "outputs": [
    {
     "name": "stdout",
     "output_type": "stream",
     "text": [
      "{'name': {'first': 'Bob', 'last': 'Smith'}, 'jobs': ['dev', 'mgr', 'janitor'], 'age': 40.5}\n"
     ]
    }
   ],
   "source": [
    "rec['jobs'].append('janitor')\n",
    "print(rec)"
   ]
  },
  {
   "cell_type": "code",
   "execution_count": 45,
   "metadata": {},
   "outputs": [
    {
     "name": "stdout",
     "output_type": "stream",
     "text": [
      "missing\n",
      "no really\n"
     ]
    }
   ],
   "source": [
    "#using a simple if block to iterate over the dictionary D\n",
    "if 'term' in D:\n",
    "    print(\"in here\")\n",
    "else:\n",
    "    print(\"missing\")\n",
    "    print(\"no really\")"
   ]
  },
  {
   "cell_type": "code",
   "execution_count": 48,
   "metadata": {},
   "outputs": [
    {
     "data": {
      "text/plain": [
       "50"
      ]
     },
     "execution_count": 48,
     "metadata": {},
     "output_type": "execute_result"
    }
   ],
   "source": [
    "# using the get operation\n",
    "\n",
    "D.get('term')\n",
    "D.get('age')"
   ]
  },
  {
   "cell_type": "code",
   "execution_count": 52,
   "metadata": {},
   "outputs": [
    {
     "data": {
      "text/plain": [
       "{'a': 1, 'd': 4, 'b': 2, 'c': 3}"
      ]
     },
     "execution_count": 52,
     "metadata": {},
     "output_type": "execute_result"
    }
   ],
   "source": [
    "#Dictionaries are not ordered\n",
    "D = {'a': 1,'d':4, 'b': 2, 'c': 3}\n",
    "D"
   ]
  },
  {
   "cell_type": "code",
   "execution_count": 59,
   "metadata": {},
   "outputs": [
    {
     "name": "stdout",
     "output_type": "stream",
     "text": [
      "a => 1\n",
      "b => 2\n",
      "c => 3\n",
      "d => 4\n"
     ]
    }
   ],
   "source": [
    "#what to do to get the above in ordered seq\n",
    "\n",
    "keys_val = list(D.keys())\n",
    "keys_val.sort()\n",
    "keys_val\n",
    "\n",
    "#now we will iterate over\n",
    "for key in keys_val:\n",
    "    print(key,'=>',D[key])"
   ]
  },
  {
   "cell_type": "code",
   "execution_count": 61,
   "metadata": {},
   "outputs": [
    {
     "name": "stdout",
     "output_type": "stream",
     "text": [
      "a => 1\n",
      "b => 2\n",
      "c => 3\n",
      "d => 4\n"
     ]
    }
   ],
   "source": [
    "#above operation using the sorted function\n",
    "for key in sorted(D):\n",
    "    print(key,'=>',D[key])"
   ]
  },
  {
   "cell_type": "code",
   "execution_count": null,
   "metadata": {},
   "outputs": [],
   "source": []
  }
 ],
 "metadata": {
  "kernelspec": {
   "display_name": "Python 3.10.4 ('arka')",
   "language": "python",
   "name": "python3"
  },
  "language_info": {
   "codemirror_mode": {
    "name": "ipython",
    "version": 3
   },
   "file_extension": ".py",
   "mimetype": "text/x-python",
   "name": "python",
   "nbconvert_exporter": "python",
   "pygments_lexer": "ipython3",
   "version": "3.10.4"
  },
  "orig_nbformat": 4,
  "vscode": {
   "interpreter": {
    "hash": "fa46da6b9307ef350aad613908c1591a068b15a96db2be16e9d9e053b74e28ee"
   }
  }
 },
 "nbformat": 4,
 "nbformat_minor": 2
}

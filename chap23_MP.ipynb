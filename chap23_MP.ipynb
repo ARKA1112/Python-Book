{
 "cells": [
  {
   "cell_type": "code",
   "execution_count": 2,
   "metadata": {},
   "outputs": [
    {
     "data": {
      "text/plain": [
       "'spam'"
      ]
     },
     "execution_count": 2,
     "metadata": {},
     "output_type": "execute_result"
    }
   ],
   "source": [
    "#package import basics\n",
    "#import dir1.dir1.mod\n",
    "\n",
    "#same goes for the from statement\n",
    "#from dir1.dir1.mod import x\n",
    "\n",
    "from pyfiles import adddict\n",
    "\n",
    "#here the files is the folder that i have mentioned and the module which i want to access is the addict\n",
    "\n",
    "from pyfiles.chap3script1 import X   #access the X component of the chap3script1 which resides in the pyfiles folder\n",
    "X\n",
    "\n",
    "#import C:\\mycode\\dir1\\dir2\\mod is illegal statement\n",
    "\n",
    "#correct is to add the C:\\mycode to PYTHONPATH\n",
    "\n",
    "#then import dir1.dir2.mod"
   ]
  },
  {
   "cell_type": "markdown",
   "metadata": {},
   "source": [
    "#### Relative import basics"
   ]
  },
  {
   "cell_type": "code",
   "execution_count": 3,
   "metadata": {},
   "outputs": [],
   "source": [
    "#from . import spam   instructs python to import a module named spam located in the same package directory as the file in which this statement appears. \n",
    "\n",
    "\n",
    "#from .spam import name   mens \"from a module named spam located in the smae package as the file that contains this statemnet import the variable name\"\n"
   ]
  },
  {
   "cell_type": "code",
   "execution_count": 6,
   "metadata": {},
   "outputs": [],
   "source": [
    "\n",
    "import string   #works as it is in absolute path\n",
    "#from . import string dosent work for there is no package named string here"
   ]
  },
  {
   "cell_type": "code",
   "execution_count": 13,
   "metadata": {},
   "outputs": [
    {
     "ename": "ImportError",
     "evalue": "attempted relative import with no known parent package",
     "output_type": "error",
     "traceback": [
      "\u001b[0;31m---------------------------------------------------------------------------\u001b[0m",
      "\u001b[0;31mImportError\u001b[0m                               Traceback (most recent call last)",
      "\u001b[1;32m/home/susearc/Documents/github/Python-Book/chap23_MP.ipynb Cell 5\u001b[0m in \u001b[0;36m<cell line: 13>\u001b[0;34m()\u001b[0m\n\u001b[1;32m      <a href='vscode-notebook-cell:/home/susearc/Documents/github/Python-Book/chap23_MP.ipynb#W5sZmlsZQ%3D%3D?line=6'>7</a>\u001b[0m string       \u001b[39m#shows where this string is imported from\u001b[39;00m\n\u001b[1;32m      <a href='vscode-notebook-cell:/home/susearc/Documents/github/Python-Book/chap23_MP.ipynb#W5sZmlsZQ%3D%3D?line=8'>9</a>\u001b[0m \u001b[39m#this string is not the same as we created here\u001b[39;00m\n\u001b[1;32m     <a href='vscode-notebook-cell:/home/susearc/Documents/github/Python-Book/chap23_MP.ipynb#W5sZmlsZQ%3D%3D?line=9'>10</a>\u001b[0m \n\u001b[1;32m     <a href='vscode-notebook-cell:/home/susearc/Documents/github/Python-Book/chap23_MP.ipynb#W5sZmlsZQ%3D%3D?line=10'>11</a>\u001b[0m \u001b[39m#to import that string we need to do the following\u001b[39;00m\n\u001b[0;32m---> <a href='vscode-notebook-cell:/home/susearc/Documents/github/Python-Book/chap23_MP.ipynb#W5sZmlsZQ%3D%3D?line=12'>13</a>\u001b[0m \u001b[39mfrom\u001b[39;00m \u001b[39m.\u001b[39;00m \u001b[39mimport\u001b[39;00m string\n",
      "\u001b[0;31mImportError\u001b[0m: attempted relative import with no known parent package"
     ]
    }
   ],
   "source": [
    "#we have created a module named string here\n",
    "#we also have a standard built in module in python named string\n",
    "\n",
    "#if we do the following\n",
    "\n",
    "import string\n",
    "string       #shows where this string is imported from\n",
    "\n",
    "#this string is not the same as we created here\n",
    "\n",
    "#to import that string we need to do the following\n",
    "\n",
    "from . import string"
   ]
  },
  {
   "cell_type": "code",
   "execution_count": 4,
   "metadata": {},
   "outputs": [
    {
     "name": "stdout",
     "output_type": "stream",
     "text": [
      "not parent string\n"
     ]
    }
   ],
   "source": [
    "from pyfiles.string import namer\n",
    "namer()"
   ]
  },
  {
   "cell_type": "code",
   "execution_count": 113,
   "metadata": {},
   "outputs": [],
   "source": [
    "import pswdgen"
   ]
  },
  {
   "cell_type": "code",
   "execution_count": 116,
   "metadata": {},
   "outputs": [
    {
     "name": "stdout",
     "output_type": "stream",
     "text": [
      "smjniz7duu8ewx6sdbli\n"
     ]
    }
   ],
   "source": [
    "from importlib import reload\n",
    "reload(pswdgen)\n",
    "from pswdgen import repeater\n",
    "repeater(20)"
   ]
  },
  {
   "cell_type": "code",
   "execution_count": 121,
   "metadata": {},
   "outputs": [
    {
     "name": "stdout",
     "output_type": "stream",
     "text": [
      "c0yl310z\n"
     ]
    }
   ],
   "source": [
    "from pyfiles import pswdgen\n",
    "pswdgen.repeater(8)"
   ]
  },
  {
   "cell_type": "code",
   "execution_count": 12,
   "metadata": {},
   "outputs": [
    {
     "name": "stdout",
     "output_type": "stream",
     "text": [
      "kh11l\n"
     ]
    },
    {
     "data": {
      "text/plain": [
       "<module 'pyfiles.pkg.spam' from '/home/susearc/Documents/github/Python-Book/pyfiles/pkg/spam.py'>"
      ]
     },
     "execution_count": 12,
     "metadata": {},
     "output_type": "execute_result"
    }
   ],
   "source": [
    "from importlib import reload\n",
    "reload(spam)"
   ]
  },
  {
   "cell_type": "code",
   "execution_count": 10,
   "metadata": {},
   "outputs": [
    {
     "data": {
      "text/plain": [
       "<module 'pyfiles.pkg.spam' from '/home/susearc/Documents/github/Python-Book/pyfiles/pkg/spam.py'>"
      ]
     },
     "execution_count": 10,
     "metadata": {},
     "output_type": "execute_result"
    }
   ],
   "source": [
    "from pyfiles.pkg import spam\n",
    "spam"
   ]
  },
  {
   "cell_type": "code",
   "execution_count": null,
   "metadata": {},
   "outputs": [],
   "source": []
  }
 ],
 "metadata": {
  "kernelspec": {
   "display_name": "Python 3.10.4 ('arka')",
   "language": "python",
   "name": "python3"
  },
  "language_info": {
   "codemirror_mode": {
    "name": "ipython",
    "version": 3
   },
   "file_extension": ".py",
   "mimetype": "text/x-python",
   "name": "python",
   "nbconvert_exporter": "python",
   "pygments_lexer": "ipython3",
   "version": "3.10.4"
  },
  "orig_nbformat": 4,
  "vscode": {
   "interpreter": {
    "hash": "fa46da6b9307ef350aad613908c1591a068b15a96db2be16e9d9e053b74e28ee"
   }
  }
 },
 "nbformat": 4,
 "nbformat_minor": 2
}

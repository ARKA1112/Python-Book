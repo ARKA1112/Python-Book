{
 "cells": [
  {
   "cell_type": "code",
   "execution_count": 2,
   "metadata": {},
   "outputs": [
    {
     "data": {
      "text/plain": [
       "'spam'"
      ]
     },
     "execution_count": 2,
     "metadata": {},
     "output_type": "execute_result"
    }
   ],
   "source": [
    "#package import basics\n",
    "#import dir1.dir1.mod\n",
    "\n",
    "#same goes for the from statement\n",
    "#from dir1.dir1.mod import x\n",
    "\n",
    "from pyfiles import adddict\n",
    "\n",
    "#here the files is the folder that i have mentioned and the module which i want to access is the addict\n",
    "\n",
    "from pyfiles.chap3script1 import X   #access the X component of the chap3script1 which resides in the pyfiles folder\n",
    "X\n",
    "\n",
    "#import C:\\mycode\\dir1\\dir2\\mod is illegal statement\n",
    "\n",
    "#correct is to add the C:\\mycode to PYTHONPATH\n",
    "\n",
    "#then import dir1.dir2.mod"
   ]
  },
  {
   "cell_type": "code",
   "execution_count": null,
   "metadata": {},
   "outputs": [],
   "source": []
  }
 ],
 "metadata": {
  "kernelspec": {
   "display_name": "Python 3.10.4 ('arka')",
   "language": "python",
   "name": "python3"
  },
  "language_info": {
   "codemirror_mode": {
    "name": "ipython",
    "version": 3
   },
   "file_extension": ".py",
   "mimetype": "text/x-python",
   "name": "python",
   "nbconvert_exporter": "python",
   "pygments_lexer": "ipython3",
   "version": "3.10.4"
  },
  "orig_nbformat": 4,
  "vscode": {
   "interpreter": {
    "hash": "fa46da6b9307ef350aad613908c1591a068b15a96db2be16e9d9e053b74e28ee"
   }
  }
 },
 "nbformat": 4,
 "nbformat_minor": 2
}

{
 "cells": [
  {
   "cell_type": "markdown",
   "metadata": {},
   "source": [
    "Lists"
   ]
  },
  {
   "cell_type": "markdown",
   "metadata": {},
   "source": [
    "##### Lists are sequence type objects and mutable"
   ]
  },
  {
   "cell_type": "code",
   "execution_count": 21,
   "metadata": {},
   "outputs": [
    {
     "name": "stdout",
     "output_type": "stream",
     "text": [
      "123\n",
      "1.23\n",
      "['spam', '1.23']\n",
      "['123', 'spam', '1.23', '123', 'spam', '1.23']\n",
      "['123', 'spam', '1.23', '123', 'spam', '1.23', '123', 'spam', '1.23']\n"
     ]
    }
   ],
   "source": [
    "L = ['123','spam','1.23']\n",
    "print(L[0])\n",
    "print(L[-1])\n",
    "print(L[1:])\n",
    "print(L+L)\n",
    "print(L*3)"
   ]
  },
  {
   "cell_type": "markdown",
   "metadata": {},
   "source": [
    "#### Type specific operations"
   ]
  },
  {
   "cell_type": "code",
   "execution_count": 26,
   "metadata": {},
   "outputs": [],
   "source": [
    "L.append('NI')     #what append does ; pop does the opposite"
   ]
  },
  {
   "cell_type": "code",
   "execution_count": 27,
   "metadata": {},
   "outputs": [
    {
     "name": "stdout",
     "output_type": "stream",
     "text": [
      "['123', 'spam', 'NI']\n",
      "['123', 'spam']\n"
     ]
    }
   ],
   "source": [
    "print(L)\n",
    "L.pop(2)   #removes the item in the specified index positions\n",
    "print(L)   #and removes it permanently"
   ]
  },
  {
   "cell_type": "code",
   "execution_count": 35,
   "metadata": {},
   "outputs": [
    {
     "name": "stdout",
     "output_type": "stream",
     "text": [
      "['aa', 'bb', 'cc', 'dd']\n",
      "['dd', 'cc', 'bb', 'aa']\n"
     ]
    }
   ],
   "source": [
    "#few list operations\n",
    "M = ['dd','aa','bb','cc']\n",
    "M.sort()\n",
    "print(M)\n",
    "M.reverse()\n",
    "print(M)"
   ]
  },
  {
   "cell_type": "markdown",
   "metadata": {},
   "source": [
    "##### Nesting\n"
   ]
  },
  {
   "cell_type": "code",
   "execution_count": 44,
   "metadata": {},
   "outputs": [
    {
     "name": "stdout",
     "output_type": "stream",
     "text": [
      "67\n",
      "[2, 4, 67]\n"
     ]
    },
    {
     "data": {
      "text/plain": [
       "[2, 4]"
      ]
     },
     "execution_count": 44,
     "metadata": {},
     "output_type": "execute_result"
    }
   ],
   "source": [
    "#Declariig a matrix M\n",
    "M = [[1,2,3],[3,4,50],[5,67,88]]\n",
    "print(M[2][1]) #calling an index position\n",
    "print([row[1] for row in M])\n",
    "[row[1] for row in M if row[1] % 2 == 0] # filter out the numbers that fulfill the conditions"
   ]
  },
  {
   "cell_type": "code",
   "execution_count": 50,
   "metadata": {},
   "outputs": [
    {
     "name": "stdout",
     "output_type": "stream",
     "text": [
      "[[1, 2, 3], [3, 4, 50], [5, 67, 88]]\n",
      "[1, 4, 88]\n"
     ]
    }
   ],
   "source": [
    "# Collecting  a diagonal form the matrix M\n",
    "print(M)\n",
    "diag1 = [M[i][i] for i in [0,1,2]]\n",
    "print(diag1)"
   ]
  },
  {
   "cell_type": "code",
   "execution_count": 54,
   "metadata": {},
   "outputs": [
    {
     "name": "stdout",
     "output_type": "stream",
     "text": [
      "['ss', 'pp', 'aa', 'mm']\n"
     ]
    }
   ],
   "source": [
    "#repeat characters in a string\n",
    "s = 'spam'\n",
    "rep_s = [i*2 for i in s]  #As the S is a sequencr\n",
    "print(rep_s)"
   ]
  },
  {
   "cell_type": "code",
   "execution_count": 60,
   "metadata": {},
   "outputs": [
    {
     "data": {
      "text/plain": [
       "[[[-0.5], [1], [-0.2]],\n",
       " [[0.0], [0], [0.0]],\n",
       " [[0.5], [1], [0.2]],\n",
       " [[1.0], [4], [0.4]],\n",
       " [[1.5], [9], [0.6]],\n",
       " [[2.0], [16], [0.8]]]"
      ]
     },
     "execution_count": 60,
     "metadata": {},
     "output_type": "execute_result"
    }
   ],
   "source": [
    "#important list operations\n",
    "\n",
    "list(range(4))\n",
    "list(range(-3,5))\n",
    "[[[x/2],[x**2],[x/5]] for x in list(range(-3,5)) if x>-2]"
   ]
  },
  {
   "cell_type": "code",
   "execution_count": 61,
   "metadata": {},
   "outputs": [],
   "source": [
    "G = (sum(row) for row in M)"
   ]
  },
  {
   "cell_type": "code",
   "execution_count": 66,
   "metadata": {},
   "outputs": [
    {
     "ename": "StopIteration",
     "evalue": "",
     "output_type": "error",
     "traceback": [
      "\u001b[0;31m---------------------------------------------------------------------------\u001b[0m",
      "\u001b[0;31mStopIteration\u001b[0m                             Traceback (most recent call last)",
      "\u001b[1;32m/home/arkapanda/Documents/github/Python-Book/chap4_lists.ipynb Cell 14\u001b[0m in \u001b[0;36m<cell line: 1>\u001b[0;34m()\u001b[0m\n\u001b[0;32m----> <a href='vscode-notebook-cell:/home/arkapanda/Documents/github/Python-Book/chap4_lists.ipynb#X31sZmlsZQ%3D%3D?line=0'>1</a>\u001b[0m \u001b[39mnext\u001b[39;49m(G)\n\u001b[1;32m      <a href='vscode-notebook-cell:/home/arkapanda/Documents/github/Python-Book/chap4_lists.ipynb#X31sZmlsZQ%3D%3D?line=1'>2</a>\u001b[0m \u001b[39mnext\u001b[39m(G)\n",
      "\u001b[0;31mStopIteration\u001b[0m: "
     ]
    }
   ],
   "source": [
    "next(G)\n",
    "next(G)"
   ]
  },
  {
   "cell_type": "code",
   "execution_count": 67,
   "metadata": {},
   "outputs": [
    {
     "data": {
      "text/plain": [
       "[6, 57, 160]"
      ]
     },
     "execution_count": 67,
     "metadata": {},
     "output_type": "execute_result"
    }
   ],
   "source": [
    "# in order to omit the above next operation we can do the following\n",
    "\n",
    "list(map(sum,M))"
   ]
  },
  {
   "cell_type": "code",
   "execution_count": 68,
   "metadata": {},
   "outputs": [
    {
     "data": {
      "text/plain": [
       "{6, 57, 160}"
      ]
     },
     "execution_count": 68,
     "metadata": {},
     "output_type": "execute_result"
    }
   ],
   "source": [
    "#creating a set and displaying the sum for each row\n",
    "\n",
    "{sum(row) for row in M}"
   ]
  },
  {
   "cell_type": "code",
   "execution_count": 71,
   "metadata": {},
   "outputs": [
    {
     "data": {
      "text/plain": [
       "{0: 6, 1: 57, 2: 160}"
      ]
     },
     "execution_count": 71,
     "metadata": {},
     "output_type": "execute_result"
    }
   ],
   "source": [
    "#create a key value table and performing the above operation\n",
    "{i:sum(M[i]) for i in range(3)}"
   ]
  },
  {
   "cell_type": "code",
   "execution_count": null,
   "metadata": {},
   "outputs": [],
   "source": []
  }
 ],
 "metadata": {
  "kernelspec": {
   "display_name": "Python 3.8.8 ('arka')",
   "language": "python",
   "name": "python3"
  },
  "language_info": {
   "codemirror_mode": {
    "name": "ipython",
    "version": 3
   },
   "file_extension": ".py",
   "mimetype": "text/x-python",
   "name": "python",
   "nbconvert_exporter": "python",
   "pygments_lexer": "ipython3",
   "version": "3.8.8"
  },
  "orig_nbformat": 4,
  "vscode": {
   "interpreter": {
    "hash": "c31c384f5fd0255c2ec0e7740eeefa95ced326fc47538bade73e47175223050c"
   }
  }
 },
 "nbformat": 4,
 "nbformat_minor": 2
}

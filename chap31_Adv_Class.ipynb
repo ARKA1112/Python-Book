{
 "cells": [
  {
   "cell_type": "markdown",
   "metadata": {},
   "source": [
    "#### Extending Types by Embedding"
   ]
  },
  {
   "cell_type": "code",
   "execution_count": null,
   "metadata": {},
   "outputs": [],
   "source": [
    "#refer setwrapper.py"
   ]
  },
  {
   "cell_type": "code",
   "execution_count": null,
   "metadata": {},
   "outputs": [],
   "source": [
    "#refer to typesubclass.py\n",
    "\n",
    "from operator import getitem\n",
    "\n",
    "\n",
    "L = [1,2,3,4,6]\n"
   ]
  },
  {
   "cell_type": "code",
   "execution_count": null,
   "metadata": {},
   "outputs": [],
   "source": [
    "#refer to setsubclass.py\n",
    "import torch\n",
    "type(torch)\n",
    "torch.__doc__\n",
    "len(torch.__all__)   \n",
    "len(torch.nn.__dict__)"
   ]
  },
  {
   "cell_type": "code",
   "execution_count": null,
   "metadata": {},
   "outputs": [],
   "source": [
    "#added in sagemaker studio"
   ]
  },
  {
   "cell_type": "code",
   "execution_count": null,
   "metadata": {},
   "outputs": [],
   "source": [
    "class C: pass\n",
    "I = C()\n",
    "I.__class__"
   ]
  },
  {
   "cell_type": "code",
   "execution_count": null,
   "metadata": {},
   "outputs": [],
   "source": [
    "type(L).__class__"
   ]
  },
  {
   "cell_type": "code",
   "execution_count": null,
   "metadata": {},
   "outputs": [],
   "source": [
    "isinstance(I, object)"
   ]
  },
  {
   "cell_type": "code",
   "execution_count": null,
   "metadata": {},
   "outputs": [],
   "source": [
    "#Diamond inheritance example\n",
    "\n",
    "class A: attr = 1\n",
    "\n",
    "class B(A): pass\n",
    "\n",
    "class C(A): attr = 2\n",
    "\n",
    "class D(B, C): pass\n",
    "\n",
    "x = D()\n",
    "x.attr    #attribute found at C(A) ie nearest"
   ]
  },
  {
   "cell_type": "code",
   "execution_count": null,
   "metadata": {},
   "outputs": [],
   "source": [
    "#To explicitly search from one of the attributes of the class\n",
    "#tree we can also do the following."
   ]
  },
  {
   "cell_type": "code",
   "execution_count": null,
   "metadata": {},
   "outputs": [],
   "source": [
    "#Diamond inheritance example\n",
    "\n",
    "class A: attr = 1\n",
    "\n",
    "class B(A): pass\n",
    "\n",
    "class C(A): attr = 2\n",
    "\n",
    "class D(B, C): \n",
    "    attr = A.attr\n",
    "\n",
    "x = D()\n",
    "x.attr    #explicitly attribute of class A"
   ]
  },
  {
   "cell_type": "markdown",
   "metadata": {},
   "source": [
    "#### New Style Class Extensions"
   ]
  },
  {
   "cell_type": "code",
   "execution_count": null,
   "metadata": {},
   "outputs": [],
   "source": [
    "#assigning instance slots\n",
    "\n",
    "class limiter(object):\n",
    "    __slots__ = ['age', 'name', 'job']    #only these attributes can be assigned\n",
    "\n",
    "x = limiter()\n",
    "x.age = 40\n",
    "x.age\n",
    "\n",
    "#also __slots__ means no __dict__ by default"
   ]
  },
  {
   "cell_type": "code",
   "execution_count": null,
   "metadata": {},
   "outputs": [],
   "source": [
    "#x.ape = 1000   no attribute named ape to be assigned"
   ]
  },
  {
   "cell_type": "code",
   "execution_count": null,
   "metadata": {},
   "outputs": [],
   "source": [
    "class D:\n",
    "    __slots__ = ['a', 'b', '__dict__']   #automatically disables __dict__\n",
    "    c = 3\n",
    "    def __init__(self):\n",
    "        self.d = 4           #cannot add new names if no __dict__\n",
    "\n"
   ]
  },
  {
   "cell_type": "code",
   "execution_count": null,
   "metadata": {},
   "outputs": [],
   "source": [
    "#X = D()   will not work as there are no attributes named d\n",
    "\n",
    "\n",
    "#This issue can be solved by putting d in __slots__\n",
    "X = D()\n",
    "X.b = 4\n",
    "X.__dict__\n",
    "X.__slots__\n",
    "X.a = 1\n",
    "\n",
    "getattr(X, 'a'), getattr(X, 'c')"
   ]
  },
  {
   "cell_type": "code",
   "execution_count": null,
   "metadata": {},
   "outputs": [],
   "source": [
    "#showing the attributes\n",
    "\n",
    "\n",
    "for attr in list(X.__dict__) + X.__slots__:\n",
    "    print(attr, '=>', getattr(X, attr))"
   ]
  },
  {
   "cell_type": "code",
   "execution_count": null,
   "metadata": {},
   "outputs": [],
   "source": []
  }
 ],
 "metadata": {
  "kernelspec": {
   "display_name": "Python 3.10.6 ('arka')",
   "language": "python",
   "name": "python3"
  },
  "language_info": {
   "codemirror_mode": {
    "name": "ipython",
    "version": 3
   },
   "file_extension": ".py",
   "mimetype": "text/x-python",
   "name": "python",
   "nbconvert_exporter": "python",
   "pygments_lexer": "ipython3",
   "version": "3.10.6"
  },
  "vscode": {
   "interpreter": {
    "hash": "fa46da6b9307ef350aad613908c1591a068b15a96db2be16e9d9e053b74e28ee"
   }
  }
 },
 "nbformat": 4,
 "nbformat_minor": 4
}

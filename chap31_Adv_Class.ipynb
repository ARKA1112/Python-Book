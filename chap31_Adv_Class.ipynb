{
 "cells": [
  {
   "cell_type": "markdown",
   "metadata": {},
   "source": [
    "#### Extending Types by Embedding"
   ]
  },
  {
   "cell_type": "code",
   "execution_count": 3,
   "metadata": {},
   "outputs": [],
   "source": [
    "#refer setwrapper.py"
   ]
  },
  {
   "cell_type": "code",
   "execution_count": 4,
   "metadata": {},
   "outputs": [],
   "source": [
    "#refer to typesubclass.py\n",
    "\n",
    "from operator import getitem\n",
    "\n",
    "\n",
    "L = [1,2,3,4,6]\n"
   ]
  },
  {
   "cell_type": "code",
   "execution_count": 5,
   "metadata": {},
   "outputs": [
    {
     "data": {
      "text/plain": [
       "181"
      ]
     },
     "execution_count": 5,
     "metadata": {},
     "output_type": "execute_result"
    }
   ],
   "source": [
    "#refer to setsubclass.py\n",
    "import torch\n",
    "type(torch)\n",
    "torch.__doc__\n",
    "len(torch.__all__)   \n",
    "len(torch.nn.__dict__)"
   ]
  },
  {
   "cell_type": "code",
   "execution_count": 6,
   "metadata": {},
   "outputs": [],
   "source": [
    "#added in sagemaker studio"
   ]
  },
  {
   "cell_type": "code",
   "execution_count": 7,
   "metadata": {},
   "outputs": [
    {
     "data": {
      "text/plain": [
       "__main__.C"
      ]
     },
     "execution_count": 7,
     "metadata": {},
     "output_type": "execute_result"
    }
   ],
   "source": [
    "class C: pass\n",
    "I = C()\n",
    "I.__class__"
   ]
  },
  {
   "cell_type": "code",
   "execution_count": 8,
   "metadata": {},
   "outputs": [
    {
     "data": {
      "text/plain": [
       "type"
      ]
     },
     "execution_count": 8,
     "metadata": {},
     "output_type": "execute_result"
    }
   ],
   "source": [
    "type(L).__class__"
   ]
  },
  {
   "cell_type": "code",
   "execution_count": 9,
   "metadata": {},
   "outputs": [
    {
     "data": {
      "text/plain": [
       "True"
      ]
     },
     "execution_count": 9,
     "metadata": {},
     "output_type": "execute_result"
    }
   ],
   "source": [
    "isinstance(I, object)"
   ]
  },
  {
   "cell_type": "code",
   "execution_count": 10,
   "metadata": {},
   "outputs": [
    {
     "data": {
      "text/plain": [
       "2"
      ]
     },
     "execution_count": 10,
     "metadata": {},
     "output_type": "execute_result"
    }
   ],
   "source": [
    "#Diamond inheritance example\n",
    "\n",
    "class A: attr = 1\n",
    "\n",
    "class B(A): pass\n",
    "\n",
    "class C(A): attr = 2\n",
    "\n",
    "class D(B, C): pass\n",
    "\n",
    "x = D()\n",
    "x.attr    #attribute found at C(A) ie nearest"
   ]
  },
  {
   "cell_type": "code",
   "execution_count": 11,
   "metadata": {},
   "outputs": [],
   "source": [
    "#To explicitly search from one of the attributes of the class\n",
    "#tree we can also do the following."
   ]
  },
  {
   "cell_type": "code",
   "execution_count": 12,
   "metadata": {},
   "outputs": [
    {
     "data": {
      "text/plain": [
       "1"
      ]
     },
     "execution_count": 12,
     "metadata": {},
     "output_type": "execute_result"
    }
   ],
   "source": [
    "#Diamond inheritance example\n",
    "\n",
    "class A: attr = 1\n",
    "\n",
    "class B(A): pass\n",
    "\n",
    "class C(A): attr = 2\n",
    "\n",
    "class D(B, C): \n",
    "    attr = A.attr\n",
    "\n",
    "x = D()\n",
    "x.attr    #explicitly attribute of class A"
   ]
  },
  {
   "cell_type": "markdown",
   "metadata": {},
   "source": [
    "#### New Style Class Extensions"
   ]
  },
  {
   "cell_type": "code",
   "execution_count": 13,
   "metadata": {},
   "outputs": [
    {
     "data": {
      "text/plain": [
       "40"
      ]
     },
     "execution_count": 13,
     "metadata": {},
     "output_type": "execute_result"
    }
   ],
   "source": [
    "#assigning instance slots\n",
    "\n",
    "class limiter(object):\n",
    "    __slots__ = ['age', 'name', 'job']    #only these attributes can be assigned\n",
    "\n",
    "x = limiter()\n",
    "x.age = 40\n",
    "x.age\n",
    "\n",
    "#also __slots__ means no __dict__ by default"
   ]
  },
  {
   "cell_type": "code",
   "execution_count": 14,
   "metadata": {},
   "outputs": [],
   "source": [
    "#x.ape = 1000   no attribute named ape to be assigned"
   ]
  },
  {
   "cell_type": "code",
   "execution_count": 15,
   "metadata": {},
   "outputs": [],
   "source": [
    "class D:\n",
    "    __slots__ = ['a', 'b', '__dict__']   #automatically disables __dict__\n",
    "    c = 3\n",
    "    def __init__(self):\n",
    "        self.d = 4           #cannot add new names if no __dict__\n",
    "\n"
   ]
  },
  {
   "cell_type": "code",
   "execution_count": 16,
   "metadata": {},
   "outputs": [
    {
     "data": {
      "text/plain": [
       "(1, 3)"
      ]
     },
     "execution_count": 16,
     "metadata": {},
     "output_type": "execute_result"
    }
   ],
   "source": [
    "#X = D()   will not work as there are no attributes named d\n",
    "\n",
    "\n",
    "#This issue can be solved by putting d in __slots__\n",
    "X = D()\n",
    "X.b = 4\n",
    "X.__dict__\n",
    "X.__slots__\n",
    "X.a = 1\n",
    "\n",
    "getattr(X, 'a'), getattr(X, 'c')"
   ]
  },
  {
   "cell_type": "code",
   "execution_count": 17,
   "metadata": {},
   "outputs": [
    {
     "name": "stdout",
     "output_type": "stream",
     "text": [
      "d => 4\n",
      "a => 1\n",
      "b => 4\n",
      "__dict__ => {'d': 4}\n"
     ]
    }
   ],
   "source": [
    "#showing the attributes\n",
    "\n",
    "\n",
    "for attr in list(X.__dict__) + X.__slots__:\n",
    "    print(attr, '=>', getattr(X, attr))"
   ]
  },
  {
   "cell_type": "code",
   "execution_count": 18,
   "metadata": {},
   "outputs": [],
   "source": [
    "class E:\n",
    "    __slots__ = ['c', 'd']\n",
    "\n",
    "class D(E):\n",
    "    __slots__ = ['a', '__dict__']"
   ]
  },
  {
   "cell_type": "code",
   "execution_count": 19,
   "metadata": {},
   "outputs": [
    {
     "data": {
      "text/plain": [
       "(1, 2, 3)"
      ]
     },
     "execution_count": 19,
     "metadata": {},
     "output_type": "execute_result"
    }
   ],
   "source": [
    "X = D()\n",
    "X.a = 1; X.b = 2; X.c = 3\n",
    "X.a, X.b, X.c"
   ]
  },
  {
   "cell_type": "code",
   "execution_count": 20,
   "metadata": {},
   "outputs": [
    {
     "data": {
      "text/plain": [
       "['c', 'd']"
      ]
     },
     "execution_count": 20,
     "metadata": {},
     "output_type": "execute_result"
    }
   ],
   "source": [
    "E.__slots__"
   ]
  },
  {
   "cell_type": "code",
   "execution_count": 21,
   "metadata": {},
   "outputs": [
    {
     "data": {
      "text/plain": [
       "['a', '__dict__']"
      ]
     },
     "execution_count": 21,
     "metadata": {},
     "output_type": "execute_result"
    }
   ],
   "source": [
    "D.__slots__ #it also inherits from E"
   ]
  },
  {
   "cell_type": "code",
   "execution_count": 22,
   "metadata": {},
   "outputs": [
    {
     "name": "stdout",
     "output_type": "stream",
     "text": [
      "b => 2\n",
      "a => 1\n",
      "__dict__ => {'b': 2}\n"
     ]
    }
   ],
   "source": [
    "for attr in list(getattr(X, '__dict__', [])) + getattr(X, '__slots__', []):\n",
    "\n",
    "    print(attr, '=>', getattr(X, attr))"
   ]
  },
  {
   "cell_type": "code",
   "execution_count": 23,
   "metadata": {},
   "outputs": [
    {
     "data": {
      "text/plain": [
       "['__class__',\n",
       " '__delattr__',\n",
       " '__dict__',\n",
       " '__dir__',\n",
       " '__doc__',\n",
       " '__eq__',\n",
       " '__format__',\n",
       " '__ge__',\n",
       " '__getattribute__',\n",
       " '__gt__',\n",
       " '__hash__',\n",
       " '__init__',\n",
       " '__init_subclass__',\n",
       " '__le__',\n",
       " '__lt__',\n",
       " '__module__',\n",
       " '__ne__',\n",
       " '__new__',\n",
       " '__reduce__',\n",
       " '__reduce_ex__',\n",
       " '__repr__',\n",
       " '__setattr__',\n",
       " '__sizeof__',\n",
       " '__slots__',\n",
       " '__str__',\n",
       " '__subclasshook__',\n",
       " 'a',\n",
       " 'b',\n",
       " 'c',\n",
       " 'd']"
      ]
     },
     "execution_count": 23,
     "metadata": {},
     "output_type": "execute_result"
    }
   ],
   "source": [
    "dir(X)"
   ]
  },
  {
   "cell_type": "markdown",
   "metadata": {},
   "source": [
    "#### Class Properties"
   ]
  },
  {
   "cell_type": "code",
   "execution_count": 24,
   "metadata": {},
   "outputs": [],
   "source": [
    "#For example, the __getattr__ method allows classes to in-tercept undefined attribute references"
   ]
  },
  {
   "cell_type": "code",
   "execution_count": 25,
   "metadata": {},
   "outputs": [],
   "source": [
    "class classic:\n",
    "    def __getattr__(self, name):\n",
    "        if name == 'age':\n",
    "            return 40\n",
    "        else:\n",
    "            raise AttributeError"
   ]
  },
  {
   "cell_type": "code",
   "execution_count": 26,
   "metadata": {},
   "outputs": [],
   "source": [
    "X = classic()\n",
    "X.age = 40\n",
    "#X.name  raises attribute error"
   ]
  },
  {
   "cell_type": "code",
   "execution_count": 27,
   "metadata": {},
   "outputs": [
    {
     "data": {
      "text/plain": [
       "40"
      ]
     },
     "execution_count": 27,
     "metadata": {},
     "output_type": "execute_result"
    }
   ],
   "source": [
    "class newprops(object):\n",
    "    def getage(self):\n",
    "        return 40\n",
    "    age = property(getage, None, None, None)\n",
    "\n",
    "x = newprops()\n",
    "x.age"
   ]
  },
  {
   "cell_type": "code",
   "execution_count": 28,
   "metadata": {},
   "outputs": [],
   "source": [
    "class newprops(object):\n",
    "    def getage(self):\n",
    "        return 40\n",
    "    def setage(self, value):\n",
    "        print('set age ', value)\n",
    "        self._age = value\n",
    "    age = property(getage, setage, None, None)"
   ]
  },
  {
   "cell_type": "code",
   "execution_count": 29,
   "metadata": {},
   "outputs": [
    {
     "data": {
      "text/plain": [
       "40"
      ]
     },
     "execution_count": 29,
     "metadata": {},
     "output_type": "execute_result"
    }
   ],
   "source": [
    "x = newprops()\n",
    "x.age"
   ]
  },
  {
   "cell_type": "code",
   "execution_count": 30,
   "metadata": {},
   "outputs": [
    {
     "name": "stdout",
     "output_type": "stream",
     "text": [
      "set age  42\n"
     ]
    },
    {
     "data": {
      "text/plain": [
       "'trainer'"
      ]
     },
     "execution_count": 30,
     "metadata": {},
     "output_type": "execute_result"
    }
   ],
   "source": [
    "x.age = 42\n",
    "x._age\n",
    "\n",
    "x.job = 'trainer'\n",
    "x.job"
   ]
  },
  {
   "cell_type": "code",
   "execution_count": 31,
   "metadata": {},
   "outputs": [],
   "source": [
    "class classic:\n",
    "    def __getattr__(self, name):\n",
    "        if name == 'age':\n",
    "            return 40\n",
    "        else:\n",
    "            raise AttributeError\n",
    "\n",
    "    def __setattr__(self, name, value):\n",
    "        print('set: ', name, value)\n",
    "        if name == 'age':\n",
    "            self.__dict__['_age'] = value\n",
    "        else:\n",
    "            self.__dict__[name]  = value"
   ]
  },
  {
   "cell_type": "code",
   "execution_count": 32,
   "metadata": {},
   "outputs": [
    {
     "name": "stdout",
     "output_type": "stream",
     "text": [
      "set:  age 41\n"
     ]
    },
    {
     "data": {
      "text/plain": [
       "41"
      ]
     },
     "execution_count": 32,
     "metadata": {},
     "output_type": "execute_result"
    }
   ],
   "source": [
    "x = classic()\n",
    "x.age\n",
    "x.age = 41\n",
    "x._age"
   ]
  },
  {
   "cell_type": "code",
   "execution_count": 33,
   "metadata": {},
   "outputs": [],
   "source": [
    "#refer to spam.py"
   ]
  },
  {
   "cell_type": "code",
   "execution_count": 34,
   "metadata": {},
   "outputs": [],
   "source": [
    "class Spam:\n",
    "    numInstances = 0\n",
    "    def __init__(self):\n",
    "        Spam.numInstances = Spam.numInstances + 1\n",
    "    def printNumInstances(): #-----> self less static method\n",
    "        print('number of instances created', Spam.numInstances)"
   ]
  },
  {
   "cell_type": "code",
   "execution_count": 35,
   "metadata": {},
   "outputs": [
    {
     "name": "stdout",
     "output_type": "stream",
     "text": [
      "number of instances created 3\n"
     ]
    }
   ],
   "source": [
    "\n",
    "a = Spam()\n",
    "b = Spam()\n",
    "c = Spam()\n",
    "\n",
    "\n",
    "Spam.printNumInstances() #-------static method, these methods work for all the instances and are not ordinary functons\n",
    "\n",
    "#as new instances get created it gets added to the numinstances\n"
   ]
  },
  {
   "cell_type": "markdown",
   "metadata": {},
   "source": [
    "#### Static method alternatives"
   ]
  },
  {
   "cell_type": "code",
   "execution_count": 36,
   "metadata": {},
   "outputs": [],
   "source": [
    "#define the function outside the class\n",
    "def printNumInstances():\n",
    "    print(\"Number of instances created: \", Spam.numInstances)\n",
    "class Spam:\n",
    "    numInstances = 0\n",
    "    def __init__(self) -> None:\n",
    "        Spam.numInstances = Spam.numInstances + 1"
   ]
  },
  {
   "cell_type": "code",
   "execution_count": 37,
   "metadata": {},
   "outputs": [
    {
     "name": "stdout",
     "output_type": "stream",
     "text": [
      "Number of instances created:  3\n"
     ]
    }
   ],
   "source": [
    "a = Spam()   #instance\n",
    "b = Spam()   #\"\n",
    "c = Spam()\n",
    "\n",
    "printNumInstances()"
   ]
  },
  {
   "cell_type": "code",
   "execution_count": 38,
   "metadata": {},
   "outputs": [
    {
     "name": "stdout",
     "output_type": "stream",
     "text": [
      "Number of instances:  3\n",
      "Number of instances:  3\n",
      "Number of instances:  3\n",
      "Number of instances:  4\n"
     ]
    }
   ],
   "source": [
    "#creating static in a version neutral way\n",
    "\n",
    "class Spam:\n",
    "    numInstances = 0\n",
    "    def __init__(self) -> None:\n",
    "        Spam.numInstances = Spam.numInstances + 1\n",
    "    def printNumInstances(self):\n",
    "        print(\"Number of instances: \", Spam.numInstances)\n",
    "\n",
    "\n",
    "a, b, c = Spam(), Spam(), Spam()\n",
    "\n",
    "a.printNumInstances()\n",
    "b.printNumInstances()\n",
    "c.printNumInstances()\n",
    "Spam().printNumInstances()   #spam itself and all the others"
   ]
  },
  {
   "cell_type": "markdown",
   "metadata": {},
   "source": [
    "#### Using Static and Class Methods"
   ]
  },
  {
   "cell_type": "code",
   "execution_count": 39,
   "metadata": {},
   "outputs": [],
   "source": [
    "class Methods:\n",
    "    def imeth(self, x):\n",
    "        print(self, x)\n",
    "\n",
    "    def smeth(x):\n",
    "        print(x)\n",
    "\n",
    "    def cmeth(cls, x):\n",
    "        print(cls, x)\n",
    "\n",
    "    smeth = staticmethod(smeth)   #changes the method from what it assigned\n",
    "    cmeth = classmethod(cmeth)"
   ]
  },
  {
   "cell_type": "code",
   "execution_count": 40,
   "metadata": {},
   "outputs": [
    {
     "name": "stdout",
     "output_type": "stream",
     "text": [
      "<__main__.Methods object at 0x7f0e7012f8b0> 1\n",
      "<__main__.Methods object at 0x7f0e7012f8b0> 2\n",
      "3\n",
      "4\n",
      "<class '__main__.Methods'> 5\n",
      "<class '__main__.Methods'> 6\n"
     ]
    }
   ],
   "source": [
    "#instance method\n",
    "\n",
    "obj = Methods()    \n",
    "\n",
    "obj.imeth(1)   #normal method call through instance\n",
    "\n",
    "Methods.imeth(obj, 2)  #normal method call through class\n",
    "\n",
    "Methods.smeth(3)     #static method call through class\n",
    "\n",
    "obj.smeth(4)         #Static method, call through instance\n",
    "\n",
    "Methods.cmeth(5)     #class method, call through class\n",
    "\n",
    "obj.cmeth(6)         #class method, call through instance"
   ]
  },
  {
   "cell_type": "markdown",
   "metadata": {},
   "source": [
    "#### Counting Instances with Static Methods"
   ]
  },
  {
   "cell_type": "code",
   "execution_count": 41,
   "metadata": {},
   "outputs": [
    {
     "data": {
      "text/plain": [
       "'Now, given these built-ins, here is the static method equivalent of this section’s\\ninstance-counting example—it marks the method as special, so it will never be passed\\nan instance automatically:'"
      ]
     },
     "execution_count": 41,
     "metadata": {},
     "output_type": "execute_result"
    }
   ],
   "source": [
    "\"\"\"Now, given these built-ins, here is the static method equivalent of this section’s\n",
    "instance-counting example—it marks the method as special, so it will never be passed\n",
    "an instance automatically:\"\"\""
   ]
  },
  {
   "cell_type": "code",
   "execution_count": 42,
   "metadata": {},
   "outputs": [],
   "source": [
    "class Spam:\n",
    "    numInstances = 0\n",
    "    def __init__(self) -> None:\n",
    "        Spam.numInstances += 1\n",
    "    def printNumInstances():\n",
    "        print(\"number of instances: \", Spam.numInstances)\n",
    "    printNumInstances = staticmethod(printNumInstances)"
   ]
  },
  {
   "cell_type": "code",
   "execution_count": 43,
   "metadata": {},
   "outputs": [
    {
     "name": "stdout",
     "output_type": "stream",
     "text": [
      "number of instances:  1\n"
     ]
    }
   ],
   "source": [
    "a = Spam()\n",
    "a.printNumInstances()"
   ]
  },
  {
   "cell_type": "code",
   "execution_count": 44,
   "metadata": {},
   "outputs": [
    {
     "name": "stdout",
     "output_type": "stream",
     "text": [
      "number of instances:  1\n"
     ]
    }
   ],
   "source": [
    "Spam.printNumInstances()"
   ]
  },
  {
   "cell_type": "markdown",
   "metadata": {},
   "source": [
    "#### Inheriting and overriding a static method\n",
    "\n"
   ]
  },
  {
   "cell_type": "code",
   "execution_count": 45,
   "metadata": {},
   "outputs": [],
   "source": [
    "class Sub(Spam):                   #inherits the Spam class\n",
    "    def printNumInstances():\n",
    "        print(\"extra Stugff\")      #modifying inherited function\n",
    "        Spam.printNumInstances()   #also using the inherited function\n",
    "    printNumInstances = staticmethod(printNumInstances)"
   ]
  },
  {
   "cell_type": "code",
   "execution_count": 46,
   "metadata": {},
   "outputs": [
    {
     "name": "stdout",
     "output_type": "stream",
     "text": [
      "extra Stugff\n",
      "number of instances:  4\n"
     ]
    }
   ],
   "source": [
    "a = Sub()\n",
    "b = Sub()\n",
    "c = Sub()\n",
    "\n",
    "a.printNumInstances()"
   ]
  },
  {
   "cell_type": "code",
   "execution_count": 47,
   "metadata": {},
   "outputs": [],
   "source": [
    "class Other(Spam):\n",
    "    pass"
   ]
  },
  {
   "cell_type": "code",
   "execution_count": 48,
   "metadata": {},
   "outputs": [],
   "source": [
    "a = Other()"
   ]
  },
  {
   "cell_type": "code",
   "execution_count": 49,
   "metadata": {},
   "outputs": [
    {
     "name": "stdout",
     "output_type": "stream",
     "text": [
      "number of instances:  5\n"
     ]
    }
   ],
   "source": [
    "a.printNumInstances()"
   ]
  },
  {
   "cell_type": "code",
   "execution_count": 50,
   "metadata": {},
   "outputs": [],
   "source": [
    "x, y = Sub(), Spam()"
   ]
  },
  {
   "cell_type": "code",
   "execution_count": 51,
   "metadata": {},
   "outputs": [
    {
     "name": "stdout",
     "output_type": "stream",
     "text": [
      "extra Stugff\n",
      "number of instances:  7\n",
      "number of instances:  7\n"
     ]
    }
   ],
   "source": [
    "x.printNumInstances()\n",
    "\n",
    "y.printNumInstances()"
   ]
  },
  {
   "cell_type": "code",
   "execution_count": 54,
   "metadata": {},
   "outputs": [],
   "source": [
    "class Spam:\n",
    "    numInstances = 0\n",
    "    def count(cls):\n",
    "        cls.numInstances += 1\n",
    "    def __init__(self):\n",
    "        self.count()\n",
    "    count = classmethod(count)\n",
    "\n",
    "\n",
    "class Sub(Spam):\n",
    "    numInstances = 0\n",
    "    def __init__(self):\n",
    "        Spam.__init__(self)\n",
    "\n",
    "class Other(Spam):\n",
    "    numInstances = 0"
   ]
  },
  {
   "cell_type": "code",
   "execution_count": 56,
   "metadata": {},
   "outputs": [
    {
     "data": {
      "text/plain": [
       "(2, 4, 3)"
      ]
     },
     "execution_count": 56,
     "metadata": {},
     "output_type": "execute_result"
    }
   ],
   "source": [
    "x = Spam()\n",
    "y1, y2 = Sub(), Sub()\n",
    "z1, z2, z3 = Other(), Other(), Other()\n",
    "x.numInstances, y1.numInstances, z1.numInstances"
   ]
  },
  {
   "cell_type": "code",
   "execution_count": 57,
   "metadata": {},
   "outputs": [
    {
     "data": {
      "text/plain": [
       "(2, 4, 3)"
      ]
     },
     "execution_count": 57,
     "metadata": {},
     "output_type": "execute_result"
    }
   ],
   "source": [
    "Spam.numInstances, Sub.numInstances, Other.numInstances"
   ]
  },
  {
   "cell_type": "markdown",
   "metadata": {},
   "source": [
    "#### Decorators and metaclasses 1"
   ]
  },
  {
   "cell_type": "code",
   "execution_count": 58,
   "metadata": {},
   "outputs": [],
   "source": [
    "class tracer:\n",
    "    def __init__(self, func):\n",
    "        self.calls = 0\n",
    "        self.func = func\n",
    "    def __call__(self, *args):\n",
    "        self.calls += 1\n",
    "        print('call %s to %s' % (self.calls, self.func.__name__))"
   ]
  },
  {
   "cell_type": "code",
   "execution_count": 59,
   "metadata": {},
   "outputs": [],
   "source": [
    "@tracer\n",
    "def spam(a, b, c):\n",
    "    print(a, b, c)"
   ]
  },
  {
   "cell_type": "code",
   "execution_count": 63,
   "metadata": {},
   "outputs": [
    {
     "name": "stdout",
     "output_type": "stream",
     "text": [
      "call 6 to spam\n",
      "call 7 to spam\n",
      "call 8 to spam\n"
     ]
    }
   ],
   "source": [
    "spam(1, 2, 3)\n",
    "spam('a', 'b', 'c')\n",
    "spam(4,5,6)"
   ]
  },
  {
   "cell_type": "code",
   "execution_count": 87,
   "metadata": {},
   "outputs": [],
   "source": [
    "#class decorators\n",
    "\n",
    "def count(aClass):\n",
    "    aClass.numInstances = 0\n",
    "    return aClass"
   ]
  },
  {
   "cell_type": "code",
   "execution_count": 88,
   "metadata": {},
   "outputs": [
    {
     "name": "stdout",
     "output_type": "stream",
     "text": [
      "hello\n"
     ]
    }
   ],
   "source": [
    "@count\n",
    "class Spam: print('hello')\n",
    "\n",
    "@count\n",
    "class Sub(Spam):\n",
    "    pass\n",
    "\n",
    "@count\n",
    "class Other(Spam):\n",
    "    pass"
   ]
  },
  {
   "cell_type": "code",
   "execution_count": 89,
   "metadata": {},
   "outputs": [
    {
     "data": {
      "text/plain": [
       "0"
      ]
     },
     "execution_count": 89,
     "metadata": {},
     "output_type": "execute_result"
    }
   ],
   "source": [
    "a = Other()\n",
    "Other().numInstances"
   ]
  },
  {
   "cell_type": "code",
   "execution_count": null,
   "metadata": {},
   "outputs": [],
   "source": [
    "class Meta(type):\n",
    "    def __new__(meta, classname, supers, classdict):\n",
    "        pass\n",
    "\n",
    "class C(metaclass = Meta):"
   ]
  }
 ],
 "metadata": {
  "kernelspec": {
   "display_name": "Python 3.10.6 ('arka')",
   "language": "python",
   "name": "python3"
  },
  "language_info": {
   "codemirror_mode": {
    "name": "ipython",
    "version": 3
   },
   "file_extension": ".py",
   "mimetype": "text/x-python",
   "name": "python",
   "nbconvert_exporter": "python",
   "pygments_lexer": "ipython3",
   "version": "3.10.6"
  },
  "vscode": {
   "interpreter": {
    "hash": "fa46da6b9307ef350aad613908c1591a068b15a96db2be16e9d9e053b74e28ee"
   }
  }
 },
 "nbformat": 4,
 "nbformat_minor": 4
}

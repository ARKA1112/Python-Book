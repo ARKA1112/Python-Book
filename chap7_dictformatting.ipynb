{
 "cells": [
  {
   "cell_type": "markdown",
   "metadata": {},
   "source": [
    "### Like strings dictionaries can also be \n",
    "### formatted"
   ]
  },
  {
   "cell_type": "code",
   "execution_count": 1,
   "metadata": {},
   "outputs": [
    {
     "data": {
      "text/plain": [
       "'1 more spam'"
      ]
     },
     "execution_count": 1,
     "metadata": {},
     "output_type": "execute_result"
    }
   ],
   "source": [
    "##example\n",
    "\n",
    "'%(qty)d more %(food)s' % {'qty':1, 'food':'spam'}"
   ]
  },
  {
   "cell_type": "code",
   "execution_count": 2,
   "metadata": {},
   "outputs": [],
   "source": [
    "reply = \"\"\"      ## Template with substitution targets\n",
    "Greetings...\n",
    "Hello %(name)s!\n",
    "Your age is %(age)s\n",
    "\"\"\""
   ]
  },
  {
   "cell_type": "code",
   "execution_count": 4,
   "metadata": {},
   "outputs": [
    {
     "name": "stdout",
     "output_type": "stream",
     "text": [
      "      ## Template with substitution targets\n",
      "Greetings...\n",
      "Hello Bob!\n",
      "Your age is 40\n",
      "\n"
     ]
    }
   ],
   "source": [
    "values={'name':'Bob','age':40}   #defining the values\n",
    "print(reply % values)  #replacing the values during print"
   ]
  },
  {
   "cell_type": "markdown",
   "metadata": {},
   "source": [
    "##### This trick is also used in conjunction with the vars built-in \n",
    "##### function, which returns a\n",
    "##### dictionary containing all the variables that exist"
   ]
  },
  {
   "cell_type": "code",
   "execution_count": 5,
   "metadata": {},
   "outputs": [
    {
     "data": {
      "text/plain": [
       "{'__name__': '__main__',\n",
       " '__doc__': 'Automatically created module for IPython interactive environment',\n",
       " '__package__': None,\n",
       " '__loader__': None,\n",
       " '__spec__': None,\n",
       " '__builtin__': <module 'builtins' (built-in)>,\n",
       " '__builtins__': <module 'builtins' (built-in)>,\n",
       " '_ih': ['',\n",
       "  \"##example\\n\\n'%(qty)d more %(food)s' % {'qty':1, 'food':'spam'}\",\n",
       "  'reply = \"\"\"      ## Template with substitution targets\\nGreetings...\\nHello %(name)s!\\nYour age is %(age)s\\n\"\"\"',\n",
       "  \"values={'name':'Bob','age:40'}\\nprint(reply % values)\",\n",
       "  \"values={'name':'Bob','age':40}\\nprint(reply % values)\",\n",
       "  \"#example\\nfood = 'spam'\\nqty = 10\\nvars()\"],\n",
       " '_oh': {1: '1 more spam'},\n",
       " '_dh': [PosixPath('/home/arkapanda/Documents/github/Python-Book')],\n",
       " 'In': ['',\n",
       "  \"##example\\n\\n'%(qty)d more %(food)s' % {'qty':1, 'food':'spam'}\",\n",
       "  'reply = \"\"\"      ## Template with substitution targets\\nGreetings...\\nHello %(name)s!\\nYour age is %(age)s\\n\"\"\"',\n",
       "  \"values={'name':'Bob','age:40'}\\nprint(reply % values)\",\n",
       "  \"values={'name':'Bob','age':40}\\nprint(reply % values)\",\n",
       "  \"#example\\nfood = 'spam'\\nqty = 10\\nvars()\"],\n",
       " 'Out': {1: '1 more spam'},\n",
       " 'get_ipython': <bound method InteractiveShell.get_ipython of <ipykernel.zmqshell.ZMQInteractiveShell object at 0x7fb906c97d90>>,\n",
       " 'exit': <IPython.core.autocall.ZMQExitAutocall at 0x7fb906c01d60>,\n",
       " 'quit': <IPython.core.autocall.ZMQExitAutocall at 0x7fb906c01d60>,\n",
       " '_': '1 more spam',\n",
       " '__': '',\n",
       " '___': '',\n",
       " 'os': <module 'os' from '/home/arkapanda/miniconda3/envs/arka/lib/python3.8/os.py'>,\n",
       " 'sys': <module 'sys' (built-in)>,\n",
       " '__vsc_ipynb_file__': '/home/arkapanda/Documents/github/Python-Book/chap7_dictformatting.ipynb',\n",
       " '_i': \"values={'name':'Bob','age':40}\\nprint(reply % values)\",\n",
       " '_ii': \"values={'name':'Bob','age:40'}\\nprint(reply % values)\",\n",
       " '_iii': 'reply = \"\"\"      ## Template with substitution targets\\nGreetings...\\nHello %(name)s!\\nYour age is %(age)s\\n\"\"\"',\n",
       " '_i1': \"##example\\n\\n'%(qty)d more %(food)s' % {'qty':1, 'food':'spam'}\",\n",
       " '_1': '1 more spam',\n",
       " '_i2': 'reply = \"\"\"      ## Template with substitution targets\\nGreetings...\\nHello %(name)s!\\nYour age is %(age)s\\n\"\"\"',\n",
       " 'reply': '      ## Template with substitution targets\\nGreetings...\\nHello %(name)s!\\nYour age is %(age)s\\n',\n",
       " '_i3': \"values={'name':'Bob','age:40'}\\nprint(reply % values)\",\n",
       " '_i4': \"values={'name':'Bob','age':40}\\nprint(reply % values)\",\n",
       " 'values': {'name': 'Bob', 'age': 40},\n",
       " '_i5': \"#example\\nfood = 'spam'\\nqty = 10\\nvars()\",\n",
       " 'food': 'spam',\n",
       " 'qty': 10}"
      ]
     },
     "execution_count": 5,
     "metadata": {},
     "output_type": "execute_result"
    }
   ],
   "source": [
    "#example\n",
    "food = 'spam'\n",
    "qty = 10\n",
    "vars()"
   ]
  },
  {
   "cell_type": "code",
   "execution_count": 6,
   "metadata": {},
   "outputs": [
    {
     "data": {
      "text/plain": [
       "'10 more spam'"
      ]
     },
     "execution_count": 6,
     "metadata": {},
     "output_type": "execute_result"
    }
   ],
   "source": [
    "'%(qty)d more %(food)s' % vars()"
   ]
  },
  {
   "cell_type": "code",
   "execution_count": 10,
   "metadata": {},
   "outputs": [
    {
     "data": {
      "text/plain": [
       "'spam,ham and eggs'"
      ]
     },
     "execution_count": 10,
     "metadata": {},
     "output_type": "execute_result"
    }
   ],
   "source": [
    "#more examples\n",
    "template = '{0},{1} and {2}'\n",
    "template.format('spam','ham','eggs')  # by position"
   ]
  },
  {
   "cell_type": "code",
   "execution_count": 13,
   "metadata": {},
   "outputs": [
    {
     "data": {
      "text/plain": [
       "'spam,ham, and eggs'"
      ]
     },
     "execution_count": 13,
     "metadata": {},
     "output_type": "execute_result"
    }
   ],
   "source": [
    "#by keywords\n",
    "template = '{motto},{pork}, and {food}'\n",
    "template.format(motto = 'spam',pork = 'ham',food = 'eggs')"
   ]
  },
  {
   "cell_type": "code",
   "execution_count": 16,
   "metadata": {},
   "outputs": [
    {
     "data": {
      "text/plain": [
       "'spam,pork and ham'"
      ]
     },
     "execution_count": 16,
     "metadata": {},
     "output_type": "execute_result"
    }
   ],
   "source": [
    "#by both\n",
    "template = '{motto},{0} and {food}'  # the zero position indicates the position of the object in the format braces\n",
    "template.format('pork',motto='spam',food='ham')"
   ]
  },
  {
   "cell_type": "code",
   "execution_count": 18,
   "metadata": {},
   "outputs": [
    {
     "data": {
      "text/plain": [
       "'food,ham and eggs'"
      ]
     },
     "execution_count": 18,
     "metadata": {},
     "output_type": "execute_result"
    }
   ],
   "source": [
    "#This is by relative position\n",
    "template = '{},{} and {}'\n",
    "template.format('food','ham','eggs')"
   ]
  },
  {
   "cell_type": "code",
   "execution_count": 20,
   "metadata": {},
   "outputs": [
    {
     "data": {
      "text/plain": [
       "'spam,ham and eggs'"
      ]
     },
     "execution_count": 20,
     "metadata": {},
     "output_type": "execute_result"
    }
   ],
   "source": [
    "#same via expression\n",
    "#without declaring the format expression\n",
    "template = '%s,%s and %s'\n",
    "template % ('spam','ham','eggs')\n",
    "template = '%(motto)s,%(pork)s and %(food)s'\n",
    "template % dict(motto='spam',pork='ham',food='eggs')"
   ]
  },
  {
   "cell_type": "code",
   "execution_count": 25,
   "metadata": {},
   "outputs": [
    {
     "data": {
      "text/plain": [
       "'3.14, 42 and [1, 2]'"
      ]
     },
     "execution_count": 25,
     "metadata": {},
     "output_type": "execute_result"
    }
   ],
   "source": [
    "#also\n",
    "X = '{motto}, {0} and {food}'.format(42, motto=3.14, food=[1, 2])\n",
    "X"
   ]
  },
  {
   "cell_type": "code",
   "execution_count": 26,
   "metadata": {},
   "outputs": [
    {
     "data": {
      "text/plain": [
       "['3.14, 42', '[1, 2]']"
      ]
     },
     "execution_count": 26,
     "metadata": {},
     "output_type": "execute_result"
    }
   ],
   "source": [
    "X.split(' and ')"
   ]
  },
  {
   "cell_type": "code",
   "execution_count": 27,
   "metadata": {},
   "outputs": [
    {
     "data": {
      "text/plain": [
       "'3.14, 42 but under no circumstances [1, 2]'"
      ]
     },
     "execution_count": 27,
     "metadata": {},
     "output_type": "execute_result"
    }
   ],
   "source": [
    "X.replace('and','but under no circumstances')"
   ]
  },
  {
   "cell_type": "markdown",
   "metadata": {},
   "source": [
    "### Advanced Formatting Method Examples"
   ]
  },
  {
   "cell_type": "code",
   "execution_count": 44,
   "metadata": {},
   "outputs": [
    {
     "data": {
      "text/plain": [
       "'83,spam'"
      ]
     },
     "execution_count": 44,
     "metadata": {},
     "output_type": "execute_result"
    }
   ],
   "source": [
    "'{0:10} = {1:10}'.format('spam','ham')\n",
    "'%s,%s' % (ord('S'),'spam')   #a way to pass a function\n",
    "''\n",
    "   #They have 10 characters reserved for them and starts from the left"
   ]
  },
  {
   "cell_type": "code",
   "execution_count": 5,
   "metadata": {},
   "outputs": [
    {
     "data": {
      "text/plain": [
       "'spam       =        ham'"
      ]
     },
     "execution_count": 5,
     "metadata": {},
     "output_type": "execute_result"
    }
   ],
   "source": [
    "'{0:<10} = {1:>10}'.format('spam','ham')  #left and right spaces"
   ]
  },
  {
   "cell_type": "code",
   "execution_count": 6,
   "metadata": {},
   "outputs": [
    {
     "data": {
      "text/plain": [
       "'linux      = pc        '"
      ]
     },
     "execution_count": 6,
     "metadata": {},
     "output_type": "execute_result"
    }
   ],
   "source": [
    "import sys\n",
    "'{0.platform:10} = {1[kind]:10}'.format(sys,{'kind':'pc'}) "
   ]
  },
  {
   "cell_type": "code",
   "execution_count": 17,
   "metadata": {},
   "outputs": [
    {
     "data": {
      "text/plain": [
       "'1.234560, 1.235, 001.23'"
      ]
     },
     "execution_count": 17,
     "metadata": {},
     "output_type": "execute_result"
    }
   ],
   "source": [
    "'{0:f}, {1:.3f}, {2:06.02f}'.format(1.23456,1.23456,1.23456)\n",
    "# The zero before the six signifies left padding"
   ]
  },
  {
   "cell_type": "code",
   "execution_count": 4,
   "metadata": {},
   "outputs": [
    {
     "data": {
      "text/plain": [
       "'0.3333'"
      ]
     },
     "execution_count": 4,
     "metadata": {},
     "output_type": "execute_result"
    }
   ],
   "source": [
    "#different formatting parameters\n",
    "'{0:.2f}'.format(1/3.0)\n",
    "'%.2f'%(1/3.0)\n",
    "'{0:.{1}f}'.format(1/3.0,4) # Take value from arguments\n",
    "'%.*f'%(4,1/3.0) #Ditto for expression"
   ]
  },
  {
   "cell_type": "code",
   "execution_count": 9,
   "metadata": {},
   "outputs": [
    {
     "data": {
      "text/plain": [
       "'1.45'"
      ]
     },
     "execution_count": 9,
     "metadata": {},
     "output_type": "execute_result"
    }
   ],
   "source": [
    "#single element formatting\n",
    "'%.2f' % 1.3345           #expression\n",
    "format(1.334,'.2f')     #using the format builtin function\n",
    "'{0:.2f}'.format(1.445)  #with positional argument"
   ]
  },
  {
   "cell_type": "code",
   "execution_count": 15,
   "metadata": {},
   "outputs": [
    {
     "data": {
      "text/plain": [
       "'     linux  = laptop    '"
      ]
     },
     "execution_count": 15,
     "metadata": {},
     "output_type": "execute_result"
    }
   ],
   "source": [
    "'My %(kind)s runs on %(platform)s' % {'kind':'pc','platform':sys.platform}\n",
    "'My %(kind)s runs on %(platform)s' % dict(kind='pc',platform= sys.platform)\n",
    "#adding specific formatting\n",
    "'%-10s = %10s' % ('spam',123.555)\n",
    "'%10s = %-10s' % ('spam',123.554)\n",
    "'%(plat)10s  = %(kind)-10s' % dict(plat=sys.platform, kind='laptop')"
   ]
  },
  {
   "cell_type": "code",
   "execution_count": 16,
   "metadata": {},
   "outputs": [
    {
     "data": {
      "text/plain": [
       "'My pc       runs on    linux'"
      ]
     },
     "execution_count": 16,
     "metadata": {},
     "output_type": "execute_result"
    }
   ],
   "source": [
    "'My {1[kind]:<8} runs on {0.platform:>8}'.format(sys , {'kind':'pc'})"
   ]
  },
  {
   "cell_type": "code",
   "execution_count": 25,
   "metadata": {},
   "outputs": [
    {
     "data": {
      "text/plain": [
       "'My personal computer and runs    linux'"
      ]
     },
     "execution_count": 25,
     "metadata": {},
     "output_type": "execute_result"
    }
   ],
   "source": [
    "#Building data ahead of time\n",
    "\n",
    "data = dict(form=sys.platform,kind='personal computer')\n",
    "'My {kind} runs on {form}'.format(**data)\n",
    "'My %(kind)-8s and runs %(form)8s' % data"
   ]
  },
  {
   "cell_type": "code",
   "execution_count": 28,
   "metadata": {},
   "outputs": [
    {
     "data": {
      "text/plain": [
       "'999,999,999,999'"
      ]
     },
     "execution_count": 28,
     "metadata": {},
     "output_type": "execute_result"
    }
   ],
   "source": [
    "#String format method enhancement in python\n",
    "'{0:d}'.format(999999999999999)\n",
    "'{0:,d}'.format(999999999999)   #automatically adds comma in three number places\n"
   ]
  },
  {
   "cell_type": "code",
   "execution_count": 12,
   "metadata": {},
   "outputs": [
    {
     "data": {
      "text/plain": [
       "'1111111111111111'"
      ]
     },
     "execution_count": 12,
     "metadata": {},
     "output_type": "execute_result"
    }
   ],
   "source": [
    "'{0:b}'.format((2**16)-1)\n",
    "'%s'%(2**16)  #s stands for string n for integer, b for binary and f for float\n",
    "\n",
    "'{}'.format(bin(2**16))  #not mentioned previously\n",
    "\n",
    "'%s' % bin((2**16)-1)[2:]"
   ]
  },
  {
   "cell_type": "code",
   "execution_count": 19,
   "metadata": {},
   "outputs": [
    {
     "data": {
      "text/plain": [
       "'jon dev jon'"
      ]
     },
     "execution_count": 19,
     "metadata": {},
     "output_type": "execute_result"
    }
   ],
   "source": [
    "#comparison between .format and % notation\n",
    "'{name} {job} {name}'.format(name='jon', job='dev')\n",
    "'%(name)s %(job)s %(name)s' %dict(name='jon',job='dev')"
   ]
  },
  {
   "cell_type": "code",
   "execution_count": 20,
   "metadata": {},
   "outputs": [],
   "source": [
    "def myformat(fmt , args):\n",
    "    return fmt % args"
   ]
  },
  {
   "cell_type": "code",
   "execution_count": 26,
   "metadata": {},
   "outputs": [
    {
     "name": "stdout",
     "output_type": "stream",
     "text": [
      "8889\n"
     ]
    },
    {
     "data": {
      "text/plain": [
       "'8889'"
      ]
     },
     "execution_count": 26,
     "metadata": {},
     "output_type": "execute_result"
    }
   ],
   "source": [
    "print(myformat('%s%s',(88,89)))\n",
    "str.format('{}{}',88,89)  #calling the builtin function"
   ]
  },
  {
   "cell_type": "code",
   "execution_count": 29,
   "metadata": {},
   "outputs": [
    {
     "data": {
      "text/plain": [
       "'ball fall'"
      ]
     },
     "execution_count": 29,
     "metadata": {},
     "output_type": "execute_result"
    }
   ],
   "source": [
    "'{num} {title}'.format(num='ball', title=sys.platform)\n",
    "'%(num)s %(title)s' % dict(num='ball',title='fall')"
   ]
  },
  {
   "cell_type": "code",
   "execution_count": 30,
   "metadata": {},
   "outputs": [
    {
     "data": {
      "text/plain": [
       "1"
      ]
     },
     "execution_count": 30,
     "metadata": {},
     "output_type": "execute_result"
    }
   ],
   "source": [
    "s = 'string'\n",
    "s.find('t')"
   ]
  },
  {
   "cell_type": "code",
   "execution_count": 31,
   "metadata": {},
   "outputs": [
    {
     "data": {
      "text/plain": [
       "'str'"
      ]
     },
     "execution_count": 31,
     "metadata": {},
     "output_type": "execute_result"
    }
   ],
   "source": [
    "s[:3]"
   ]
  },
  {
   "cell_type": "code",
   "execution_count": 32,
   "metadata": {},
   "outputs": [],
   "source": [
    "S = 's,pa,m'"
   ]
  },
  {
   "cell_type": "code",
   "execution_count": 39,
   "metadata": {},
   "outputs": [
    {
     "data": {
      "text/plain": [
       "'pa'"
      ]
     },
     "execution_count": 39,
     "metadata": {},
     "output_type": "execute_result"
    }
   ],
   "source": [
    "S.split(',')[1]  #one method\n",
    "S[2:4]"
   ]
  },
  {
   "cell_type": "code",
   "execution_count": 1,
   "metadata": {},
   "outputs": [
    {
     "name": "stdout",
     "output_type": "stream",
     "text": [
      "a\n",
      "b\u001f\u0000d\n"
     ]
    },
    {
     "data": {
      "text/plain": [
       "6"
      ]
     },
     "execution_count": 1,
     "metadata": {},
     "output_type": "execute_result"
    }
   ],
   "source": [
    "S = \"a\\nb\\x1f\\000d\"\n",
    "print(S)\n",
    "len(S)"
   ]
  },
  {
   "cell_type": "code",
   "execution_count": null,
   "metadata": {},
   "outputs": [],
   "source": []
  }
 ],
 "metadata": {
  "kernelspec": {
   "display_name": "Python 3.8.8 ('arka')",
   "language": "python",
   "name": "python3"
  },
  "language_info": {
   "codemirror_mode": {
    "name": "ipython",
    "version": 3
   },
   "file_extension": ".py",
   "mimetype": "text/x-python",
   "name": "python",
   "nbconvert_exporter": "python",
   "pygments_lexer": "ipython3",
   "version": "3.8.8"
  },
  "orig_nbformat": 4,
  "vscode": {
   "interpreter": {
    "hash": "c31c384f5fd0255c2ec0e7740eeefa95ced326fc47538bade73e47175223050c"
   }
  }
 },
 "nbformat": 4,
 "nbformat_minor": 2
}

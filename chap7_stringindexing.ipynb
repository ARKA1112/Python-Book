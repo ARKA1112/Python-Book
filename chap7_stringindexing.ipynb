{
 "cells": [
  {
   "cell_type": "code",
   "execution_count": 7,
   "metadata": {},
   "outputs": [
    {
     "data": {
      "text/plain": [
       "('pa', 'pam', 'spa')"
      ]
     },
     "execution_count": 7,
     "metadata": {},
     "output_type": "execute_result"
    }
   ],
   "source": [
    "S = 'spam'\n",
    "'m' in S\n",
    "S[0],S[1]\n",
    "S[1:3], S[1:], S[:-1]"
   ]
  },
  {
   "cell_type": "code",
   "execution_count": 11,
   "metadata": {},
   "outputs": [
    {
     "data": {
      "text/plain": [
       "'spa'"
      ]
     },
     "execution_count": 11,
     "metadata": {},
     "output_type": "execute_result"
    }
   ],
   "source": [
    "#extracting the last term of the sequence\n",
    "S[:-1]\n",
    "#also \n",
    "S[:len(S)-1]"
   ]
  },
  {
   "cell_type": "code",
   "execution_count": 13,
   "metadata": {},
   "outputs": [
    {
     "data": {
      "text/plain": [
       "'starts\\nfrom the first index \\nand ends in 10-1 and \\ncollects every second \\ndigit'"
      ]
     },
     "execution_count": 13,
     "metadata": {},
     "output_type": "execute_result"
    }
   ],
   "source": [
    "#extended slicing\n",
    "\n",
    "S = 'abcdefghijklmnop'\n",
    "S[1:10:2]\n",
    "\"\"\"starts\n",
    "from the first index \n",
    "and ends in 10-1 and \n",
    "collects every second \n",
    "digit\"\"\""
   ]
  },
  {
   "cell_type": "code",
   "execution_count": 14,
   "metadata": {},
   "outputs": [
    {
     "data": {
      "text/plain": [
       "'acegikmo'"
      ]
     },
     "execution_count": 14,
     "metadata": {},
     "output_type": "execute_result"
    }
   ],
   "source": [
    "S[::2]   #same with no index limits"
   ]
  },
  {
   "cell_type": "markdown",
   "metadata": {},
   "source": [
    "#### One can also use \n",
    "#### the negative stride\n",
    "#### in order to reverse the string "
   ]
  },
  {
   "cell_type": "code",
   "execution_count": 18,
   "metadata": {},
   "outputs": [
    {
     "name": "stdout",
     "output_type": "stream",
     "text": [
      "ponmlkjihgfedcba\n"
     ]
    },
    {
     "data": {
      "text/plain": [
       "'olleh'"
      ]
     },
     "execution_count": 18,
     "metadata": {},
     "output_type": "execute_result"
    }
   ],
   "source": [
    "#for example\n",
    "\n",
    "print(S[::-1])\n",
    "\"hello\"[::-1]     #interval every position from the right to the left"
   ]
  },
  {
   "cell_type": "code",
   "execution_count": 27,
   "metadata": {},
   "outputs": [
    {
     "data": {
      "text/plain": [
       "'Ǵ'"
      ]
     },
     "execution_count": 27,
     "metadata": {},
     "output_type": "execute_result"
    }
   ],
   "source": [
    "#character code conversion\n",
    "\n",
    "ord('S') #converts to unicode number\n",
    "chr(500) #from unicode number to character"
   ]
  },
  {
   "cell_type": "code",
   "execution_count": 28,
   "metadata": {},
   "outputs": [
    {
     "data": {
      "text/plain": [
       "'that is the 1 dead bird!'"
      ]
     },
     "execution_count": 28,
     "metadata": {},
     "output_type": "execute_result"
    }
   ],
   "source": [
    "#format expression again\n",
    "\n",
    "'that is the {0} {1} bird!'.format(1, 'dead')"
   ]
  },
  {
   "cell_type": "code",
   "execution_count": 31,
   "metadata": {},
   "outputs": [
    {
     "ename": "SyntaxError",
     "evalue": "invalid syntax (4092352028.py, line 1)",
     "output_type": "error",
     "traceback": [
      "\u001b[0;36m  Input \u001b[0;32mIn [31]\u001b[0;36m\u001b[0m\n\u001b[0;31m    2.attribute\u001b[0m\n\u001b[0m      ^\u001b[0m\n\u001b[0;31mSyntaxError\u001b[0m\u001b[0;31m:\u001b[0m invalid syntax\n"
     ]
    }
   ],
   "source": [
    "2.attribute"
   ]
  },
  {
   "cell_type": "code",
   "execution_count": 37,
   "metadata": {},
   "outputs": [
    {
     "name": "stdout",
     "output_type": "stream",
     "text": [
      "spaxxy\n"
     ]
    },
    {
     "data": {
      "text/plain": [
       "'spammy'"
      ]
     },
     "execution_count": 37,
     "metadata": {},
     "output_type": "execute_result"
    }
   ],
   "source": [
    "#Replacing a string\n",
    "## although strings are immutable\n",
    "## there are several methods to do it\n",
    "\n",
    "S = 'spammy'\n",
    "S = S[:3] + 'xx' + S[-1]\n",
    "print(S)  #you have to save it explicitly\n",
    "#also replace functions are there\n",
    "S.replace('xx','mm')"
   ]
  },
  {
   "cell_type": "code",
   "execution_count": 48,
   "metadata": {},
   "outputs": [
    {
     "name": "stdout",
     "output_type": "stream",
     "text": [
      "['s', 'p', 'a', 'm', 'm', 'y']\n",
      "['s', 'p', 'a', 'x', 'x', 'y']\n"
     ]
    }
   ],
   "source": [
    "#Replacing a string\n",
    "#with the help of a list\n",
    "\n",
    "S = 'spammy'\n",
    "L = list(S)\n",
    "print(L)\n",
    "L[3] = 'x'\n",
    "L[4] = 'x'\n",
    "print(L)\n",
    "S = ''.join(L)"
   ]
  },
  {
   "cell_type": "code",
   "execution_count": 50,
   "metadata": {},
   "outputs": [
    {
     "data": {
      "text/plain": [
       "'spaxxy'"
      ]
     },
     "execution_count": 50,
     "metadata": {},
     "output_type": "execute_result"
    }
   ],
   "source": [
    "S"
   ]
  },
  {
   "cell_type": "code",
   "execution_count": 51,
   "metadata": {},
   "outputs": [
    {
     "data": {
      "text/plain": [
       "'eggsSPAMsausageSPAMhamSPAMtoast'"
      ]
     },
     "execution_count": 51,
     "metadata": {},
     "output_type": "execute_result"
    }
   ],
   "source": [
    "#string joining\n",
    "'SPAM'.join(['eggs', 'sausage', 'ham', 'toast'])"
   ]
  },
  {
   "cell_type": "code",
   "execution_count": null,
   "metadata": {},
   "outputs": [],
   "source": []
  }
 ],
 "metadata": {
  "kernelspec": {
   "display_name": "Python 3.8.8 ('arka')",
   "language": "python",
   "name": "python3"
  },
  "language_info": {
   "codemirror_mode": {
    "name": "ipython",
    "version": 3
   },
   "file_extension": ".py",
   "mimetype": "text/x-python",
   "name": "python",
   "nbconvert_exporter": "python",
   "pygments_lexer": "ipython3",
   "version": "3.8.8"
  },
  "orig_nbformat": 4,
  "vscode": {
   "interpreter": {
    "hash": "c31c384f5fd0255c2ec0e7740eeefa95ced326fc47538bade73e47175223050c"
   }
  }
 },
 "nbformat": 4,
 "nbformat_minor": 2
}

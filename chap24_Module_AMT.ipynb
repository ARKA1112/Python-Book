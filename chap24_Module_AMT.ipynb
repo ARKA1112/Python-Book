{
 "cells": [
  {
   "cell_type": "markdown",
   "metadata": {},
   "source": [
    "#### Minimizing from * .....Damage: __X and __all__\n"
   ]
  },
  {
   "cell_type": "code",
   "execution_count": 1,
   "metadata": {},
   "outputs": [],
   "source": [
    "#in order to reduce namespace pollution \n",
    "\n",
    "#A module can be named _X for which the modulename will not be copied to the client\n",
    "\n",
    "#And when a program runs: from X import * we can specify the packages to import when * is run in __all__ = [\"error\",\"encode\",\"decode\"]"
   ]
  },
  {
   "cell_type": "markdown",
   "metadata": {},
   "source": [
    "##### Enabling future language features"
   ]
  },
  {
   "cell_type": "code",
   "execution_count": 2,
   "metadata": {},
   "outputs": [],
   "source": [
    "#from __future__ import featurename\n",
    "#future means optional extensions which are enabled but doesnt have stable support for this version of this language, and will be enabled in future versions"
   ]
  },
  {
   "cell_type": "code",
   "execution_count": 9,
   "metadata": {},
   "outputs": [
    {
     "ename": "SyntaxError",
     "evalue": "future feature numpy is not defined (951942779.py, line 1)",
     "output_type": "error",
     "traceback": [
      "\u001b[0;36m  Input \u001b[0;32mIn [9]\u001b[0;36m\u001b[0m\n\u001b[0;31m    from __future__ import numpy\u001b[0m\n\u001b[0m    ^\u001b[0m\n\u001b[0;31mSyntaxError\u001b[0m\u001b[0;31m:\u001b[0m future feature numpy is not defined\n"
     ]
    }
   ],
   "source": [
    "from __future__ import  "
   ]
  },
  {
   "cell_type": "markdown",
   "metadata": {},
   "source": [
    "#### Mixed usage modes: __name__and__main__"
   ]
  },
  {
   "cell_type": "code",
   "execution_count": 12,
   "metadata": {},
   "outputs": [],
   "source": [
    "#since we created runme.py\n",
    "\n",
    "from pyfiles import runme    #imports but doesnt run\n",
    "\n",
    "#But when run in terminal it shows the desired output"
   ]
  },
  {
   "cell_type": "code",
   "execution_count": 13,
   "metadata": {},
   "outputs": [],
   "source": [
    "#inside a module if we call __name__ check\n",
    "#for example if '__name__' == '__main__': checks if the function is run at runtime.If true then it is on runtime"
   ]
  },
  {
   "cell_type": "code",
   "execution_count": 16,
   "metadata": {},
   "outputs": [
    {
     "name": "stdout",
     "output_type": "stream",
     "text": [
      "i am: pyfiles.min\n"
     ]
    }
   ],
   "source": [
    "#minmax function of chap18\n",
    "#recreated here as min.py\n",
    "\n",
    "from pyfiles import min\n",
    "#shows it is currently being imported\n",
    "#and dosent prints the output like runtime"
   ]
  },
  {
   "cell_type": "code",
   "execution_count": 17,
   "metadata": {},
   "outputs": [
    {
     "data": {
      "text/plain": [
       "1"
      ]
     },
     "execution_count": 17,
     "metadata": {},
     "output_type": "execute_result"
    }
   ],
   "source": [
    "min.minmax(min.lessthan,1,2,3,4)"
   ]
  },
  {
   "cell_type": "code",
   "execution_count": 18,
   "metadata": {},
   "outputs": [
    {
     "data": {
      "text/plain": [
       "['/home/susearc/miniconda3/envs/arka/lib/python3.10/site-packages/ipykernel_launcher.py',\n",
       " '--ip=127.0.0.1',\n",
       " '--stdin=9003',\n",
       " '--control=9001',\n",
       " '--hb=9000',\n",
       " '--Session.signature_scheme=\"hmac-sha256\"',\n",
       " '--Session.key=b\"2fc19bc1-aefd-4713-8b19-15c67fc995ce\"',\n",
       " '--shell=9002',\n",
       " '--transport=\"tcp\"',\n",
       " '--iopub=9004',\n",
       " '--f=/home/susearc/.local/share/jupyter/runtime/kernel-v2-4178WlghWjMJFknZ.json']"
      ]
     },
     "execution_count": 18,
     "metadata": {},
     "output_type": "execute_result"
    }
   ],
   "source": [
    "import sys\n",
    "sys.argv"
   ]
  },
  {
   "cell_type": "code",
   "execution_count": 24,
   "metadata": {},
   "outputs": [
    {
     "data": {
      "text/plain": [
       "'10,000'"
      ]
     },
     "execution_count": 24,
     "metadata": {},
     "output_type": "execute_result"
    }
   ],
   "source": [
    "#refer to formats.py\n",
    "from pyfiles import formats\n",
    "formats.commas(10000)"
   ]
  },
  {
   "cell_type": "code",
   "execution_count": 26,
   "metadata": {},
   "outputs": [
    {
     "name": "stdout",
     "output_type": "stream",
     "text": [
      "Help on module pyfiles.formats in pyfiles:\n",
      "\n",
      "NAME\n",
      "    pyfiles.formats\n",
      "\n",
      "DESCRIPTION\n",
      "    Various specialized string display formatting utilities.\n",
      "    Test me with canned self-test or command-line arguments\n",
      "\n",
      "FUNCTIONS\n",
      "    commas(N)\n",
      "        format positive integer-like N for display with commas\n",
      "        between digit groupings: xxx,yyy,zzz\n",
      "\n",
      "FILE\n",
      "    /home/susearc/Documents/github/Python-Book/pyfiles/formats.py\n",
      "\n",
      "\n"
     ]
    }
   ],
   "source": [
    "from pyfiles import formats\n",
    "help(formats)"
   ]
  },
  {
   "cell_type": "code",
   "execution_count": 37,
   "metadata": {},
   "outputs": [
    {
     "data": {
      "text/plain": [
       "<function pyfiles.formats.commas(N)>"
      ]
     },
     "execution_count": 37,
     "metadata": {},
     "output_type": "execute_result"
    }
   ],
   "source": [
    "formats.__dict__['commas']\n",
    "#sys.modules['formats']\n",
    "getattr(formats, 'commas')"
   ]
  },
  {
   "cell_type": "code",
   "execution_count": 42,
   "metadata": {},
   "outputs": [
    {
     "name": "stdout",
     "output_type": "stream",
     "text": [
      "00 __name__ <built-in name>\n",
      "01 __doc__ <built-in name>\n",
      "02 __package__ <built-in name>\n",
      "03 __loader__ <built-in name>\n",
      "04 __spec__ <built-in name>\n",
      "05 __file__ <built-in name>\n",
      "06 __cached__ <built-in name>\n",
      "07 __builtins__ <built-in name>\n",
      "08 commas <function commas at 0x7faed679d750>\n"
     ]
    }
   ],
   "source": [
    "#refer mydirfunc.py\n",
    "\n",
    "from pyfiles import mydirfunc\n",
    "mydirfunc.listing(formats, verbose=False)"
   ]
  },
  {
   "cell_type": "code",
   "execution_count": 46,
   "metadata": {},
   "outputs": [
    {
     "name": "stdout",
     "output_type": "stream",
     "text": [
      "Help on module pyfiles.mydirfunc in pyfiles:\n",
      "\n",
      "NAME\n",
      "    pyfiles.mydirfunc - a module that lists the namespaces of other modules\n",
      "\n",
      "FUNCTIONS\n",
      "    listing(module, verbose=True)\n",
      "\n",
      "DATA\n",
      "    sepchr = '-'\n",
      "    seplen = 60\n",
      "\n",
      "FILE\n",
      "    /home/susearc/Documents/github/Python-Book/pyfiles/mydirfunc.py\n",
      "\n",
      "\n"
     ]
    }
   ],
   "source": [
    "help(mydirfunc)"
   ]
  },
  {
   "cell_type": "code",
   "execution_count": 47,
   "metadata": {},
   "outputs": [
    {
     "name": "stdout",
     "output_type": "stream",
     "text": [
      "------------------------------------------------------------\n",
      "name: tkinter file: /home/susearc/miniconda3/envs/arka/lib/python3.10/tkinter/__init__.py\n",
      "------------------------------------------------------------\n",
      "00 __name__ <built-in name>\n",
      "01 __doc__ <built-in name>\n",
      "02 __package__ <built-in name>\n",
      "03 __loader__ <built-in name>\n",
      "04 __spec__ <built-in name>\n",
      "05 __path__ <built-in name>\n",
      "06 __file__ <built-in name>\n",
      "07 __cached__ <built-in name>\n",
      "08 __builtins__ <built-in name>\n",
      "09 enum <module 'enum' from '/home/susearc/miniconda3/envs/arka/lib/python3.10/enum.py'>\n",
      "10 sys <module 'sys' (built-in)>\n",
      "11 types <module 'types' from '/home/susearc/miniconda3/envs/arka/lib/python3.10/types.py'>\n",
      "12 _tkinter <module '_tkinter' from '/home/susearc/miniconda3/envs/arka/lib/python3.10/lib-dynload/_tkinter.cpython-310-x86_64-linux-gnu.so'>\n",
      "13 TclError <class '_tkinter.TclError'>\n",
      "14 constants <module 'tkinter.constants' from '/home/susearc/miniconda3/envs/arka/lib/python3.10/tkinter/constants.py'>\n",
      "15 NO 0\n",
      "16 FALSE 0\n",
      "17 OFF 0\n",
      "18 YES 1\n",
      "19 TRUE 1\n",
      "20 ON 1\n",
      "21 N n\n",
      "22 S s\n",
      "23 W w\n",
      "24 E e\n",
      "25 NW nw\n",
      "26 SW sw\n",
      "27 NE ne\n",
      "28 SE se\n",
      "29 NS ns\n",
      "30 EW ew\n",
      "31 NSEW nsew\n",
      "32 CENTER center\n",
      "33 NONE none\n",
      "34 X x\n",
      "35 Y y\n",
      "36 BOTH both\n",
      "37 LEFT left\n",
      "38 TOP top\n",
      "39 RIGHT right\n",
      "40 BOTTOM bottom\n",
      "41 RAISED raised\n",
      "42 SUNKEN sunken\n",
      "43 FLAT flat\n",
      "44 RIDGE ridge\n",
      "45 GROOVE groove\n",
      "46 SOLID solid\n",
      "47 HORIZONTAL horizontal\n",
      "48 VERTICAL vertical\n",
      "49 NUMERIC numeric\n",
      "50 CHAR char\n",
      "51 WORD word\n",
      "52 BASELINE baseline\n",
      "53 INSIDE inside\n",
      "54 OUTSIDE outside\n",
      "55 SEL sel\n",
      "56 SEL_FIRST sel.first\n",
      "57 SEL_LAST sel.last\n",
      "58 END end\n",
      "59 INSERT insert\n",
      "60 CURRENT current\n",
      "61 ANCHOR anchor\n",
      "62 ALL all\n",
      "63 NORMAL normal\n",
      "64 DISABLED disabled\n",
      "65 ACTIVE active\n",
      "66 HIDDEN hidden\n",
      "67 CASCADE cascade\n",
      "68 CHECKBUTTON checkbutton\n",
      "69 COMMAND command\n",
      "70 RADIOBUTTON radiobutton\n",
      "71 SEPARATOR separator\n",
      "72 SINGLE single\n",
      "73 BROWSE browse\n",
      "74 MULTIPLE multiple\n",
      "75 EXTENDED extended\n",
      "76 DOTBOX dotbox\n",
      "77 UNDERLINE underline\n",
      "78 PIESLICE pieslice\n",
      "79 CHORD chord\n",
      "80 ARC arc\n",
      "81 FIRST first\n",
      "82 LAST last\n",
      "83 BUTT butt\n",
      "84 PROJECTING projecting\n",
      "85 ROUND round\n",
      "86 BEVEL bevel\n",
      "87 MITER miter\n",
      "88 MOVETO moveto\n",
      "89 SCROLL scroll\n",
      "90 UNITS units\n",
      "91 PAGES pages\n",
      "92 re <module 're' from '/home/susearc/miniconda3/envs/arka/lib/python3.10/re.py'>\n",
      "93 wantobjects 1\n",
      "94 TkVersion 8.6\n",
      "95 TclVersion 8.6\n",
      "96 READABLE 2\n",
      "97 WRITABLE 4\n",
      "98 EXCEPTION 8\n",
      "99 _magic_re re.compile('([\\\\\\\\{}])')\n",
      "100 _space_re re.compile('([\\\\s])', re.ASCII)\n",
      "101 _join <function _join at 0x7faed667dbd0>\n",
      "102 _stringify <function _stringify at 0x7faed667f6d0>\n",
      "103 _flatten <built-in function _flatten>\n",
      "104 _cnfmerge <function _cnfmerge at 0x7faed667f760>\n",
      "105 _splitdict <function _splitdict at 0x7faed667f7f0>\n",
      "106 EventType <enum 'EventType'>\n",
      "107 Event <class 'tkinter.Event'>\n",
      "108 _support_default_root True\n",
      "109 _default_root None\n",
      "110 NoDefaultRoot <function NoDefaultRoot at 0x7faed667f880>\n",
      "111 _get_default_root <function _get_default_root at 0x7faed667f9a0>\n",
      "112 _get_temp_root <function _get_temp_root at 0x7faed667fa30>\n",
      "113 _destroy_temp_root <function _destroy_temp_root at 0x7faed667fac0>\n",
      "114 _tkerror <function _tkerror at 0x7faed667fb50>\n",
      "115 _exit <function _exit at 0x7faed667fbe0>\n",
      "116 _varnum 0\n",
      "117 Variable <class 'tkinter.Variable'>\n",
      "118 StringVar <class 'tkinter.StringVar'>\n",
      "119 IntVar <class 'tkinter.IntVar'>\n",
      "120 DoubleVar <class 'tkinter.DoubleVar'>\n",
      "121 BooleanVar <class 'tkinter.BooleanVar'>\n",
      "122 mainloop <function mainloop at 0x7faed667fc70>\n",
      "123 getint <class 'int'>\n",
      "124 getdouble <class 'float'>\n",
      "125 getboolean <function getboolean at 0x7faed65249d0>\n",
      "126 Misc <class 'tkinter.Misc'>\n",
      "127 CallWrapper <class 'tkinter.CallWrapper'>\n",
      "128 XView <class 'tkinter.XView'>\n",
      "129 YView <class 'tkinter.YView'>\n",
      "130 Wm <class 'tkinter.Wm'>\n",
      "131 Tk <class 'tkinter.Tk'>\n",
      "132 Tcl <function Tcl at 0x7faed6524a60>\n",
      "133 Pack <class 'tkinter.Pack'>\n",
      "134 Place <class 'tkinter.Place'>\n",
      "135 Grid <class 'tkinter.Grid'>\n",
      "136 BaseWidget <class 'tkinter.BaseWidget'>\n",
      "137 Widget <class 'tkinter.Widget'>\n",
      "138 Toplevel <class 'tkinter.Toplevel'>\n",
      "139 Button <class 'tkinter.Button'>\n",
      "140 Canvas <class 'tkinter.Canvas'>\n",
      "141 Checkbutton <class 'tkinter.Checkbutton'>\n",
      "142 Entry <class 'tkinter.Entry'>\n",
      "143 Frame <class 'tkinter.Frame'>\n",
      "144 Label <class 'tkinter.Label'>\n",
      "145 Listbox <class 'tkinter.Listbox'>\n",
      "146 Menu <class 'tkinter.Menu'>\n",
      "147 Menubutton <class 'tkinter.Menubutton'>\n",
      "148 Message <class 'tkinter.Message'>\n",
      "149 Radiobutton <class 'tkinter.Radiobutton'>\n",
      "150 Scale <class 'tkinter.Scale'>\n",
      "151 Scrollbar <class 'tkinter.Scrollbar'>\n",
      "152 Text <class 'tkinter.Text'>\n",
      "153 _setit <class 'tkinter._setit'>\n",
      "154 OptionMenu <class 'tkinter.OptionMenu'>\n",
      "155 Image <class 'tkinter.Image'>\n",
      "156 PhotoImage <class 'tkinter.PhotoImage'>\n",
      "157 BitmapImage <class 'tkinter.BitmapImage'>\n",
      "158 image_names <function image_names at 0x7faed652b130>\n",
      "159 image_types <function image_types at 0x7faed6533910>\n",
      "160 Spinbox <class 'tkinter.Spinbox'>\n",
      "161 LabelFrame <class 'tkinter.LabelFrame'>\n",
      "162 PanedWindow <class 'tkinter.PanedWindow'>\n",
      "163 _test <function _test at 0x7faed65339a0>\n",
      "164 __all__ <built-in name>\n",
      "------------------------------------------------------------\n",
      "tkinter has 165 names\n",
      "------------------------------------------------------------\n"
     ]
    }
   ],
   "source": [
    "import tkinter\n",
    "mydirfunc.listing(tkinter)"
   ]
  },
  {
   "cell_type": "code",
   "execution_count": null,
   "metadata": {},
   "outputs": [],
   "source": []
  }
 ],
 "metadata": {
  "kernelspec": {
   "display_name": "Python 3.10.4 ('arka')",
   "language": "python",
   "name": "python3"
  },
  "language_info": {
   "codemirror_mode": {
    "name": "ipython",
    "version": 3
   },
   "file_extension": ".py",
   "mimetype": "text/x-python",
   "name": "python",
   "nbconvert_exporter": "python",
   "pygments_lexer": "ipython3",
   "version": "3.10.4"
  },
  "orig_nbformat": 4,
  "vscode": {
   "interpreter": {
    "hash": "fa46da6b9307ef350aad613908c1591a068b15a96db2be16e9d9e053b74e28ee"
   }
  }
 },
 "nbformat": 4,
 "nbformat_minor": 2
}

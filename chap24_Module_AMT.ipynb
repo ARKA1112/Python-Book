{
 "cells": [
  {
   "cell_type": "markdown",
   "metadata": {},
   "source": [
    "#### Minimizing from * .....Damage: __X and __all__\n"
   ]
  },
  {
   "cell_type": "code",
   "execution_count": null,
   "metadata": {},
   "outputs": [],
   "source": [
    "#in order to reduce namespace pollution \n",
    "\n",
    "#A module can be named _X for which the modulename will not be copied to the client\n",
    "\n",
    "#And when a program runs: from X import * we can specify the packages to import when * is run in __all__ = [\"error\",\"encode\",\"decode\"]"
   ]
  },
  {
   "cell_type": "markdown",
   "metadata": {},
   "source": [
    "##### Enabling future language features"
   ]
  },
  {
   "cell_type": "code",
   "execution_count": null,
   "metadata": {},
   "outputs": [],
   "source": [
    "#from __future__ import featurename\n",
    "#future means optional extensions which are enabled but doesnt have stable support for this version of this language, and will be enabled in future versions"
   ]
  },
  {
   "cell_type": "code",
   "execution_count": null,
   "metadata": {},
   "outputs": [],
   "source": [
    "from __future__ import  "
   ]
  },
  {
   "cell_type": "markdown",
   "metadata": {},
   "source": [
    "#### Mixed usage modes: __name__and__main__"
   ]
  },
  {
   "cell_type": "code",
   "execution_count": null,
   "metadata": {},
   "outputs": [],
   "source": [
    "#since we created runme.py\n",
    "\n",
    "from pyfiles import runme    #imports but doesnt run\n",
    "\n",
    "#But when run in terminal it shows the desired output"
   ]
  },
  {
   "cell_type": "code",
   "execution_count": null,
   "metadata": {},
   "outputs": [],
   "source": [
    "#inside a module if we call __name__ check\n",
    "#for example if '__name__' == '__main__': checks if the function is run at runtime.If true then it is on runtime"
   ]
  },
  {
   "cell_type": "code",
   "execution_count": null,
   "metadata": {},
   "outputs": [],
   "source": [
    "#minmax function of chap18\n",
    "#recreated here as min.py\n",
    "\n",
    "from pyfiles import min\n",
    "#shows it is currently being imported\n",
    "#and dosent prints the output like runtime"
   ]
  },
  {
   "cell_type": "code",
   "execution_count": null,
   "metadata": {},
   "outputs": [],
   "source": [
    "min.minmax(min.lessthan,1,2,3,4)"
   ]
  },
  {
   "cell_type": "code",
   "execution_count": null,
   "metadata": {},
   "outputs": [],
   "source": [
    "import sys\n",
    "sys.argv"
   ]
  },
  {
   "cell_type": "code",
   "execution_count": null,
   "metadata": {},
   "outputs": [],
   "source": [
    "#refer to formats.py\n",
    "from pyfiles import formats\n",
    "formats.commas(10000)"
   ]
  },
  {
   "cell_type": "code",
   "execution_count": null,
   "metadata": {},
   "outputs": [],
   "source": [
    "from pyfiles import formats\n",
    "help(formats)"
   ]
  },
  {
   "cell_type": "code",
   "execution_count": null,
   "metadata": {},
   "outputs": [],
   "source": [
    "formats.__dict__['commas']\n",
    "#sys.modules['formats']\n",
    "getattr(formats, 'commas')"
   ]
  },
  {
   "cell_type": "code",
   "execution_count": null,
   "metadata": {},
   "outputs": [],
   "source": [
    "#refer mydirfunc.py\n",
    "\n",
    "from pyfiles import mydirfunc\n",
    "mydirfunc.listing(formats, verbose=False)"
   ]
  },
  {
   "cell_type": "code",
   "execution_count": null,
   "metadata": {},
   "outputs": [],
   "source": [
    "help(mydirfunc)"
   ]
  },
  {
   "cell_type": "code",
   "execution_count": null,
   "metadata": {},
   "outputs": [],
   "source": [
    "import tkinter\n",
    "mydirfunc.listing(tkinter)"
   ]
  },
  {
   "cell_type": "code",
   "execution_count": null,
   "metadata": {},
   "outputs": [],
   "source": [
    "#executing a string as a command using exec() command\n",
    "\n",
    "modname = 'string'\n",
    "exec(\"import \" +modname)           #imports the string\n",
    "string"
   ]
  },
  {
   "cell_type": "code",
   "execution_count": null,
   "metadata": {},
   "outputs": [],
   "source": [
    "#also another way of doing the same thing\n",
    "\n",
    "modname = 'string'\n",
    "string = __import__(modname)\n",
    "string"
   ]
  },
  {
   "cell_type": "code",
   "execution_count": null,
   "metadata": {},
   "outputs": [],
   "source": [
    "#refer to reloadall.py\n",
    "\n",
    "from pyfiles import reloadall\n",
    "import tkinter\n",
    "\n",
    "reloadall.reload_all(tkinter)"
   ]
  },
  {
   "cell_type": "markdown",
   "metadata": {},
   "source": [
    "![](otherfiles/Screenshot%20from%202022-09-25%2015-06-13.png)"
   ]
  },
  {
   "cell_type": "code",
   "execution_count": 9,
   "metadata": {},
   "outputs": [],
   "source": [
    "from pyfiles import nested1\n"
   ]
  },
  {
   "cell_type": "code",
   "execution_count": 12,
   "metadata": {},
   "outputs": [
    {
     "name": "stdout",
     "output_type": "stream",
     "text": [
      "88\n",
      "88\n"
     ]
    }
   ],
   "source": [
    "from pyfiles import nested2\n",
    "nested2.X = 88\n",
    "nested2.printer()\n",
    "\n",
    "nested1.X = 88   #value of X changed explicitly\n",
    "nested2.printer()"
   ]
  },
  {
   "cell_type": "code",
   "execution_count": 13,
   "metadata": {},
   "outputs": [],
   "source": [
    "#Quiz\n",
    "\n",
    "#1 Those names are copied out to the importing scope only\n",
    "\n",
    "#2 when the __name__ variable is the string \"__main__\" we can say that the function runs at runtime or as a top level script and is not imported\n",
    "\n",
    "#3 If typed as a string one can use the string as a command using exec() statement\n",
    "\n",
    "#4 changing the sys.path is temporary and exists only in the runtime\n",
    "\n",
    "#5 For that we have to install older python versions"
   ]
  },
  {
   "cell_type": "code",
   "execution_count": null,
   "metadata": {},
   "outputs": [],
   "source": []
  }
 ],
 "metadata": {
  "kernelspec": {
   "display_name": "Python 3.10.4 ('arka')",
   "language": "python",
   "name": "python3"
  },
  "language_info": {
   "codemirror_mode": {
    "name": "ipython",
    "version": 3
   },
   "file_extension": ".py",
   "mimetype": "text/x-python",
   "name": "python",
   "nbconvert_exporter": "python",
   "pygments_lexer": "ipython3",
   "version": "3.10.4"
  },
  "orig_nbformat": 4,
  "vscode": {
   "interpreter": {
    "hash": "fa46da6b9307ef350aad613908c1591a068b15a96db2be16e9d9e053b74e28ee"
   }
  }
 },
 "nbformat": 4,
 "nbformat_minor": 2
}

{
 "cells": [
  {
   "cell_type": "code",
   "execution_count": null,
   "metadata": {},
   "outputs": [],
   "source": [
    "class spamdata:\n",
    "    spam = 43\n",
    "\n",
    "x = spamdata()"
   ]
  },
  {
   "cell_type": "code",
   "execution_count": null,
   "metadata": {},
   "outputs": [],
   "source": [
    "print(x.spam)\n",
    "spamdata.spam = 99\n",
    "print(x.spam)    #with the change in class it reflects in the class instances too\n"
   ]
  },
  {
   "cell_type": "code",
   "execution_count": null,
   "metadata": {},
   "outputs": [],
   "source": [
    "#Comprehensive examples\n",
    "\n",
    "class MixedNames:\n",
    "    data = 'spam'                 #class attribute\n",
    "    def __init__(self,value):     #Assign class attr\n",
    "        self.data = value         #Assign method name\n",
    "    def display(self):            #\n",
    "        print(self.data, MixedNames.data) #Instance attr, class attr"
   ]
  },
  {
   "cell_type": "code",
   "execution_count": null,
   "metadata": {},
   "outputs": [],
   "source": [
    "MixedNames.data    #default attribute\n",
    "\n",
    "X = MixedNames('xdata')\n",
    "X.data,MixedNames.data   \n",
    "\n",
    "#X.data shows attributes assigned to X while assigning the class and taking the inpu\n",
    "\n",
    "#MixedNames.data show the default data attribute of the class\n",
    "\n",
    "x = MixedNames(1)\n",
    "y = MixedNames(2)\n",
    "\n",
    "print(x.data, y.data)\n",
    "x.display(), y.display()   #utilizes the display function\n",
    "\n",
    "#hence the data attribute exists in two places one in the class itself another when the init is utilized and self attributes are attached to the instances"
   ]
  },
  {
   "cell_type": "markdown",
   "metadata": {},
   "source": [
    "#### Methods"
   ]
  },
  {
   "cell_type": "code",
   "execution_count": null,
   "metadata": {},
   "outputs": [],
   "source": [
    "#for a class instance\n",
    "\n",
    "#Python automatically translates instance.method(args....) to class.method(instance, args....)\n",
    "\n",
    "#classs is located using python's inheritance search method"
   ]
  },
  {
   "cell_type": "code",
   "execution_count": null,
   "metadata": {},
   "outputs": [],
   "source": [
    "#Another example\n",
    "\n",
    "class NextClass:                    #Define class\n",
    "    def printer(self, text):        #Define method\n",
    "        self.text = text            #Change instance\n",
    "        print(self.text)            #Access instance"
   ]
  },
  {
   "cell_type": "code",
   "execution_count": null,
   "metadata": {},
   "outputs": [],
   "source": [
    "#this is instance call\n",
    "x = NextClass()                #instantiate the class   \n",
    "x.printer('hello')             #acces the method in the class\n",
    "\n",
    "#this is class call\n",
    "NextClass.printer(x,'hello world')  #assigns to x the text hello world"
   ]
  },
  {
   "cell_type": "code",
   "execution_count": null,
   "metadata": {},
   "outputs": [],
   "source": [
    "#If the subclass constructors need to fuarantee that superclass construction time logic runs, too they generally must call the superclass's __init_- method explicitly through the class:\n",
    "\n",
    "class Super:\n",
    "    def __init__(self,x):\n",
    "        pass\n",
    "class Sub(Super):\n",
    "    def __init__(self, x, y):  \n",
    "        Super.__init__(self, x)\n",
    "        self.x = x\n",
    "        self.y = y   \n",
    "    def __str__(self):\n",
    "        return ('%s--%s' %(self.x, self.y))"
   ]
  },
  {
   "cell_type": "code",
   "execution_count": null,
   "metadata": {},
   "outputs": [],
   "source": [
    "Super('pass'), Sub('ap','pal')\n",
    "Sub.__bases__   #inherits superclass and its props can be iherited using\n",
    "\n",
    "print(Sub(1,2))\n",
    "\n",
    "I = Sub(1,2)"
   ]
  },
  {
   "cell_type": "code",
   "execution_count": null,
   "metadata": {},
   "outputs": [],
   "source": [
    "#another inheritance example\n",
    "\n",
    "class Super:\n",
    "    def method(self):   #technically self refers to the instance\n",
    "        print('in Super.method')    #---------2\n",
    "\n",
    "class Sub(Super):\n",
    "    def method(self):\n",
    "        print('starting Sub.method')  #-------1\n",
    "        Super.method(self)\n",
    "        print('ending Sub.method')    #-------3"
   ]
  },
  {
   "cell_type": "code",
   "execution_count": null,
   "metadata": {},
   "outputs": [],
   "source": [
    "#Super.method(x)\n",
    "Sub.method(x)\n",
    "\n",
    "\n",
    "#executes #1 first because it calls the method attr of sub first\n",
    "#then inherits the Super method and hence executes the Super.method()\n",
    "#Finally it executes the print statement in the Sub() class"
   ]
  },
  {
   "cell_type": "markdown",
   "metadata": {},
   "source": [
    "![](Screenshot%20from%202022-09-29%2018-03-12.png)"
   ]
  },
  {
   "cell_type": "code",
   "execution_count": null,
   "metadata": {},
   "outputs": [],
   "source": [
    "x = Super()\n",
    "x.method()"
   ]
  },
  {
   "cell_type": "code",
   "execution_count": null,
   "metadata": {},
   "outputs": [],
   "source": [
    "x = Sub()\n",
    "x.method()\n",
    "#This extension coding pattern is also known as constructors"
   ]
  },
  {
   "cell_type": "markdown",
   "metadata": {},
   "source": [
    "#### Class Interface Techniques"
   ]
  },
  {
   "cell_type": "code",
   "execution_count": null,
   "metadata": {},
   "outputs": [],
   "source": [
    "#Extension is only one way to interface with a superclass. The file shown in this section specialize.py, define multiple classes tha illustrate a variety of common techniques:\n",
    "\n",
    "#Super \n",
    "    #Defines a method function and a delegate that expects an action in a subclass.\n",
    "\n",
    "#Inheritor\n",
    "    #Doesnt provide any new names, so it gets everything defined in Super\n",
    "\n",
    "#Replacer\n",
    "    #Overrides Super's method with a version of its own.\n",
    "\n",
    "#Extender\n",
    "    #Customizes Super's method by overriding and calling back to run the default.\n",
    "#Provider\n",
    "    #Implements the action method expected by Super's delegate method"
   ]
  },
  {
   "cell_type": "markdown",
   "metadata": {},
   "source": [
    "#### Using the Two classes we built"
   ]
  },
  {
   "cell_type": "code",
   "execution_count": null,
   "metadata": {},
   "outputs": [],
   "source": [
    "import specialize\n",
    "import person\n",
    "\n",
    "x = person.Person('Amber Heard','actor',10000)\n",
    "print(x)\n",
    "\n",
    "y = specialize.Provider.action(x)     #explicitly instantiate\n",
    "print(y)\n",
    "\n",
    "specialize.Provider.action(x)   #auto instantiate"
   ]
  },
  {
   "cell_type": "code",
   "execution_count": null,
   "metadata": {},
   "outputs": [],
   "source": [
    "#assert scheme in action \n",
    "#sort of try method\n",
    "\n",
    "class Super:\n",
    "    def delegate(self):\n",
    "        self.action()\n",
    "    def action(self):\n",
    "        assert False, 'action must be defined'"
   ]
  },
  {
   "cell_type": "code",
   "execution_count": null,
   "metadata": {},
   "outputs": [],
   "source": [
    "x = Super()\n",
    "x.delegate()"
   ]
  },
  {
   "cell_type": "code",
   "execution_count": null,
   "metadata": {},
   "outputs": [],
   "source": [
    "class Super:\n",
    "    def delegate(self):\n",
    "        self.action()\n",
    "    def action(self):\n",
    "        raise NotImplementedError('action must be defined')"
   ]
  },
  {
   "cell_type": "code",
   "execution_count": null,
   "metadata": {},
   "outputs": [],
   "source": [
    "x = Super()\n",
    "x.delegate()"
   ]
  },
  {
   "cell_type": "code",
   "execution_count": 52,
   "metadata": {},
   "outputs": [],
   "source": [
    "#eliminating the error\n",
    "\n",
    "class Super:\n",
    "    def delegate(self):\n",
    "        self.action()\n",
    "    def action(self):\n",
    "        assert False, 'action must be defined'\n",
    "    \n",
    "class Sub(Super):\n",
    "    def action(self):\n",
    "        print('spam')"
   ]
  },
  {
   "cell_type": "code",
   "execution_count": 54,
   "metadata": {},
   "outputs": [
    {
     "name": "stdout",
     "output_type": "stream",
     "text": [
      "spam\n"
     ]
    }
   ],
   "source": [
    "x = Sub()\n",
    "x.delegate()"
   ]
  },
  {
   "cell_type": "code",
   "execution_count": 55,
   "metadata": {},
   "outputs": [
    {
     "data": {
      "text/plain": [
       "11"
      ]
     },
     "execution_count": 55,
     "metadata": {},
     "output_type": "execute_result"
    }
   ],
   "source": [
    "import manynames\n",
    "manynames.X"
   ]
  },
  {
   "cell_type": "code",
   "execution_count": 137,
   "metadata": {},
   "outputs": [
    {
     "name": "stdout",
     "output_type": "stream",
     "text": [
      "11\n",
      "22\n",
      "33\n",
      "None\n",
      "33\n"
     ]
    },
    {
     "data": {
      "text/plain": [
       "55"
      ]
     },
     "execution_count": 137,
     "metadata": {},
     "output_type": "execute_result"
    }
   ],
   "source": [
    "from manynames import C\n",
    "\n",
    "\n",
    "manynames.f()\n",
    "manynames.g()\n",
    "print(manynames.C.X)\n",
    "print(manynames.C.m(X))\n",
    "x = manynames.C()\n",
    "print(x.X)   #prints the value of X within C class\n",
    "C.m(X)\n",
    "X.X   #shows X within the m function\n",
    "\n",
    "#X = 44 never prints because 44 is only accessible within the function m\n",
    "\n"
   ]
  },
  {
   "cell_type": "code",
   "execution_count": null,
   "metadata": {},
   "outputs": [],
   "source": []
  }
 ],
 "metadata": {
  "kernelspec": {
   "display_name": "Python 3.10.4 ('arka')",
   "language": "python",
   "name": "python3"
  },
  "language_info": {
   "codemirror_mode": {
    "name": "ipython",
    "version": 3
   },
   "file_extension": ".py",
   "mimetype": "text/x-python",
   "name": "python",
   "nbconvert_exporter": "python",
   "pygments_lexer": "ipython3",
   "version": "3.10.4"
  },
  "orig_nbformat": 4,
  "vscode": {
   "interpreter": {
    "hash": "fa46da6b9307ef350aad613908c1591a068b15a96db2be16e9d9e053b74e28ee"
   }
  }
 },
 "nbformat": 4,
 "nbformat_minor": 2
}

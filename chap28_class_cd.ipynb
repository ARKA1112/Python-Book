{
 "cells": [
  {
   "cell_type": "code",
   "execution_count": 1,
   "metadata": {},
   "outputs": [],
   "source": [
    "class spamdata:\n",
    "    spam = 43\n",
    "\n",
    "x = spamdata()"
   ]
  },
  {
   "cell_type": "code",
   "execution_count": 7,
   "metadata": {},
   "outputs": [
    {
     "name": "stdout",
     "output_type": "stream",
     "text": [
      "99\n",
      "99\n"
     ]
    }
   ],
   "source": [
    "print(x.spam)\n",
    "spamdata.spam = 99\n",
    "print(x.spam)    #with the change in class it reflects in the class instances too\n"
   ]
  },
  {
   "cell_type": "code",
   "execution_count": 17,
   "metadata": {},
   "outputs": [],
   "source": [
    "#Comprehensive examples\n",
    "\n",
    "class MixedNames:\n",
    "    data = 'spam'                 #class attribute\n",
    "    def __init__(self,value):     #Assign class attr\n",
    "        self.data = value         #Assign method name\n",
    "    def display(self):            #\n",
    "        print(self.data, MixedNames.data) #Instance attr, class attr"
   ]
  },
  {
   "cell_type": "code",
   "execution_count": 18,
   "metadata": {},
   "outputs": [
    {
     "data": {
      "text/plain": [
       "('xdata', 'spam')"
      ]
     },
     "execution_count": 18,
     "metadata": {},
     "output_type": "execute_result"
    }
   ],
   "source": [
    "MixedNames.data    #default attribute\n",
    "\n",
    "X = MixedNames('xdata')\n",
    "X.data,MixedNames.data   \n",
    "\n",
    "#X.data shows attributes assigned to X while assigning the class and taking the inpu\n",
    "\n",
    "#MixedNames.data show the default data attribute of the class\n",
    "\n"
   ]
  },
  {
   "cell_type": "code",
   "execution_count": null,
   "metadata": {},
   "outputs": [],
   "source": []
  }
 ],
 "metadata": {
  "kernelspec": {
   "display_name": "Python 3.10.4 ('arka')",
   "language": "python",
   "name": "python3"
  },
  "language_info": {
   "codemirror_mode": {
    "name": "ipython",
    "version": 3
   },
   "file_extension": ".py",
   "mimetype": "text/x-python",
   "name": "python",
   "nbconvert_exporter": "python",
   "pygments_lexer": "ipython3",
   "version": "3.10.4"
  },
  "orig_nbformat": 4,
  "vscode": {
   "interpreter": {
    "hash": "fa46da6b9307ef350aad613908c1591a068b15a96db2be16e9d9e053b74e28ee"
   }
  }
 },
 "nbformat": 4,
 "nbformat_minor": 2
}

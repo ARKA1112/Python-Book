{
 "cells": [
  {
   "cell_type": "code",
   "execution_count": 1,
   "metadata": {},
   "outputs": [],
   "source": [
    "class spamdata:\n",
    "    spam = 43\n",
    "\n",
    "x = spamdata()"
   ]
  },
  {
   "cell_type": "code",
   "execution_count": 2,
   "metadata": {},
   "outputs": [
    {
     "name": "stdout",
     "output_type": "stream",
     "text": [
      "43\n",
      "99\n"
     ]
    }
   ],
   "source": [
    "print(x.spam)\n",
    "spamdata.spam = 99\n",
    "print(x.spam)    #with the change in class it reflects in the class instances too\n"
   ]
  },
  {
   "cell_type": "code",
   "execution_count": 3,
   "metadata": {},
   "outputs": [],
   "source": [
    "#Comprehensive examples\n",
    "\n",
    "class MixedNames:\n",
    "    data = 'spam'                 #class attribute\n",
    "    def __init__(self,value):     #Assign class attr\n",
    "        self.data = value         #Assign method name\n",
    "    def display(self):            #\n",
    "        print(self.data, MixedNames.data) #Instance attr, class attr"
   ]
  },
  {
   "cell_type": "code",
   "execution_count": 4,
   "metadata": {},
   "outputs": [
    {
     "name": "stdout",
     "output_type": "stream",
     "text": [
      "1 2\n",
      "1 spam\n",
      "2 spam\n"
     ]
    },
    {
     "data": {
      "text/plain": [
       "(None, None)"
      ]
     },
     "execution_count": 4,
     "metadata": {},
     "output_type": "execute_result"
    }
   ],
   "source": [
    "MixedNames.data    #default attribute\n",
    "\n",
    "X = MixedNames('xdata')\n",
    "X.data,MixedNames.data   \n",
    "\n",
    "#X.data shows attributes assigned to X while assigning the class and taking the inpu\n",
    "\n",
    "#MixedNames.data show the default data attribute of the class\n",
    "\n",
    "x = MixedNames(1)\n",
    "y = MixedNames(2)\n",
    "\n",
    "print(x.data, y.data)\n",
    "x.display(), y.display()   #utilizes the display function\n",
    "\n",
    "#hence the data attribute exists in two places one in the class itself another when the init is utilized and self attributes are attached to the instances"
   ]
  },
  {
   "cell_type": "markdown",
   "metadata": {},
   "source": [
    "#### Methods"
   ]
  },
  {
   "cell_type": "code",
   "execution_count": 5,
   "metadata": {},
   "outputs": [],
   "source": [
    "#for a class instance\n",
    "\n",
    "#Python automatically translates instance.method(args....) to class.method(instance, args....)\n",
    "\n",
    "#classs is located using python's inheritance search method"
   ]
  },
  {
   "cell_type": "code",
   "execution_count": 6,
   "metadata": {},
   "outputs": [],
   "source": [
    "#Another example\n",
    "\n",
    "class NextClass:                    #Define class\n",
    "    def printer(self, text):        #Define method\n",
    "        self.text = text            #Change instance\n",
    "        print(self.text)            #Access instance"
   ]
  },
  {
   "cell_type": "code",
   "execution_count": 7,
   "metadata": {},
   "outputs": [
    {
     "name": "stdout",
     "output_type": "stream",
     "text": [
      "hello\n",
      "hello world\n"
     ]
    }
   ],
   "source": [
    "#this is instance call\n",
    "x = NextClass()                #instantiate the class   \n",
    "x.printer('hello')             #acces the method in the class\n",
    "\n",
    "#this is class call\n",
    "NextClass.printer(x,'hello world')  #assigns to x the text hello world"
   ]
  },
  {
   "cell_type": "code",
   "execution_count": 8,
   "metadata": {},
   "outputs": [],
   "source": [
    "#If the subclass constructors need to fuarantee that superclass construction time logic runs, too they generally must call the superclass's __init_- method explicitly through the class:\n",
    "\n",
    "class Super:\n",
    "    def __init__(self,x):\n",
    "        pass\n",
    "class Sub(Super):\n",
    "    def __init__(self, x, y):  \n",
    "        Super.__init__(self, x)\n",
    "        self.x = x\n",
    "        self.y = y   \n",
    "    def __str__(self):\n",
    "        return ('%s--%s' %(self.x, self.y))"
   ]
  },
  {
   "cell_type": "code",
   "execution_count": 9,
   "metadata": {},
   "outputs": [
    {
     "name": "stdout",
     "output_type": "stream",
     "text": [
      "1--2\n"
     ]
    }
   ],
   "source": [
    "Super('pass'), Sub('ap','pal')\n",
    "Sub.__bases__   #inherits superclass and its props can be iherited using\n",
    "\n",
    "print(Sub(1,2))\n",
    "\n",
    "I = Sub(1,2)"
   ]
  },
  {
   "cell_type": "code",
   "execution_count": 10,
   "metadata": {},
   "outputs": [],
   "source": [
    "#another inheritance example\n",
    "\n",
    "class Super:\n",
    "    def method(self):   #technically self refers to the instance\n",
    "        print('in Super.method')    #---------2\n",
    "\n",
    "class Sub(Super):\n",
    "    def method(self):\n",
    "        print('starting Sub.method')  #-------1\n",
    "        Super.method(self)\n",
    "        print('ending Sub.method')    #-------3"
   ]
  },
  {
   "cell_type": "code",
   "execution_count": 11,
   "metadata": {},
   "outputs": [
    {
     "name": "stdout",
     "output_type": "stream",
     "text": [
      "starting Sub.method\n",
      "in Super.method\n",
      "ending Sub.method\n"
     ]
    }
   ],
   "source": [
    "#Super.method(x)\n",
    "Sub.method(x)\n",
    "\n",
    "\n",
    "#executes #1 first because it calls the method attr of sub first\n",
    "#then inherits the Super method and hence executes the Super.method()\n",
    "#Finally it executes the print statement in the Sub() class"
   ]
  },
  {
   "cell_type": "markdown",
   "metadata": {},
   "source": [
    "![](Screenshot%20from%202022-09-29%2018-03-12.png)"
   ]
  },
  {
   "cell_type": "code",
   "execution_count": 12,
   "metadata": {},
   "outputs": [
    {
     "name": "stdout",
     "output_type": "stream",
     "text": [
      "in Super.method\n"
     ]
    }
   ],
   "source": [
    "x = Super()\n",
    "x.method()"
   ]
  },
  {
   "cell_type": "code",
   "execution_count": 13,
   "metadata": {},
   "outputs": [
    {
     "name": "stdout",
     "output_type": "stream",
     "text": [
      "starting Sub.method\n",
      "in Super.method\n",
      "ending Sub.method\n"
     ]
    }
   ],
   "source": [
    "x = Sub()\n",
    "x.method()\n",
    "#This extension coding pattern is also known as constructors"
   ]
  },
  {
   "cell_type": "markdown",
   "metadata": {},
   "source": [
    "#### Class Interface Techniques"
   ]
  },
  {
   "cell_type": "code",
   "execution_count": 14,
   "metadata": {},
   "outputs": [],
   "source": [
    "#Extension is only one way to interface with a superclass. The file shown in this section specialize.py, define multiple classes tha illustrate a variety of common techniques:\n",
    "\n",
    "#Super \n",
    "    #Defines a method function and a delegate that expects an action in a subclass.\n",
    "\n",
    "#Inheritor\n",
    "    #Doesnt provide any new names, so it gets everything defined in Super\n",
    "\n",
    "#Replacer\n",
    "    #Overrides Super's method with a version of its own.\n",
    "\n",
    "#Extender\n",
    "    #Customizes Super's method by overriding and calling back to run the default.\n",
    "#Provider\n",
    "    #Implements the action method expected by Super's delegate method"
   ]
  },
  {
   "cell_type": "markdown",
   "metadata": {},
   "source": [
    "#### Using the Two classes we built"
   ]
  },
  {
   "cell_type": "code",
   "execution_count": 15,
   "metadata": {},
   "outputs": [
    {
     "name": "stdout",
     "output_type": "stream",
     "text": [
      "(Person: Amber Heard actor 10000.00)\n",
      "Provider in action\n",
      "dict_keys(['name', 'job', 'pay'])\n",
      "None\n",
      "Provider in action\n",
      "dict_keys(['name', 'job', 'pay'])\n"
     ]
    }
   ],
   "source": [
    "import specialize\n",
    "import person\n",
    "\n",
    "x = person.Person('Amber Heard','actor',10000)\n",
    "print(x)\n",
    "\n",
    "y = specialize.Provider.action(x)     #explicitly instantiate\n",
    "print(y)\n",
    "\n",
    "specialize.Provider.action(x)   #auto instantiate"
   ]
  },
  {
   "cell_type": "code",
   "execution_count": 16,
   "metadata": {},
   "outputs": [],
   "source": [
    "#assert scheme in action \n",
    "#sort of try method\n",
    "\n",
    "class Super:\n",
    "    def delegate(self):\n",
    "        self.action()\n",
    "    def action(self):\n",
    "        assert False, 'action must be defined'"
   ]
  },
  {
   "cell_type": "code",
   "execution_count": 17,
   "metadata": {},
   "outputs": [
    {
     "ename": "AssertionError",
     "evalue": "action must be defined",
     "output_type": "error",
     "traceback": [
      "\u001b[0;31m---------------------------------------------------------------------------\u001b[0m",
      "\u001b[0;31mAssertionError\u001b[0m                            Traceback (most recent call last)",
      "\u001b[1;32m/home/susearc/Documents/github/Python-Book/chap28_class_cd.ipynb Cell 21\u001b[0m in \u001b[0;36m<cell line: 2>\u001b[0;34m()\u001b[0m\n\u001b[1;32m      <a href='vscode-notebook-cell:/home/susearc/Documents/github/Python-Book/chap28_class_cd.ipynb#X26sZmlsZQ%3D%3D?line=0'>1</a>\u001b[0m x \u001b[39m=\u001b[39m Super()\n\u001b[0;32m----> <a href='vscode-notebook-cell:/home/susearc/Documents/github/Python-Book/chap28_class_cd.ipynb#X26sZmlsZQ%3D%3D?line=1'>2</a>\u001b[0m x\u001b[39m.\u001b[39;49mdelegate()\n",
      "\u001b[1;32m/home/susearc/Documents/github/Python-Book/chap28_class_cd.ipynb Cell 21\u001b[0m in \u001b[0;36mSuper.delegate\u001b[0;34m(self)\u001b[0m\n\u001b[1;32m      <a href='vscode-notebook-cell:/home/susearc/Documents/github/Python-Book/chap28_class_cd.ipynb#X26sZmlsZQ%3D%3D?line=4'>5</a>\u001b[0m \u001b[39mdef\u001b[39;00m \u001b[39mdelegate\u001b[39m(\u001b[39mself\u001b[39m):\n\u001b[0;32m----> <a href='vscode-notebook-cell:/home/susearc/Documents/github/Python-Book/chap28_class_cd.ipynb#X26sZmlsZQ%3D%3D?line=5'>6</a>\u001b[0m     \u001b[39mself\u001b[39;49m\u001b[39m.\u001b[39;49maction()\n",
      "\u001b[1;32m/home/susearc/Documents/github/Python-Book/chap28_class_cd.ipynb Cell 21\u001b[0m in \u001b[0;36mSuper.action\u001b[0;34m(self)\u001b[0m\n\u001b[1;32m      <a href='vscode-notebook-cell:/home/susearc/Documents/github/Python-Book/chap28_class_cd.ipynb#X26sZmlsZQ%3D%3D?line=6'>7</a>\u001b[0m \u001b[39mdef\u001b[39;00m \u001b[39maction\u001b[39m(\u001b[39mself\u001b[39m):\n\u001b[0;32m----> <a href='vscode-notebook-cell:/home/susearc/Documents/github/Python-Book/chap28_class_cd.ipynb#X26sZmlsZQ%3D%3D?line=7'>8</a>\u001b[0m     \u001b[39massert\u001b[39;00m \u001b[39mFalse\u001b[39;00m, \u001b[39m'\u001b[39m\u001b[39maction must be defined\u001b[39m\u001b[39m'\u001b[39m\n",
      "\u001b[0;31mAssertionError\u001b[0m: action must be defined"
     ]
    }
   ],
   "source": [
    "x = Super()\n",
    "x.delegate()"
   ]
  },
  {
   "cell_type": "code",
   "execution_count": null,
   "metadata": {},
   "outputs": [],
   "source": [
    "class Super:\n",
    "    def delegate(self):\n",
    "        self.action()\n",
    "    def action(self):\n",
    "        raise NotImplementedError('action must be defined')"
   ]
  },
  {
   "cell_type": "code",
   "execution_count": null,
   "metadata": {},
   "outputs": [],
   "source": [
    "x = Super()\n",
    "x.delegate()"
   ]
  },
  {
   "cell_type": "code",
   "execution_count": null,
   "metadata": {},
   "outputs": [],
   "source": [
    "#eliminating the error\n",
    "\n",
    "class Super:\n",
    "    def delegate(self):\n",
    "        self.action()\n",
    "    def action(self):\n",
    "        assert False, 'action must be defined'\n",
    "    \n",
    "class Sub(Super):\n",
    "    def action(self):\n",
    "        print('spam')"
   ]
  },
  {
   "cell_type": "code",
   "execution_count": null,
   "metadata": {},
   "outputs": [],
   "source": [
    "x = Sub()\n",
    "x.delegate()"
   ]
  },
  {
   "cell_type": "code",
   "execution_count": null,
   "metadata": {},
   "outputs": [],
   "source": [
    "import manynames\n",
    "manynames.X"
   ]
  },
  {
   "cell_type": "code",
   "execution_count": null,
   "metadata": {},
   "outputs": [],
   "source": [
    "from manynames import C\n",
    "\n",
    "\n",
    "manynames.f()\n",
    "manynames.g()\n",
    "print(manynames.C.X)\n",
    "print(manynames.C.m(X))\n",
    "x = manynames.C()\n",
    "print(x.X)   #prints the value of X within C class\n",
    "C.m(X)\n",
    "X.X   #shows X within the m function\n",
    "\n",
    "#X = 44 never prints because 44 is only accessible within the function m\n",
    "\n",
    "#local variables within functions and methods can never be accessed outside of the function/method"
   ]
  },
  {
   "cell_type": "code",
   "execution_count": null,
   "metadata": {},
   "outputs": [],
   "source": [
    "#Namespaces are essentially dictionary\n",
    "\n",
    "class super:\n",
    "    def hello(self):\n",
    "        self.data1 = 'spam'\n",
    "class sub(super):\n",
    "    def hola(self):\n",
    "        self.data2 = 'eggs'"
   ]
  },
  {
   "cell_type": "code",
   "execution_count": null,
   "metadata": {},
   "outputs": [],
   "source": [
    "#lets instantiate\n",
    "\n",
    "X = sub()\n",
    "X.__dict__  #shows empty\n",
    "\n",
    "X.__class__  #class name\n",
    "\n",
    "sub.__bases__   #shows superclasses\n",
    "\n",
    "super.__bases__   #no superclasses hence empty tuple"
   ]
  },
  {
   "cell_type": "code",
   "execution_count": null,
   "metadata": {},
   "outputs": [],
   "source": [
    "Y = sub()\n",
    "X.__dict__ #is empty. Although it is an instance of the sub class unless the inbuilt function is executed it dosent allot any of the attributes within the class\n",
    "\n",
    "#for example\n",
    "\n",
    "X.hello()\n",
    "X.__dict__  #hello function executed and the data1 atttribute has been atttached\n",
    "\n",
    "X.hola()\n",
    "\n",
    "X.__dict__  #as hola function is executed the data2 attribute is attached\n",
    "X.__dict__.keys(), Y.__dict__"
   ]
  },
  {
   "cell_type": "code",
   "execution_count": null,
   "metadata": {},
   "outputs": [],
   "source": [
    "X.data1, X.__dict__['data1']   #can be accessed by key or by qualification\n"
   ]
  },
  {
   "cell_type": "code",
   "execution_count": null,
   "metadata": {},
   "outputs": [],
   "source": [
    "X.data3 = 'toast'\n",
    "X.__dict__             #extra attribute added\n",
    "\n",
    "X.__dict__['data3'] = 'ham'\n",
    "X.data3    #data3 changed by assignment"
   ]
  },
  {
   "cell_type": "code",
   "execution_count": null,
   "metadata": {},
   "outputs": [],
   "source": [
    "X.hello"
   ]
  },
  {
   "cell_type": "code",
   "execution_count": null,
   "metadata": {},
   "outputs": [
    {
     "data": {
      "text/plain": [
       "['data1', 'data2', 'data3', 'hello', 'hola']"
      ]
     },
     "execution_count": 30,
     "metadata": {},
     "output_type": "execute_result"
    }
   ],
   "source": [
    "D = []\n",
    "for x in dir(X):\n",
    "    if not x.startswith('__'):\n",
    "        D.append(x)\n",
    "\n",
    "D  #extracting the inherited and attached attributes from dir(X)\n",
    "\n"
   ]
  },
  {
   "cell_type": "markdown",
   "metadata": {},
   "source": [
    "#### Namespace Links"
   ]
  },
  {
   "cell_type": "code",
   "execution_count": 22,
   "metadata": {},
   "outputs": [
    {
     "data": {
      "text/plain": [
       "<module 'classtree' from '/home/susearc/Documents/github/Python-Book/classtree.py'>"
      ]
     },
     "execution_count": 22,
     "metadata": {},
     "output_type": "execute_result"
    }
   ],
   "source": [
    "import classtree\n",
    "from importlib import reload\n",
    "reload(classtree)"
   ]
  },
  {
   "cell_type": "code",
   "execution_count": 23,
   "metadata": {},
   "outputs": [
    {
     "name": "stdout",
     "output_type": "stream",
     "text": [
      "Tree of <__main__.Person object at 0x7f231cbb7430>\n",
      "...Person\n",
      "......Emp\n",
      ".........object\n"
     ]
    }
   ],
   "source": [
    "class Emp:\n",
    "    pass\n",
    "\n",
    "class Person(Emp):\n",
    "    pass\n",
    "\n",
    "bob = Person()\n",
    "import classtree\n",
    "classtree.instancetree(bob)"
   ]
  },
  {
   "cell_type": "markdown",
   "metadata": {},
   "source": [
    "#### Classes versus Modules\n"
   ]
  },
  {
   "cell_type": "code",
   "execution_count": 24,
   "metadata": {},
   "outputs": [],
   "source": [
    "#Modules\n",
    "\n",
    "#----are data/logic packages\n",
    "#----are created by writing python files or C extensions\n",
    "#----are used by being imported\n",
    "\n",
    "\n",
    "#classes\n",
    "#---- Implement new objects\n",
    "#---- Are created by class statements\n",
    "#---- Are used by being called\n",
    "#---- Always live within a module"
   ]
  },
  {
   "cell_type": "markdown",
   "metadata": {},
   "source": [
    "#### Quiz"
   ]
  },
  {
   "cell_type": "code",
   "execution_count": null,
   "metadata": {},
   "outputs": [],
   "source": [
    "#q1 Abstract superlcass is a class that calls a method, but does not    inherit or define it. It expects the method to be filled in by a subclass. This is often used as a way to generalize classes when behavior cannot be predicted until a more specific subclass is coded. OOp frameworks also use this as a way to dispatch to client-defined.customizable operations.\n",
    "\n",
    "#q2 When a simple assignment appears at the top level of a class statement it becomes an assignment exclusive to that class statement only\n",
    "\n",
    "#q3In order to initialize the attributes within the superclass which takes input at class runtime/ the superclass also has __init__ in its statement\n",
    "\n",
    "#q4 bringing in the method from the parent class and then adding/extending statements to it\n"
   ]
  }
 ],
 "metadata": {
  "kernelspec": {
   "display_name": "Python 3.10.4 ('arka')",
   "language": "python",
   "name": "python3"
  },
  "language_info": {
   "codemirror_mode": {
    "name": "ipython",
    "version": 3
   },
   "file_extension": ".py",
   "mimetype": "text/x-python",
   "name": "python",
   "nbconvert_exporter": "python",
   "pygments_lexer": "ipython3",
   "version": "3.10.4"
  },
  "orig_nbformat": 4,
  "vscode": {
   "interpreter": {
    "hash": "fa46da6b9307ef350aad613908c1591a068b15a96db2be16e9d9e053b74e28ee"
   }
  }
 },
 "nbformat": 4,
 "nbformat_minor": 2
}

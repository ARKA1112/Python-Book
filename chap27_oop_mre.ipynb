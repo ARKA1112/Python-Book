{
 "cells": [
  {
   "cell_type": "code",
   "execution_count": 17,
   "metadata": {},
   "outputs": [],
   "source": [
    "#refer to the file named person.py"
   ]
  },
  {
   "cell_type": "code",
   "execution_count": 18,
   "metadata": {
    "tags": []
   },
   "outputs": [],
   "source": [
    "class Person:\n",
    "    def __init__(self,name,job=None,pay=0):                        #in operator overloading terms self is the newly created instance object\n",
    "        self.name = name                                    #name job and pay become state information\n",
    "        self.job = job                                      #They are local variable within __init__ and when we do self.job it assigns an attribute named job referenced to the local variable name job although they name same but they are two different variables\n",
    "        self.pay = pay\n",
    "\n",
    "#according to python syntax once a default has been specified for an attribute the defaults for the following attributes also has to be specified\n",
    "\n",
    "\n",
    "#since the values for the job and pay attribute has been mentioned the values of them to supply is optional\n",
    "\n",
    "\n"
   ]
  },
  {
   "cell_type": "code",
   "execution_count": 19,
   "metadata": {},
   "outputs": [
    {
     "name": "stdout",
     "output_type": "stream",
     "text": [
      "Bob Smith 0\n",
      "Sue Jones dev 100000\n"
     ]
    }
   ],
   "source": [
    "bob = Person('Bob Smith')\n",
    "sue = Person('Sue Jones', job='dev', pay=100000)\n",
    "print(bob.name, bob.pay)\n",
    "print(sue.name,sue.job,sue.pay)"
   ]
  },
  {
   "cell_type": "code",
   "execution_count": 20,
   "metadata": {},
   "outputs": [
    {
     "data": {
      "text/plain": [
       "0"
      ]
     },
     "execution_count": 20,
     "metadata": {},
     "output_type": "execute_result"
    }
   ],
   "source": [
    "import person\n",
    "A = person.Person\n",
    "A('adams').pay"
   ]
  },
  {
   "cell_type": "code",
   "execution_count": 21,
   "metadata": {},
   "outputs": [
    {
     "name": "stdout",
     "output_type": "stream",
     "text": [
      "Sue Jones Bob Smith\n"
     ]
    }
   ],
   "source": [
    "print('{1} {0}'.format(bob.name,sue.name))"
   ]
  },
  {
   "cell_type": "markdown",
   "metadata": {},
   "source": [
    "#### Adding behavioral methods"
   ]
  },
  {
   "cell_type": "code",
   "execution_count": 22,
   "metadata": {},
   "outputs": [
    {
     "name": "stdout",
     "output_type": "stream",
     "text": [
      "100000\n"
     ]
    }
   ],
   "source": [
    "bob.name.split()\n",
    "print(sue.pay)"
   ]
  },
  {
   "cell_type": "code",
   "execution_count": 23,
   "metadata": {},
   "outputs": [
    {
     "data": {
      "text/plain": [
       "<module 'person' from '/home/susearc/Documents/github/Python-Book/person.py'>"
      ]
     },
     "execution_count": 23,
     "metadata": {},
     "output_type": "execute_result"
    }
   ],
   "source": [
    "from importlib import reload\n",
    "reload(person)"
   ]
  },
  {
   "cell_type": "markdown",
   "metadata": {},
   "source": [
    "#### Coding methods...Encapsulation"
   ]
  },
  {
   "cell_type": "code",
   "execution_count": 24,
   "metadata": {},
   "outputs": [],
   "source": [
    "#adding methods inside the class instead of hardcoding it in the class\n",
    "\n",
    "class Person:\n",
    "    def __init__(self,name,job=None,pay=0):\n",
    "        self.name = name\n",
    "        self.job = job\n",
    "        self.pay = pay\n",
    "    def lastName(self):\n",
    "        return self.name.split()[-1]\n",
    "    def payRaise(self,percent):\n",
    "        self.pay = int(self.pay * (1 + percent/100))\n",
    "        return self.pay\n",
    "\n"
   ]
  },
  {
   "cell_type": "code",
   "execution_count": 25,
   "metadata": {},
   "outputs": [
    {
     "data": {
      "text/plain": [
       "('Smith', 101, 103)"
      ]
     },
     "execution_count": 25,
     "metadata": {},
     "output_type": "execute_result"
    }
   ],
   "source": [
    "bob = Person('Bob Smith',pay=100)\n",
    "bob.lastName(), bob.payRaise(percent = 1), bob.payRaise(2)"
   ]
  },
  {
   "cell_type": "code",
   "execution_count": 26,
   "metadata": {},
   "outputs": [
    {
     "data": {
      "text/plain": [
       "('Davis', 10200)"
      ]
     },
     "execution_count": 26,
     "metadata": {},
     "output_type": "execute_result"
    }
   ],
   "source": [
    "bob = Person(name='Bob Dylan')\n",
    "sue = Person(name='Sue Davis')\n",
    "sue.pay = 10000     #otherwise defaults to 0 as supplied\n",
    "sue.lastName(),sue.payRaise(2)"
   ]
  },
  {
   "cell_type": "code",
   "execution_count": 27,
   "metadata": {},
   "outputs": [
    {
     "data": {
      "text/plain": [
       "'Dylan'"
      ]
     },
     "execution_count": 27,
     "metadata": {},
     "output_type": "execute_result"
    }
   ],
   "source": [
    "bob.lastName()"
   ]
  },
  {
   "cell_type": "markdown",
   "metadata": {},
   "source": [
    "#### Operator Overloading"
   ]
  },
  {
   "cell_type": "code",
   "execution_count": 28,
   "metadata": {},
   "outputs": [
    {
     "name": "stdout",
     "output_type": "stream",
     "text": [
      "<__main__.Person object at 0x7fe66f64fdc0>\n"
     ]
    }
   ],
   "source": [
    "print(bob)"
   ]
  },
  {
   "cell_type": "code",
   "execution_count": null,
   "metadata": {},
   "outputs": [],
   "source": []
  },
  {
   "cell_type": "code",
   "execution_count": 31,
   "metadata": {},
   "outputs": [
    {
     "name": "stdout",
     "output_type": "stream",
     "text": [
      "Bob Smith 0\n",
      "Sue Jones dev 100000\n",
      "Smith\n",
      "110000.00\n",
      "[Person: Sue Jones 110000.00000000001]\n"
     ]
    }
   ],
   "source": [
    "#adding str method\n",
    "class Person:\n",
    "    def __init__(self,name,job=None,pay=0):\n",
    "        self.name = name\n",
    "        self.job = job\n",
    "        self.pay = pay\n",
    "    def lastName(self):\n",
    "        return self.name.split()[-1]\n",
    "    def giveRaise(self,percent):\n",
    "        self.pay = int(self.pay * (1 + percent/100))\n",
    "        return self.pay\n",
    "    def __str__(self):\n",
    "        return '[Person: %s %s]' %(self.name, self.pay)\n",
    "class Manager(Person):\n",
    "    def giveRaise(self, percent, bonus = 10):\n",
    "        Person.giveRaise(self, percent+bonus)\n",
    "    def __str__(self):\n",
    "        return '(Manager: %s %s %f' %(self.name, self.job,self.pay)\n",
    "\n",
    "\n",
    "if __name__ == '__main__':\n",
    "    bob = Person('Bob Smith')\n",
    "    sue = Person('Sue Jones', job='dev', pay=100000)\n",
    "    print(bob.name, bob.pay)\n",
    "    print(sue.name,sue.job,sue.pay)\n",
    "    print(bob.name.split()[-1])    #extracts last name\n",
    "    sue.pay *= 1.10\n",
    "    print('%.2f'%(sue.pay))\n",
    "    print(sue)\n",
    "    tom = Manager('Tom Jones','mgr',10000)\n",
    "    tom.giveRaise(10)"
   ]
  },
  {
   "cell_type": "code",
   "execution_count": null,
   "metadata": {},
   "outputs": [],
   "source": [
    "bob = Person('Bob Smith')\n",
    "print(bob), print(sue) #since sue is not the instance of the new function it shows the function instance"
   ]
  },
  {
   "cell_type": "markdown",
   "metadata": {},
   "source": [
    "##### Coding subclasses"
   ]
  },
  {
   "cell_type": "code",
   "execution_count": null,
   "metadata": {},
   "outputs": [],
   "source": [
    "#refer manager.py"
   ]
  },
  {
   "cell_type": "code",
   "execution_count": null,
   "metadata": {},
   "outputs": [],
   "source": [
    "from importlib import reload\n",
    "reload(person)\n",
    "import person\n",
    "\n",
    "tom = person.Manager('Tom Jones','mgr',10000)\n",
    "print(tom)"
   ]
  },
  {
   "cell_type": "code",
   "execution_count": null,
   "metadata": {},
   "outputs": [],
   "source": []
  }
 ],
 "metadata": {
  "kernelspec": {
   "display_name": "Python 3.10.4 ('arka')",
   "language": "python",
   "name": "python3"
  },
  "language_info": {
   "codemirror_mode": {
    "name": "ipython",
    "version": 3
   },
   "file_extension": ".py",
   "mimetype": "text/x-python",
   "name": "python",
   "nbconvert_exporter": "python",
   "pygments_lexer": "ipython3",
   "version": "3.10.4"
  },
  "orig_nbformat": 4,
  "vscode": {
   "interpreter": {
    "hash": "fa46da6b9307ef350aad613908c1591a068b15a96db2be16e9d9e053b74e28ee"
   }
  }
 },
 "nbformat": 4,
 "nbformat_minor": 2
}

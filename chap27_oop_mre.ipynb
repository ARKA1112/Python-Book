{
 "cells": [
  {
   "cell_type": "code",
   "execution_count": null,
   "metadata": {},
   "outputs": [],
   "source": [
    "#refer to the file named person.py"
   ]
  },
  {
   "cell_type": "code",
   "execution_count": null,
   "metadata": {
    "tags": []
   },
   "outputs": [],
   "source": [
    "class Person:\n",
    "    def __init__(self,name,job=None,pay=0):                        #in operator overloading terms self is the newly created instance object\n",
    "        self.name = name                                    #name job and pay become state information\n",
    "        self.job = job                                      #They are local variable within __init__ and when we do self.job it assigns an attribute named job referenced to the local variable name job although they name same but they are two different variables\n",
    "        self.pay = pay\n",
    "\n",
    "#according to python syntax once a default has been specified for an attribute the defaults for the following attributes also has to be specified\n",
    "\n",
    "\n",
    "#since the values for the job and pay attribute has been mentioned the values of them to supply is optional\n",
    "\n",
    "\n"
   ]
  },
  {
   "cell_type": "code",
   "execution_count": null,
   "metadata": {},
   "outputs": [],
   "source": [
    "bob = Person('Bob Smith')\n",
    "sue = Person('Sue Jones', job='dev', pay=100000)\n",
    "print(bob.name, bob.pay)\n",
    "print(sue.name,sue.job,sue.pay)"
   ]
  },
  {
   "cell_type": "code",
   "execution_count": null,
   "metadata": {},
   "outputs": [],
   "source": [
    "import person\n",
    "A = person.Person\n",
    "A('adams').pay"
   ]
  },
  {
   "cell_type": "code",
   "execution_count": null,
   "metadata": {},
   "outputs": [],
   "source": [
    "print('{1} {0}'.format(bob.name,sue.name))"
   ]
  },
  {
   "cell_type": "markdown",
   "metadata": {},
   "source": [
    "#### Adding behavioral methods"
   ]
  },
  {
   "cell_type": "code",
   "execution_count": null,
   "metadata": {},
   "outputs": [],
   "source": [
    "bob.name.split()\n",
    "print(sue.pay)"
   ]
  },
  {
   "cell_type": "code",
   "execution_count": null,
   "metadata": {},
   "outputs": [],
   "source": [
    "from importlib import reload\n",
    "reload(person)"
   ]
  },
  {
   "cell_type": "markdown",
   "metadata": {},
   "source": [
    "#### Coding methods...Encapsulation"
   ]
  },
  {
   "cell_type": "code",
   "execution_count": null,
   "metadata": {},
   "outputs": [],
   "source": [
    "#adding methods inside the class instead of hardcoding it in the class\n",
    "\n",
    "class Person:\n",
    "    def __init__(self,name,job=None,pay=0):\n",
    "        self.name = name\n",
    "        self.job = job\n",
    "        self.pay = pay\n",
    "    def lastName(self):\n",
    "        return self.name.split()[-1]\n",
    "    def payRaise(self,percent):\n",
    "        self.pay = int(self.pay * (1 + percent/100))\n",
    "        return self.pay\n",
    "\n"
   ]
  },
  {
   "cell_type": "code",
   "execution_count": null,
   "metadata": {},
   "outputs": [],
   "source": [
    "bob = Person('Bob Smith',pay=100)\n",
    "bob.lastName(), bob.payRaise(percent = 1), bob.payRaise(2)"
   ]
  },
  {
   "cell_type": "code",
   "execution_count": null,
   "metadata": {},
   "outputs": [],
   "source": [
    "bob = Person(name='Bob Dylan')\n",
    "sue = Person(name='Sue Davis')\n",
    "sue.pay = 10000     #otherwise defaults to 0 as supplied\n",
    "sue.lastName(),sue.payRaise(2)"
   ]
  },
  {
   "cell_type": "code",
   "execution_count": null,
   "metadata": {},
   "outputs": [],
   "source": [
    "bob.lastName()"
   ]
  },
  {
   "cell_type": "markdown",
   "metadata": {},
   "source": [
    "#### Operator Overloading"
   ]
  },
  {
   "cell_type": "code",
   "execution_count": null,
   "metadata": {},
   "outputs": [],
   "source": [
    "print(bob)"
   ]
  },
  {
   "cell_type": "code",
   "execution_count": null,
   "metadata": {},
   "outputs": [],
   "source": []
  },
  {
   "cell_type": "code",
   "execution_count": null,
   "metadata": {},
   "outputs": [],
   "source": [
    "#adding str method\n",
    "class Person:\n",
    "    def __init__(self,name,job=None,pay=0):\n",
    "        self.name = name\n",
    "        self.job = job\n",
    "        self.pay = pay\n",
    "    def lastName(self):\n",
    "        return self.name.split()[-1]\n",
    "    def giveRaise(self,percent):\n",
    "        self.pay = int(self.pay * (1 + percent/100))\n",
    "        return self.pay\n",
    "    def __str__(self):\n",
    "        return '[Person: %s %s]' %(self.name, self.pay)\n",
    "class Manager(Person):\n",
    "    def giveRaise(self, percent, bonus = 10):\n",
    "        Person.giveRaise(self, percent+bonus)\n",
    "    def __str__(self):\n",
    "        return '(Manager: %s %s %f' %(self.name, self.job,self.pay)\n",
    "\n",
    "\n",
    "if __name__ == '__main__':\n",
    "    bob = Person('Bob Smith')\n",
    "    sue = Person('Sue Jones', job='dev', pay=100000)\n",
    "    print(bob.name, bob.pay)\n",
    "    print(sue.name,sue.job,sue.pay)\n",
    "    print(bob.name.split()[-1])    #extracts last name\n",
    "    sue.pay *= 1.10\n",
    "    print('%.2f'%(sue.pay))\n",
    "    print(sue)\n",
    "    tom = Manager('Tom Jones','mgr',10000)\n",
    "    tom.giveRaise(10)"
   ]
  },
  {
   "cell_type": "code",
   "execution_count": null,
   "metadata": {},
   "outputs": [],
   "source": [
    "bob = Person('Bob Smith')\n",
    "print(bob), print(sue) #since sue is not the instance of the new function it shows the function instance"
   ]
  },
  {
   "cell_type": "markdown",
   "metadata": {},
   "source": [
    "##### Coding subclasses"
   ]
  },
  {
   "cell_type": "code",
   "execution_count": null,
   "metadata": {},
   "outputs": [],
   "source": [
    "#refer manager.py"
   ]
  },
  {
   "cell_type": "code",
   "execution_count": null,
   "metadata": {},
   "outputs": [],
   "source": [
    "from importlib import reload\n",
    "import person\n",
    "reload(person)\n",
    "import person\n",
    "\n",
    "tom = person.Manager('Tom Jones',10000)\n",
    "bob = person.Person('Bob Smith','dev',10000)\n",
    "sue = person.Person('Sue Jones','tech',12000)\n",
    "print(tom)"
   ]
  },
  {
   "cell_type": "markdown",
   "metadata": {},
   "source": [
    "#### Polymorphism in action"
   ]
  },
  {
   "cell_type": "code",
   "execution_count": null,
   "metadata": {},
   "outputs": [],
   "source": [
    " print('--all three--')\n",
    "for object in (bob,sue,tom,Adam):       #process objects generically\n",
    "    object.giveRaise(10)           #Run this object's giveRaise\n",
    "    print(object) "
   ]
  },
  {
   "cell_type": "markdown",
   "metadata": {},
   "source": [
    "#### Inherit customize and extend"
   ]
  },
  {
   "cell_type": "code",
   "execution_count": null,
   "metadata": {},
   "outputs": [],
   "source": [
    "#adding a new function in the manager section\n",
    "from person import Manager\n",
    "Adam = Manager('Adam Burns',9900)\n",
    "Adam.hobby('Golf')\n",
    "tom.trait= 'cunning'\n",
    "tom.hobby = 'Tennis'"
   ]
  },
  {
   "cell_type": "code",
   "execution_count": null,
   "metadata": {},
   "outputs": [],
   "source": [
    "tom.trait"
   ]
  },
  {
   "cell_type": "code",
   "execution_count": null,
   "metadata": {},
   "outputs": [],
   "source": [
    "#Modifying in order not to pass in job title everytime the manager class is called\n",
    "\n",
    "\n",
    "#refer person.py\n",
    "\n"
   ]
  },
  {
   "cell_type": "code",
   "execution_count": null,
   "metadata": {},
   "outputs": [],
   "source": [
    "#aggregate embedded objects into a composite\n",
    "\n",
    "bob = Person('Bob Smith',job='dev',pay=10000)\n",
    "sue = Person('Sue Jones',job='dev',pay=10000)\n",
    "adam = Manager('Adam Smith', pay=10000)"
   ]
  },
  {
   "cell_type": "markdown",
   "metadata": {},
   "source": []
  },
  {
   "cell_type": "code",
   "execution_count": null,
   "metadata": {},
   "outputs": [],
   "source": [
    "#creating a class to enable composition using aggregate object\n",
    "\n",
    "class aggregate:\n",
    "    \n",
    "    def __init__(self,*args):\n",
    "        self.members = list(args)\n",
    "    \n",
    "    def giveRaises(self, percent):\n",
    "        for person in self.members:\n",
    "            person.giveRaise(percent)\n",
    "    \n",
    "    def addMember(self,person):\n",
    "        self.members.append(person)\n",
    "    def showAll(self):\n",
    "        for person in self.members:\n",
    "            print(person)"
   ]
  },
  {
   "cell_type": "code",
   "execution_count": null,
   "metadata": {},
   "outputs": [],
   "source": [
    "A = aggregate(bob,sue,adam)\n",
    "paul = Person('Paul Mckenney', job='staff',pay = 4500)  #defining the member with appropriate class "
   ]
  },
  {
   "cell_type": "code",
   "execution_count": null,
   "metadata": {},
   "outputs": [],
   "source": [
    "A.addMember(paul)  #adding the member in the instance\n",
    "A.showAll()      #showing all the members\n",
    "\n",
    "#we can see paul mckinnery added to the list"
   ]
  },
  {
   "cell_type": "code",
   "execution_count": null,
   "metadata": {},
   "outputs": [],
   "source": [
    "paul.__class__  \n",
    "paul.__class__.__name__\n",
    "list(paul.__dict__.keys())   #shows the attributes"
   ]
  },
  {
   "cell_type": "code",
   "execution_count": null,
   "metadata": {},
   "outputs": [],
   "source": [
    "for key in list(paul.__dict__.keys()):\n",
    "    print(key,'=>',paul.__dict__[key])    #dictionary based access to class attributes"
   ]
  },
  {
   "cell_type": "code",
   "execution_count": null,
   "metadata": {},
   "outputs": [],
   "source": [
    "import classtools"
   ]
  },
  {
   "cell_type": "code",
   "execution_count": null,
   "metadata": {},
   "outputs": [],
   "source": [
    "dir(bob)"
   ]
  },
  {
   "cell_type": "code",
   "execution_count": null,
   "metadata": {},
   "outputs": [],
   "source": [
    "bob.__dict__.keys()"
   ]
  },
  {
   "cell_type": "code",
   "execution_count": null,
   "metadata": {},
   "outputs": [],
   "source": [
    "from importlib import  reload\n",
    "import classtools\n",
    "reload(classtools)"
   ]
  },
  {
   "cell_type": "code",
   "execution_count": null,
   "metadata": {},
   "outputs": [],
   "source": [
    "A = classtools.AttrDisplay()"
   ]
  },
  {
   "cell_type": "code",
   "execution_count": null,
   "metadata": {},
   "outputs": [],
   "source": [
    "from classtools import AttrDisplay\n",
    "\n",
    "\n",
    "A.rel = 'panda' #assigning attribute to the instance"
   ]
  },
  {
   "cell_type": "code",
   "execution_count": null,
   "metadata": {},
   "outputs": [],
   "source": [
    "A.__dict__,A.gatherAttrs() #showing the attributes"
   ]
  },
  {
   "cell_type": "code",
   "execution_count": null,
   "metadata": {},
   "outputs": [],
   "source": [
    "tom.hobby"
   ]
  },
  {
   "cell_type": "code",
   "execution_count": null,
   "metadata": {},
   "outputs": [],
   "source": [
    "tom.__class__"
   ]
  },
  {
   "cell_type": "code",
   "execution_count": null,
   "metadata": {},
   "outputs": [],
   "source": [
    "tom.__dict__"
   ]
  },
  {
   "cell_type": "code",
   "execution_count": null,
   "metadata": {},
   "outputs": [],
   "source": [
    "del tom"
   ]
  },
  {
   "cell_type": "code",
   "execution_count": null,
   "metadata": {},
   "outputs": [],
   "source": [
    "from importlib import reload\n",
    "import person\n",
    "reload(person)\n",
    "import person\n",
    "tom = person.Manager('Tom Davis',1000)\n",
    "tom.__dict__\n",
    "print(tom)\n"
   ]
  },
  {
   "cell_type": "markdown",
   "metadata": {},
   "source": [
    "#### Creating object storage"
   ]
  },
  {
   "cell_type": "code",
   "execution_count": null,
   "metadata": {},
   "outputs": [],
   "source": [
    "#ie how to save the created databases\n",
    "#it is known as object persistence\n",
    "\n",
    "exec(\"print('EH')\")  #reminder: how to execute a string as a command\n",
    "\n",
    "#python native databases using shelve and pickle"
   ]
  },
  {
   "cell_type": "code",
   "execution_count": null,
   "metadata": {},
   "outputs": [],
   "source": [
    "#storing on shelve\n",
    "#refer to makedb.py\n",
    "\n",
    "\n",
    "import makedb"
   ]
  },
  {
   "cell_type": "code",
   "execution_count": null,
   "metadata": {},
   "outputs": [],
   "source": [
    "makedb.db.get('bob')"
   ]
  },
  {
   "cell_type": "code",
   "execution_count": null,
   "metadata": {},
   "outputs": [],
   "source": [
    "#checking the files\n",
    "\n",
    "import glob\n",
    "glob.glob('person*')   #searches all the files with names starting with person\n",
    "print(open('persondb.dir').read())"
   ]
  },
  {
   "cell_type": "code",
   "execution_count": null,
   "metadata": {},
   "outputs": [],
   "source": [
    "print(open('persondb.dat','rb').read())\n",
    "\n",
    "#reads in binary format\n"
   ]
  },
  {
   "cell_type": "code",
   "execution_count": null,
   "metadata": {},
   "outputs": [],
   "source": [
    "\n",
    "#using shelve to open the file \n",
    "#for more interactive operation\n",
    "\n",
    "import shelve\n",
    "\n",
    "db = shelve.open('persondb')"
   ]
  },
  {
   "cell_type": "code",
   "execution_count": null,
   "metadata": {},
   "outputs": [],
   "source": [
    "len(db)\n",
    "list(db.keys())   #as they are stored as key value pairs"
   ]
  },
  {
   "cell_type": "code",
   "execution_count": null,
   "metadata": {},
   "outputs": [],
   "source": [
    "bob = db['Bob Smith']\n",
    "print(bob)\n",
    "\n",
    "\n",
    "\n",
    "for key in db:\n",
    "    print(key,' => ',db[key])"
   ]
  },
  {
   "cell_type": "markdown",
   "metadata": {},
   "source": [
    "##### Updating objects on a shelve"
   ]
  },
  {
   "cell_type": "code",
   "execution_count": null,
   "metadata": {},
   "outputs": [],
   "source": [
    "#Creating a program called updatedb.py to update the program\n",
    "\n",
    "#updates the values of a database everytime a program is run\n",
    "\n",
    "import shelve\n",
    "\n",
    "db = shelve.open('persondb')\n",
    "[key for key in db.keys()]"
   ]
  },
  {
   "cell_type": "code",
   "execution_count": null,
   "metadata": {},
   "outputs": [],
   "source": [
    "sue = db['Sue Davis']\n",
    "print(sue)\n",
    "'%.2f' %sue.pay"
   ]
  },
  {
   "cell_type": "code",
   "execution_count": 37,
   "metadata": {},
   "outputs": [
    {
     "name": "stdout",
     "output_type": "stream",
     "text": [
      "job=dev,name=Bob Smith,pay=10000\n",
      "hobby=No hobby,job=mgr,name=Tom Jones,pay=10000\n",
      "job=staff,name=Sue Davis,pay=21258.73200000001\n"
     ]
    }
   ],
   "source": [
    "from classtools import AttrDisplay\n",
    "\n",
    "for objects in (bob,tom,sue):\n",
    "    print(AttrDisplay.gatherAttrs(objects))"
   ]
  },
  {
   "cell_type": "markdown",
   "metadata": {},
   "source": [
    "##### Quiz"
   ]
  },
  {
   "cell_type": "code",
   "execution_count": null,
   "metadata": {},
   "outputs": [],
   "source": [
    "#as the manager class inherits from person class it comes from there."
   ]
  }
 ],
 "metadata": {
  "kernelspec": {
   "display_name": "Python 3.10.4 ('arka')",
   "language": "python",
   "name": "python3"
  },
  "language_info": {
   "codemirror_mode": {
    "name": "ipython",
    "version": 3
   },
   "file_extension": ".py",
   "mimetype": "text/x-python",
   "name": "python",
   "nbconvert_exporter": "python",
   "pygments_lexer": "ipython3",
   "version": "3.10.4"
  },
  "orig_nbformat": 4,
  "vscode": {
   "interpreter": {
    "hash": "fa46da6b9307ef350aad613908c1591a068b15a96db2be16e9d9e053b74e28ee"
   }
  }
 },
 "nbformat": 4,
 "nbformat_minor": 2
}

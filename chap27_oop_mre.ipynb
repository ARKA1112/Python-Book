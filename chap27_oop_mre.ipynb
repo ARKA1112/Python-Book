{
 "cells": [
  {
   "cell_type": "code",
   "execution_count": 1,
   "metadata": {},
   "outputs": [],
   "source": [
    "#refer to the file named person.py"
   ]
  },
  {
   "cell_type": "code",
   "execution_count": 2,
   "metadata": {
    "tags": []
   },
   "outputs": [],
   "source": [
    "class Person:\n",
    "    def __init__(self,name,job=None,pay=0):                        #in operator overloading terms self is the newly created instance object\n",
    "        self.name = name                                    #name job and pay become state information\n",
    "        self.job = job                                      #They are local variable within __init__ and when we do self.job it assigns an attribute named job referenced to the local variable name job although they name same but they are two different variables\n",
    "        self.pay = pay\n",
    "\n",
    "#according to python syntax once a default has been specified for an attribute the defaults for the following attributes also has to be specified\n",
    "\n",
    "\n",
    "#since the values for the job and pay attribute has been mentioned the values of them to supply is optional\n",
    "\n",
    "\n"
   ]
  },
  {
   "cell_type": "code",
   "execution_count": 3,
   "metadata": {},
   "outputs": [
    {
     "name": "stdout",
     "output_type": "stream",
     "text": [
      "Bob Smith 0\n",
      "Sue Jones dev 100000\n"
     ]
    }
   ],
   "source": [
    "bob = Person('Bob Smith')\n",
    "sue = Person('Sue Jones', job='dev', pay=100000)\n",
    "print(bob.name, bob.pay)\n",
    "print(sue.name,sue.job,sue.pay)"
   ]
  },
  {
   "cell_type": "code",
   "execution_count": 4,
   "metadata": {},
   "outputs": [
    {
     "data": {
      "text/plain": [
       "0"
      ]
     },
     "execution_count": 4,
     "metadata": {},
     "output_type": "execute_result"
    }
   ],
   "source": [
    "import person\n",
    "A = person.Person\n",
    "A('adams').pay"
   ]
  },
  {
   "cell_type": "code",
   "execution_count": 5,
   "metadata": {},
   "outputs": [
    {
     "name": "stdout",
     "output_type": "stream",
     "text": [
      "Sue Jones Bob Smith\n"
     ]
    }
   ],
   "source": [
    "print('{1} {0}'.format(bob.name,sue.name))"
   ]
  },
  {
   "cell_type": "markdown",
   "metadata": {},
   "source": [
    "#### Adding behavioral methods"
   ]
  },
  {
   "cell_type": "code",
   "execution_count": 6,
   "metadata": {},
   "outputs": [
    {
     "name": "stdout",
     "output_type": "stream",
     "text": [
      "100000\n"
     ]
    }
   ],
   "source": [
    "bob.name.split()\n",
    "print(sue.pay)"
   ]
  },
  {
   "cell_type": "code",
   "execution_count": 7,
   "metadata": {},
   "outputs": [
    {
     "data": {
      "text/plain": [
       "<module 'person' from '/home/susearc/Documents/github/Python-Book/person.py'>"
      ]
     },
     "execution_count": 7,
     "metadata": {},
     "output_type": "execute_result"
    }
   ],
   "source": [
    "from importlib import reload\n",
    "reload(person)"
   ]
  },
  {
   "cell_type": "markdown",
   "metadata": {},
   "source": [
    "#### Coding methods...Encapsulation"
   ]
  },
  {
   "cell_type": "code",
   "execution_count": 8,
   "metadata": {},
   "outputs": [],
   "source": [
    "#adding methods inside the class instead of hardcoding it in the class\n",
    "\n",
    "class Person:\n",
    "    def __init__(self,name,job=None,pay=0):\n",
    "        self.name = name\n",
    "        self.job = job\n",
    "        self.pay = pay\n",
    "    def lastName(self):\n",
    "        return self.name.split()[-1]\n",
    "    def payRaise(self,percent):\n",
    "        self.pay = int(self.pay * (1 + percent/100))\n",
    "        return self.pay\n",
    "\n"
   ]
  },
  {
   "cell_type": "code",
   "execution_count": 9,
   "metadata": {},
   "outputs": [
    {
     "data": {
      "text/plain": [
       "('Smith', 101, 103)"
      ]
     },
     "execution_count": 9,
     "metadata": {},
     "output_type": "execute_result"
    }
   ],
   "source": [
    "bob = Person('Bob Smith',pay=100)\n",
    "bob.lastName(), bob.payRaise(percent = 1), bob.payRaise(2)"
   ]
  },
  {
   "cell_type": "code",
   "execution_count": 10,
   "metadata": {},
   "outputs": [
    {
     "data": {
      "text/plain": [
       "('Davis', 10200)"
      ]
     },
     "execution_count": 10,
     "metadata": {},
     "output_type": "execute_result"
    }
   ],
   "source": [
    "bob = Person(name='Bob Dylan')\n",
    "sue = Person(name='Sue Davis')\n",
    "sue.pay = 10000     #otherwise defaults to 0 as supplied\n",
    "sue.lastName(),sue.payRaise(2)"
   ]
  },
  {
   "cell_type": "code",
   "execution_count": 11,
   "metadata": {},
   "outputs": [
    {
     "data": {
      "text/plain": [
       "'Dylan'"
      ]
     },
     "execution_count": 11,
     "metadata": {},
     "output_type": "execute_result"
    }
   ],
   "source": [
    "bob.lastName()"
   ]
  },
  {
   "cell_type": "markdown",
   "metadata": {},
   "source": [
    "#### Operator Overloading"
   ]
  },
  {
   "cell_type": "code",
   "execution_count": 12,
   "metadata": {},
   "outputs": [
    {
     "name": "stdout",
     "output_type": "stream",
     "text": [
      "<__main__.Person object at 0x7f8c9c946bf0>\n"
     ]
    }
   ],
   "source": [
    "print(bob)"
   ]
  },
  {
   "cell_type": "code",
   "execution_count": null,
   "metadata": {},
   "outputs": [],
   "source": []
  },
  {
   "cell_type": "code",
   "execution_count": 13,
   "metadata": {},
   "outputs": [
    {
     "name": "stdout",
     "output_type": "stream",
     "text": [
      "Bob Smith 0\n",
      "Sue Jones dev 100000\n",
      "Smith\n",
      "110000.00\n",
      "[Person: Sue Jones 110000.00000000001]\n"
     ]
    }
   ],
   "source": [
    "#adding str method\n",
    "class Person:\n",
    "    def __init__(self,name,job=None,pay=0):\n",
    "        self.name = name\n",
    "        self.job = job\n",
    "        self.pay = pay\n",
    "    def lastName(self):\n",
    "        return self.name.split()[-1]\n",
    "    def giveRaise(self,percent):\n",
    "        self.pay = int(self.pay * (1 + percent/100))\n",
    "        return self.pay\n",
    "    def __str__(self):\n",
    "        return '[Person: %s %s]' %(self.name, self.pay)\n",
    "class Manager(Person):\n",
    "    def giveRaise(self, percent, bonus = 10):\n",
    "        Person.giveRaise(self, percent+bonus)\n",
    "    def __str__(self):\n",
    "        return '(Manager: %s %s %f' %(self.name, self.job,self.pay)\n",
    "\n",
    "\n",
    "if __name__ == '__main__':\n",
    "    bob = Person('Bob Smith')\n",
    "    sue = Person('Sue Jones', job='dev', pay=100000)\n",
    "    print(bob.name, bob.pay)\n",
    "    print(sue.name,sue.job,sue.pay)\n",
    "    print(bob.name.split()[-1])    #extracts last name\n",
    "    sue.pay *= 1.10\n",
    "    print('%.2f'%(sue.pay))\n",
    "    print(sue)\n",
    "    tom = Manager('Tom Jones','mgr',10000)\n",
    "    tom.giveRaise(10)"
   ]
  },
  {
   "cell_type": "code",
   "execution_count": 14,
   "metadata": {},
   "outputs": [
    {
     "name": "stdout",
     "output_type": "stream",
     "text": [
      "[Person: Bob Smith 0]\n",
      "[Person: Sue Jones 110000.00000000001]\n"
     ]
    },
    {
     "data": {
      "text/plain": [
       "(None, None)"
      ]
     },
     "execution_count": 14,
     "metadata": {},
     "output_type": "execute_result"
    }
   ],
   "source": [
    "bob = Person('Bob Smith')\n",
    "print(bob), print(sue) #since sue is not the instance of the new function it shows the function instance"
   ]
  },
  {
   "cell_type": "markdown",
   "metadata": {},
   "source": [
    "##### Coding subclasses"
   ]
  },
  {
   "cell_type": "code",
   "execution_count": 15,
   "metadata": {},
   "outputs": [],
   "source": [
    "#refer manager.py"
   ]
  },
  {
   "cell_type": "code",
   "execution_count": 16,
   "metadata": {},
   "outputs": [
    {
     "name": "stdout",
     "output_type": "stream",
     "text": [
      "(Manager: Tom Jones mgr 10000.00 <bound method Manager.hobby of <person.Manager object at 0x7f8cac388580>>)\n"
     ]
    }
   ],
   "source": [
    "from importlib import reload\n",
    "import person\n",
    "reload(person)\n",
    "import person\n",
    "\n",
    "tom = person.Manager('Tom Jones',10000)\n",
    "bob = person.Person('Bob Smith','dev',10000)\n",
    "sue = person.Person('Sue Jones','tech',12000)\n",
    "print(tom)"
   ]
  },
  {
   "cell_type": "markdown",
   "metadata": {},
   "source": [
    "#### Polymorphism in action"
   ]
  },
  {
   "cell_type": "code",
   "execution_count": 18,
   "metadata": {},
   "outputs": [
    {
     "name": "stdout",
     "output_type": "stream",
     "text": [
      "--all three--\n"
     ]
    },
    {
     "ename": "NameError",
     "evalue": "name 'Adam' is not defined",
     "output_type": "error",
     "traceback": [
      "\u001b[0;31m---------------------------------------------------------------------------\u001b[0m",
      "\u001b[0;31mNameError\u001b[0m                                 Traceback (most recent call last)",
      "\u001b[1;32m/home/susearc/Documents/github/Python-Book/chap27_oop_mre.ipynb Cell 23\u001b[0m in \u001b[0;36m<cell line: 2>\u001b[0;34m()\u001b[0m\n\u001b[1;32m      <a href='vscode-notebook-cell:/home/susearc/Documents/github/Python-Book/chap27_oop_mre.ipynb#X31sZmlsZQ%3D%3D?line=0'>1</a>\u001b[0m \u001b[39mprint\u001b[39m(\u001b[39m'\u001b[39m\u001b[39m--all three--\u001b[39m\u001b[39m'\u001b[39m)\n\u001b[0;32m----> <a href='vscode-notebook-cell:/home/susearc/Documents/github/Python-Book/chap27_oop_mre.ipynb#X31sZmlsZQ%3D%3D?line=1'>2</a>\u001b[0m \u001b[39mfor\u001b[39;00m \u001b[39mobject\u001b[39m \u001b[39min\u001b[39;00m (bob,sue,tom,Adam):       \u001b[39m#process objects generically\u001b[39;00m\n\u001b[1;32m      <a href='vscode-notebook-cell:/home/susearc/Documents/github/Python-Book/chap27_oop_mre.ipynb#X31sZmlsZQ%3D%3D?line=2'>3</a>\u001b[0m    \u001b[39mobject\u001b[39m\u001b[39m.\u001b[39mgiveRaise(\u001b[39m10\u001b[39m)           \u001b[39m#Run this object's giveRaise\u001b[39;00m\n\u001b[1;32m      <a href='vscode-notebook-cell:/home/susearc/Documents/github/Python-Book/chap27_oop_mre.ipynb#X31sZmlsZQ%3D%3D?line=3'>4</a>\u001b[0m    \u001b[39mprint\u001b[39m(\u001b[39mobject\u001b[39m)\n",
      "\u001b[0;31mNameError\u001b[0m: name 'Adam' is not defined"
     ]
    }
   ],
   "source": [
    " print('--all three--')\n",
    "for object in (bob,sue,tom,Adam):       #process objects generically\n",
    "    object.giveRaise(10)           #Run this object's giveRaise\n",
    "    print(object) "
   ]
  },
  {
   "cell_type": "markdown",
   "metadata": {},
   "source": [
    "#### Inherit customize and extend"
   ]
  },
  {
   "cell_type": "code",
   "execution_count": 19,
   "metadata": {},
   "outputs": [
    {
     "name": "stdout",
     "output_type": "stream",
     "text": [
      "Golf\n"
     ]
    }
   ],
   "source": [
    "#adding a new function in the manager section\n",
    "from person import Manager\n",
    "Adam = Manager('Adam Burns',9900)\n",
    "Adam.hobby('Golf')\n",
    "tom.trait= 'cunning'\n",
    "tom.hobby = 'Tennis'"
   ]
  },
  {
   "cell_type": "code",
   "execution_count": 20,
   "metadata": {},
   "outputs": [
    {
     "data": {
      "text/plain": [
       "'cunning'"
      ]
     },
     "execution_count": 20,
     "metadata": {},
     "output_type": "execute_result"
    }
   ],
   "source": [
    "tom.trait"
   ]
  },
  {
   "cell_type": "code",
   "execution_count": null,
   "metadata": {},
   "outputs": [],
   "source": [
    "#Modifying in order not to pass in job title everytime the manager class is called\n",
    "\n",
    "\n",
    "#refer person.py\n",
    "\n",
    "\n"
   ]
  }
 ],
 "metadata": {
  "kernelspec": {
   "display_name": "Python 3.10.4 ('arka')",
   "language": "python",
   "name": "python3"
  },
  "language_info": {
   "codemirror_mode": {
    "name": "ipython",
    "version": 3
   },
   "file_extension": ".py",
   "mimetype": "text/x-python",
   "name": "python",
   "nbconvert_exporter": "python",
   "pygments_lexer": "ipython3",
   "version": "3.10.4"
  },
  "orig_nbformat": 4,
  "vscode": {
   "interpreter": {
    "hash": "fa46da6b9307ef350aad613908c1591a068b15a96db2be16e9d9e053b74e28ee"
   }
  }
 },
 "nbformat": 4,
 "nbformat_minor": 2
}

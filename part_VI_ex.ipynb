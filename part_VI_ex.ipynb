{
 "cells": [
  {
   "cell_type": "code",
   "execution_count": 350,
   "metadata": {},
   "outputs": [],
   "source": [
    "#q1\n",
    "\n",
    "from email.errors import ObsoleteHeaderDefect\n",
    "\n",
    "\n",
    "class Adder:\n",
    "    def add(self, x, y):\n",
    "        print('Not Implemented')\n",
    "    def __init__(self, other = []):\n",
    "        self.data  = other\n",
    "    def __add__(self, other):\n",
    "        return self.add(self.data, other)\n",
    "    def __radd__(self, cls):\n",
    "        return self.add(self.data , cls)\n",
    "\n",
    "class ListAdder(Adder):\n",
    "    def add(self, x, y):\n",
    "        return x + y\n",
    "\n",
    "\n",
    "class DictAdder(Adder):\n",
    "    def add(self, x, y):\n",
    "        a = {}\n",
    "        a.update(x)\n",
    "        a.update(y)\n",
    "        return a"
   ]
  },
  {
   "cell_type": "code",
   "execution_count": 351,
   "metadata": {},
   "outputs": [
    {
     "name": "stdout",
     "output_type": "stream",
     "text": [
      "Not Implemented\n",
      "Not Implemented\n"
     ]
    },
    {
     "data": {
      "text/plain": [
       "{'a': 1, 'b': 2, 'c': 3, 'd': 4}"
      ]
     },
     "execution_count": 351,
     "metadata": {},
     "output_type": "execute_result"
    }
   ],
   "source": [
    "x = Adder()\n",
    "x.add(1,2)\n",
    "x.add('a','b')\n",
    "\n",
    "A = ListAdder()\n",
    "A.add([12],[23])\n",
    "\n",
    "A = DictAdder()\n",
    "A.add({'a':1,'b':2},{'c':3,'d':4})"
   ]
  },
  {
   "cell_type": "code",
   "execution_count": 352,
   "metadata": {},
   "outputs": [
    {
     "name": "stdout",
     "output_type": "stream",
     "text": [
      "Not Implemented\n"
     ]
    },
    {
     "data": {
      "text/plain": [
       "{1: 4, 2: 4}"
      ]
     },
     "execution_count": 352,
     "metadata": {},
     "output_type": "execute_result"
    }
   ],
   "source": [
    "I = Adder()\n",
    "I.add(9,8)\n",
    "\n",
    "I = ListAdder()\n",
    "I.add([1,2,3,4],[6789])\n",
    "\n",
    "I = DictAdder()\n",
    "I.add({1:4},{2:4})"
   ]
  },
  {
   "cell_type": "code",
   "execution_count": null,
   "metadata": {},
   "outputs": [],
   "source": [
    "\n"
   ]
  },
  {
   "cell_type": "code",
   "execution_count": 353,
   "metadata": {},
   "outputs": [
    {
     "name": "stdout",
     "output_type": "stream",
     "text": [
      "Not Implemented\n",
      "Not Implemented\n",
      "Not Implemented\n"
     ]
    }
   ],
   "source": [
    "A = Adder([4])\n",
    "B = Adder([5])\n",
    "\n",
    "A.add(1,2)\n",
    "\n",
    "A + B\n",
    "A + [1]"
   ]
  },
  {
   "cell_type": "code",
   "execution_count": 354,
   "metadata": {},
   "outputs": [
    {
     "data": {
      "text/plain": [
       "[2, 1]"
      ]
     },
     "execution_count": 354,
     "metadata": {},
     "output_type": "execute_result"
    }
   ],
   "source": [
    "x = ListAdder([1])\n",
    "x + [1]\n",
    "y = ListAdder([2])\n",
    "y + [2]\n",
    "[3] + y\n",
    "x + y"
   ]
  },
  {
   "cell_type": "code",
   "execution_count": 355,
   "metadata": {},
   "outputs": [],
   "source": [
    "#q2\n",
    "\n",
    "class Mylist:\n",
    "    def __init__(self, other = []) -> None:\n",
    "        self.value = other\n",
    "    def __add__(self, other):\n",
    "        return self.value + other\n",
    "    def __copy__(self):\n",
    "        return self.value[:]\n",
    "    def __append__(self, other = []):\n",
    "        return self.value + other\n",
    "    def __reverse__(self):\n",
    "        return self.value[::-1]\n",
    "    def __getattr__(self,name):\n",
    "        return getattr(self.value, name)\n",
    "    def __getitem__(self, offset):\n",
    "        return(self.value[offset])\n",
    "    def sort(self):\n",
    "        return sorted(self.value)\n",
    "    def __repr__(self) -> str:\n",
    "        return repr(self.value)\n",
    "    def __getslice__(self, x, y,z=1):\n",
    "        return self.value[x:y:z]\n",
    "    def __pop__(self, object):\n",
    "        a = self.value[:]\n",
    "        self.value = self.value[:object] + self.value[object+1:]\n",
    "        return a[object]\n"
   ]
  },
  {
   "cell_type": "code",
   "execution_count": 356,
   "metadata": {},
   "outputs": [
    {
     "data": {
      "text/plain": [
       "([6, 87, 1, 2, 3, 4, 5], [6, 87, 1, 2, 3, 4])"
      ]
     },
     "execution_count": 356,
     "metadata": {},
     "output_type": "execute_result"
    }
   ],
   "source": [
    "I = Mylist([6,87,1,2,3,4])\n",
    "J = I.__copy__()\n",
    "I.value.append(5)\n",
    "I.value, J"
   ]
  },
  {
   "cell_type": "code",
   "execution_count": 357,
   "metadata": {},
   "outputs": [
    {
     "data": {
      "text/plain": [
       "[5, 4, 3, 2, 1, 87, 6]"
      ]
     },
     "execution_count": 357,
     "metadata": {},
     "output_type": "execute_result"
    }
   ],
   "source": [
    "I.__reverse__()"
   ]
  },
  {
   "cell_type": "code",
   "execution_count": 358,
   "metadata": {},
   "outputs": [
    {
     "data": {
      "text/plain": [
       "[6, 87, 1, 2, 3, 4, 5, 6, 87, 1, 2, 3, 4]"
      ]
     },
     "execution_count": 358,
     "metadata": {},
     "output_type": "execute_result"
    }
   ],
   "source": [
    "I.__class__ ,J.__class__  \n",
    "\n",
    "I + J #works"
   ]
  },
  {
   "cell_type": "code",
   "execution_count": 359,
   "metadata": {},
   "outputs": [
    {
     "data": {
      "text/plain": [
       "[87, 2, 4]"
      ]
     },
     "execution_count": 359,
     "metadata": {},
     "output_type": "execute_result"
    }
   ],
   "source": [
    "I.__getitem__(1)\n",
    "I.sort()\n",
    "I.__repr__()\n",
    "I.__getslice__(1,100,2)"
   ]
  },
  {
   "cell_type": "code",
   "execution_count": 360,
   "metadata": {},
   "outputs": [
    {
     "data": {
      "text/plain": [
       "[6, 1, 2, 3, 4, 5]"
      ]
     },
     "execution_count": 360,
     "metadata": {},
     "output_type": "execute_result"
    }
   ],
   "source": [
    "L = [i for i in range(10)]\n",
    "I.__pop__(1)\n",
    "I"
   ]
  },
  {
   "cell_type": "code",
   "execution_count": 361,
   "metadata": {},
   "outputs": [
    {
     "data": {
      "text/plain": [
       "[6, 1, 2, 3, 5]"
      ]
     },
     "execution_count": 361,
     "metadata": {},
     "output_type": "execute_result"
    }
   ],
   "source": [
    "I.__pop__(4)\n",
    "I"
   ]
  },
  {
   "cell_type": "code",
   "execution_count": 371,
   "metadata": {},
   "outputs": [
    {
     "data": {
      "text/plain": [
       "<object at 0x7f61e6efad00>"
      ]
     },
     "execution_count": 371,
     "metadata": {},
     "output_type": "execute_result"
    }
   ],
   "source": [
    "Mylist.__base__()"
   ]
  },
  {
   "cell_type": "code",
   "execution_count": 378,
   "metadata": {},
   "outputs": [],
   "source": [
    "#q3\n",
    "\n",
    "class MylistSub(Mylist):\n",
    "    calls = 0\n",
    "\n",
    "    def __init__(self, start):\n",
    "        self.adds = 0\n",
    "        MylistSub.calls += 1\n",
    "        Mylist.__init__(self, start)\n",
    "\n",
    "    def __add__(self, other):\n",
    "        self.adds += 1\n",
    "        return Mylist.__add__(self, other)\n",
    "\n",
    "    def stats(self):\n",
    "        return self.calls, self.adds"
   ]
  },
  {
   "cell_type": "code",
   "execution_count": 385,
   "metadata": {},
   "outputs": [
    {
     "data": {
      "text/plain": [
       "(11, 0)"
      ]
     },
     "execution_count": 385,
     "metadata": {},
     "output_type": "execute_result"
    }
   ],
   "source": [
    "I = MylistSub([1,2,3,4])\n",
    "I.stats()\n",
    "I.__add__([4,5])\n",
    "I.stats()\n",
    "B = MylistSub([4,55,'h'])\n",
    "I.stats(); B.stats()"
   ]
  },
  {
   "cell_type": "code",
   "execution_count": 391,
   "metadata": {},
   "outputs": [
    {
     "data": {
      "text/plain": [
       "(11, 6)"
      ]
     },
     "execution_count": 391,
     "metadata": {},
     "output_type": "execute_result"
    }
   ],
   "source": [
    "B.__add__([44]);B.stats()\n",
    "B + [44]\n",
    "B.stats()"
   ]
  },
  {
   "cell_type": "code",
   "execution_count": 396,
   "metadata": {},
   "outputs": [],
   "source": [
    "#q4\n",
    "class Meta:\n",
    "    @classmethod\n",
    "    def klassmeth(*args):\n",
    "        return args"
   ]
  },
  {
   "cell_type": "code",
   "execution_count": 417,
   "metadata": {},
   "outputs": [],
   "source": [
    "#q7\n",
    "\n"
   ]
  },
  {
   "cell_type": "code",
   "execution_count": null,
   "metadata": {},
   "outputs": [],
   "source": []
  }
 ],
 "metadata": {
  "kernelspec": {
   "display_name": "Python 3.10.6 ('arka')",
   "language": "python",
   "name": "python3"
  },
  "language_info": {
   "codemirror_mode": {
    "name": "ipython",
    "version": 3
   },
   "file_extension": ".py",
   "mimetype": "text/x-python",
   "name": "python",
   "nbconvert_exporter": "python",
   "pygments_lexer": "ipython3",
   "version": "3.10.6"
  },
  "orig_nbformat": 4,
  "vscode": {
   "interpreter": {
    "hash": "fa46da6b9307ef350aad613908c1591a068b15a96db2be16e9d9e053b74e28ee"
   }
  }
 },
 "nbformat": 4,
 "nbformat_minor": 2
}

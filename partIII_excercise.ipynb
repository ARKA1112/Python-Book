{
 "cells": [
  {
   "cell_type": "code",
   "execution_count": 2,
   "metadata": {},
   "outputs": [
    {
     "name": "stdout",
     "output_type": "stream",
     "text": [
      "117 109 98 105 108 105 99 97 108 "
     ]
    }
   ],
   "source": [
    "#q1\n",
    "S = input(\"enter a string \")\n",
    "for i in S:\n",
    "    print(ord(i),end = ' ')"
   ]
  },
  {
   "cell_type": "code",
   "execution_count": 8,
   "metadata": {},
   "outputs": [
    {
     "name": "stdout",
     "output_type": "stream",
     "text": [
      "104 59 97 115 104 100 102 108 107 97 104 115 59 106 107 100 sum is 1584\n"
     ]
    }
   ],
   "source": [
    "#qb\n",
    "S = input(\"enter a string \")\n",
    "H = []\n",
    "for i in S:\n",
    "    H.append(ord(i))\n",
    "    print(ord(i),end = ' ')\n",
    "print('sum is {}'.format(sum(H)))"
   ]
  },
  {
   "cell_type": "code",
   "execution_count": 14,
   "metadata": {},
   "outputs": [
    {
     "name": "stdout",
     "output_type": "stream",
     "text": [
      "[97, 108, 59, 115, 100, 104, 102, 108, 107, 97, 115, 100, 104, 102, 107, 106, 97, 115, 104, 100, 107, 108, 102, 104]\n"
     ]
    }
   ],
   "source": [
    "#qc\n",
    "S = input(\"enter a string \")\n",
    "for i in S:\n",
    "    D = list(map(ord, S))   #map is a generator object hence making a list is mandatory\n",
    "print(D)"
   ]
  },
  {
   "cell_type": "code",
   "execution_count": null,
   "metadata": {},
   "outputs": [],
   "source": [
    "for i in range(50):\n",
    "    print('hello %d\\n\\a' % i)\n",
    "    #see table 7-2 for more details"
   ]
  },
  {
   "cell_type": "code",
   "execution_count": null,
   "metadata": {},
   "outputs": [],
   "source": [
    "#q3"
   ]
  },
  {
   "cell_type": "code",
   "execution_count": 101,
   "metadata": {},
   "outputs": [],
   "source": [
    "A = 'abcdefghijklmnopqrstuvwxyz'\n",
    "B = [i for i in A]\n",
    "random.shuffle(B)\n",
    "#random.shuffle(A)\n",
    "B\n",
    "C = [i for i in range(len(A))]\n",
    "random.shuffle(C)\n",
    "C\n",
    "\n",
    "D = dict(zip(A,C))"
   ]
  },
  {
   "cell_type": "code",
   "execution_count": null,
   "metadata": {},
   "outputs": [],
   "source": [
    "D"
   ]
  },
  {
   "cell_type": "code",
   "execution_count": 111,
   "metadata": {},
   "outputs": [
    {
     "name": "stdout",
     "output_type": "stream",
     "text": [
      "{'a': 25, 'b': 7, 'c': 19, 'd': 8, 'e': 13, 'f': 3, 'g': 18, 'h': 11, 'i': 16, 'j': 9, 'k': 23, 'l': 5, 'm': 17, 'n': 22, 'o': 0, 'p': 21, 'q': 24, 'r': 10, 's': 4, 't': 15, 'u': 1, 'v': 14, 'w': 2, 'x': 6, 'y': 20, 'z': 12}\n"
     ]
    }
   ],
   "source": [
    "L = list(D.keys())\n",
    "L.sort()\n",
    "V = []\n",
    "for i in L:\n",
    "    V.append(D[i])\n",
    "print(dict(zip(L,V)))\n",
    "    "
   ]
  },
  {
   "cell_type": "code",
   "execution_count": 1,
   "metadata": {},
   "outputs": [
    {
     "name": "stdout",
     "output_type": "stream",
     "text": [
      "found on index 5\n"
     ]
    }
   ],
   "source": [
    "#q4a\n",
    "L = [1, 2, 4, 8, 16, 32, 64]\n",
    "X = 5\n",
    "i = 0\n",
    "while True:\n",
    "    if 2**X == L[i]:\n",
    "        print(\"found on index {}\".format(i))\n",
    "        break\n",
    "    else:\n",
    "        i += 1\n",
    "else:\n",
    "    print(X, \"not found\")"
   ]
  },
  {
   "cell_type": "code",
   "execution_count": 6,
   "metadata": {},
   "outputs": [
    {
     "name": "stdout",
     "output_type": "stream",
     "text": [
      "found in 5\n"
     ]
    }
   ],
   "source": [
    "#q4b\n",
    "L = [1, 2, 4, 8, 16, 32, 64]\n",
    "X = 5\n",
    "found = False\n",
    "i = 0\n",
    "while not found and i < len(L):\n",
    "    for j in L:\n",
    "        if 2**X == j:\n",
    "            print(\"found in {}\".format(L.index(j)))\n",
    "            found = True\n",
    "            break\n",
    "    else:\n",
    "        print(X,'not found')"
   ]
  },
  {
   "cell_type": "code",
   "execution_count": 1,
   "metadata": {},
   "outputs": [
    {
     "name": "stdout",
     "output_type": "stream",
     "text": [
      "found in 5\n"
     ]
    }
   ],
   "source": [
    "#q4d\n",
    "L = [1, 2, 4, 8, 16, 32, 64]\n",
    "X = 5\n",
    "found = False\n",
    "i = 0\n",
    "while not found and i < len(L):\n",
    "    if 2**X in L:\n",
    "        found = True\n",
    "        print(\"found in {}\".format(L.index(2**X))) "
   ]
  },
  {
   "cell_type": "code",
   "execution_count": 2,
   "metadata": {},
   "outputs": [
    {
     "name": "stdout",
     "output_type": "stream",
     "text": [
      "found in 5\n"
     ]
    }
   ],
   "source": [
    "#q4e\n",
    "L = [1, 2, 4, 8, 16, 32, 64]\n",
    "X = 5\n",
    "found = False\n",
    "i = 0\n",
    "Y = 2**X\n",
    "%timeit\n",
    "while not found and i < len(L):\n",
    "    if Y in L:\n",
    "        found = True\n",
    "        print(\"found in {}\".format(L.index(Y)))"
   ]
  },
  {
   "cell_type": "code",
   "execution_count": 3,
   "metadata": {},
   "outputs": [],
   "source": [
    "M = list(map(lambda x: 2**x, range(7)))"
   ]
  },
  {
   "cell_type": "code",
   "execution_count": 4,
   "metadata": {},
   "outputs": [
    {
     "data": {
      "text/plain": [
       "[1, 2, 4, 8, 16, 32, 64]"
      ]
     },
     "execution_count": 4,
     "metadata": {},
     "output_type": "execute_result"
    }
   ],
   "source": [
    "M\n"
   ]
  },
  {
   "cell_type": "code",
   "execution_count": null,
   "metadata": {},
   "outputs": [],
   "source": []
  }
 ],
 "metadata": {
  "kernelspec": {
   "display_name": "Python 3.8.13 ('arka')",
   "language": "python",
   "name": "python3"
  },
  "language_info": {
   "codemirror_mode": {
    "name": "ipython",
    "version": 3
   },
   "file_extension": ".py",
   "mimetype": "text/x-python",
   "name": "python",
   "nbconvert_exporter": "python",
   "pygments_lexer": "ipython3",
   "version": "3.8.13"
  },
  "orig_nbformat": 4,
  "vscode": {
   "interpreter": {
    "hash": "fa46da6b9307ef350aad613908c1591a068b15a96db2be16e9d9e053b74e28ee"
   }
  }
 },
 "nbformat": 4,
 "nbformat_minor": 2
}

{
 "cells": [
  {
   "cell_type": "code",
   "execution_count": 1,
   "metadata": {},
   "outputs": [],
   "source": [
    "#an infinite loop\n",
    "#while True:\n",
    "#    print(\"Press Ctrl+C to stop\")"
   ]
  },
  {
   "cell_type": "code",
   "execution_count": 2,
   "metadata": {},
   "outputs": [
    {
     "name": "stdout",
     "output_type": "stream",
     "text": [
      "spam pam am m "
     ]
    }
   ],
   "source": [
    "X = 'spam'\n",
    "while X:\n",
    "    print(X,end=' ')\n",
    "    X = X[1:]"
   ]
  },
  {
   "cell_type": "code",
   "execution_count": 3,
   "metadata": {},
   "outputs": [
    {
     "name": "stdout",
     "output_type": "stream",
     "text": [
      "0_1_2_3_4_5_6_7_8_9_"
     ]
    }
   ],
   "source": [
    "a = 0;b=10\n",
    "while a<b:\n",
    "    print(a, end='_',sep=',')\n",
    "    a+=1"
   ]
  },
  {
   "cell_type": "markdown",
   "metadata": {},
   "source": [
    "![](Screenshot%20from%202022-09-08%2013-40-54.png)"
   ]
  },
  {
   "cell_type": "code",
   "execution_count": 4,
   "metadata": {},
   "outputs": [
    {
     "name": "stdout",
     "output_type": "stream",
     "text": [
      "[0, 3, 2, 5, 4, 7, 6, 9, 8, 11, 10, 13, 12, 15, 14, 17, 16, 19, 18, 21, 20, 23, 22, 25, 24, 27, 26, 29, 28, 31, 30, 33, 32, 35, 34, 37, 36, 39, 38, 41, 40, 43, 42, 45, 44, 47, 46, 49, 48, 51, 50, 53, 52, 55, 54, 57, 56, 59, 58, 61, 60, 63, 62, 65, 64, 67, 66, 69, 68, 71, 70, 73, 72, 75, 74, 77, 76, 79, 78, 81, 80, 83, 82, 85, 84, 87, 86, 89, 88, 91, 90, 93, 92, 95, 94, 97, 96, 99, 98, 101, 100, 103]\n"
     ]
    }
   ],
   "source": [
    "a = []\n",
    "while True:\n",
    "    a.append(len(a))\n",
    "    a.append(len(a)+2)\n",
    "    if len(a)>100:    #----> explicitly using the break clause\n",
    "        break\n",
    "print(a)"
   ]
  },
  {
   "cell_type": "code",
   "execution_count": 5,
   "metadata": {},
   "outputs": [],
   "source": [
    "#using the pass function\n",
    "def func1():\n",
    "    pass"
   ]
  },
  {
   "cell_type": "code",
   "execution_count": 6,
   "metadata": {},
   "outputs": [
    {
     "ename": "SyntaxError",
     "evalue": "unexpected EOF while parsing (1514764243.py, line 1)",
     "output_type": "error",
     "traceback": [
      "\u001b[0;36m  Input \u001b[0;32mIn [6]\u001b[0;36m\u001b[0m\n\u001b[0;31m    def func1():    #without pass throws an error\u001b[0m\n\u001b[0m                                                 ^\u001b[0m\n\u001b[0;31mSyntaxError\u001b[0m\u001b[0;31m:\u001b[0m unexpected EOF while parsing\n"
     ]
    }
   ],
   "source": [
    "def func1():    #without pass throws an error"
   ]
  },
  {
   "cell_type": "markdown",
   "metadata": {},
   "source": [
    "#### Using the continue statement\n"
   ]
  },
  {
   "cell_type": "code",
   "execution_count": 7,
   "metadata": {},
   "outputs": [
    {
     "name": "stdout",
     "output_type": "stream",
     "text": [
      "8 6 4 2 0 -2 -4 -6 -8 -10 -12 -14 -16 -18 -20 -22 -24 -26 -28 -30 -32 -34 -36 -38 -40 -42 -44 -46 -48 -50 -52 -54 -56 -58 -60 -62 -64 -66 -68 -70 -72 -74 -76 -78 -80 -82 -84 -86 -88 -90 -92 -94 -96 -98 -100 -102 -104 -106 -108 -110 -112 -114 -116 -118 -120 -122 -124 -126 -128 -130 -132 -134 -136 -138 -140 -142 -144 -146 -148 -150 -152 -154 -156 -158 -160 -162 -164 -166 -168 -170 -172 -174 -176 -178 -180 -182 -184 -186 -188 -190 -192 -194 -196 -198 -200 -202 -204 -206 -208 -210 -212 -214 -216 -218 -220 -222 -224 -226 -228 -230 -232 -234 -236 -238 -240 -242 -244 -246 -248 -250 -252 -254 -256 -258 -260 -262 -264 -266 -268 -270 -272 -274 -276 -278 -280 -282 -284 -286 -288 -290 -292 -294 -296 -298 -300 -302 -304 -306 -308 -310 -312 -314 -316 -318 -320 -322 -324 -326 -328 -330 -332 -334 -336 -338 -340 -342 -344 -346 -348 -350 -352 -354 -356 -358 -360 -362 -364 -366 -368 -370 -372 -374 -376 -378 -380 -382 -384 -386 -388 -390 -392 -394 -396 -398 -400 -402 "
     ]
    }
   ],
   "source": [
    "x = 10\n",
    "while True:\n",
    "    x = x-1\n",
    "    if x%2 != 0: continue  #Loops back to the top of the loop but passes the next statement if cond fulfilled\n",
    "    print(x, end=' ')\n",
    "    if x < -400: break   #includes the element which satisfies the condition"
   ]
  },
  {
   "cell_type": "code",
   "execution_count": 8,
   "metadata": {},
   "outputs": [
    {
     "name": "stdout",
     "output_type": "stream",
     "text": [
      "8 6 4 2 0 -2 -4 -6 -8 -10 -12 -14 -16 -18 -20 -22 -24 -26 -28 -30 -32 -34 -36 -38 -40 -42 -44 -46 -48 -50 -52 -54 -56 -58 -60 -62 -64 -66 -68 -70 -72 -74 -76 -78 -80 -82 -84 -86 -88 -90 -92 -94 -96 -98 -100 "
     ]
    }
   ],
   "source": [
    "#using the above operation but with if loop\n",
    "x =10\n",
    "while True:\n",
    "    x = x-1\n",
    "    if x%2 ==0:\n",
    "        print(x, end=' ')\n",
    "    if x < -100:\n",
    "        break\n"
   ]
  },
  {
   "cell_type": "markdown",
   "metadata": {},
   "source": [
    "#### Using the break statement"
   ]
  },
  {
   "cell_type": "code",
   "execution_count": 9,
   "metadata": {},
   "outputs": [],
   "source": [
    "while True:\n",
    "    name = input(\"enter your name: \")\n",
    "    if name == 'stop':break\n",
    "    age = input(\"enter your age: \")\n",
    "    if age == 'stop': break\n",
    "    print(\"Hi {0} your age is {1}\".format(name,age))"
   ]
  },
  {
   "cell_type": "markdown",
   "metadata": {},
   "source": [
    "#### Loop else"
   ]
  },
  {
   "cell_type": "code",
   "execution_count": 10,
   "metadata": {},
   "outputs": [
    {
     "name": "stdout",
     "output_type": "stream",
     "text": [
      "24\n"
     ]
    }
   ],
   "source": [
    "y = 49\n",
    "x = y//2\n",
    "print(x)"
   ]
  },
  {
   "cell_type": "code",
   "execution_count": 11,
   "metadata": {},
   "outputs": [
    {
     "name": "stdout",
     "output_type": "stream",
     "text": [
      "49 has factor 7\n"
     ]
    }
   ],
   "source": [
    "while x>1:\n",
    "        if y%x == 0:\n",
    "            print(y, 'has factor', x)\n",
    "            break\n",
    "        x -= 1\n",
    "else: #----------------> else is under the while block\n",
    "    print(y, \"is prime\")"
   ]
  },
  {
   "cell_type": "code",
   "execution_count": null,
   "metadata": {},
   "outputs": [],
   "source": [
    "found = False\n",
    "while x and not found:\n",
    "    if match(x[0]):\n",
    "        print('NI')\n",
    "        found = True"
   ]
  },
  {
   "cell_type": "markdown",
   "metadata": {},
   "source": [
    "#### For loops"
   ]
  },
  {
   "cell_type": "code",
   "execution_count": 13,
   "metadata": {},
   "outputs": [],
   "source": [
    "for x in [1,2,3,4]:\n",
    "    sum = 0\n",
    "    sum = sum + x\n",
    "    "
   ]
  },
  {
   "cell_type": "code",
   "execution_count": 15,
   "metadata": {},
   "outputs": [
    {
     "data": {
      "text/plain": [
       "4"
      ]
     },
     "execution_count": 15,
     "metadata": {},
     "output_type": "execute_result"
    }
   ],
   "source": [
    "sum"
   ]
  },
  {
   "cell_type": "code",
   "execution_count": 16,
   "metadata": {},
   "outputs": [],
   "source": [
    "prod = 1\n",
    "for item in [1,2,3,4]:\n",
    "    prod*= item"
   ]
  },
  {
   "cell_type": "code",
   "execution_count": 17,
   "metadata": {},
   "outputs": [
    {
     "data": {
      "text/plain": [
       "24"
      ]
     },
     "execution_count": 17,
     "metadata": {},
     "output_type": "execute_result"
    }
   ],
   "source": [
    "prod\n"
   ]
  },
  {
   "cell_type": "markdown",
   "metadata": {},
   "source": [
    "#### Other datatypes"
   ]
  },
  {
   "cell_type": "code",
   "execution_count": 18,
   "metadata": {},
   "outputs": [
    {
     "name": "stdout",
     "output_type": "stream",
     "text": [
      "L u m b e r j a c k "
     ]
    }
   ],
   "source": [
    "S = 'Lumberjack'\n",
    "T = (\"and\", \"I'm\", \"okay\")\n",
    "\n",
    "for x in S:print(x, end=' ') #iterate over a string"
   ]
  },
  {
   "cell_type": "code",
   "execution_count": 19,
   "metadata": {},
   "outputs": [
    {
     "name": "stdout",
     "output_type": "stream",
     "text": [
      "and I'm okay "
     ]
    }
   ],
   "source": [
    "for x in T: print(x, end=' ') #iterate over a tuple"
   ]
  },
  {
   "cell_type": "code",
   "execution_count": 22,
   "metadata": {},
   "outputs": [
    {
     "name": "stdout",
     "output_type": "stream",
     "text": [
      "1 2 3 4 5 6 "
     ]
    }
   ],
   "source": [
    "#Tuple assignments in for loops\n",
    "\n",
    "T = [(1,2),(3,4),(5,6)]\n",
    "for (a,b) in T: #The pattern must match\n",
    "    print(a,b,end=' ')"
   ]
  },
  {
   "cell_type": "code",
   "execution_count": 23,
   "metadata": {},
   "outputs": [],
   "source": [
    "D = {'a':1,'b':2,'c':3}"
   ]
  },
  {
   "cell_type": "code",
   "execution_count": 25,
   "metadata": {},
   "outputs": [
    {
     "name": "stdout",
     "output_type": "stream",
     "text": [
      "a => 1\n",
      "b => 2\n",
      "c => 3\n"
     ]
    }
   ],
   "source": [
    "for key in D:\n",
    "    print(key,'=>',D[key])"
   ]
  },
  {
   "cell_type": "code",
   "execution_count": 27,
   "metadata": {},
   "outputs": [
    {
     "name": "stdout",
     "output_type": "stream",
     "text": [
      "[(1, 2), (3, 4), (5, 6)]\n",
      "1 2\n",
      "3 4\n",
      "5 6\n"
     ]
    }
   ],
   "source": [
    "#instead of pattern matching\n",
    "#we can also use manual assignment\n",
    "\n",
    "print(T)\n",
    "for both in T:\n",
    "    (a,b)=both\n",
    "    print(a,b)"
   ]
  },
  {
   "cell_type": "code",
   "execution_count": 28,
   "metadata": {},
   "outputs": [
    {
     "name": "stdout",
     "output_type": "stream",
     "text": [
      "1 2 3\n",
      "X Y 6\n"
     ]
    }
   ],
   "source": [
    "#any nested sequence can be unpacked thtis way\n",
    "for ((a,b),c) in [([1,2],3), ['XY', 6]]:\n",
    "    print(a, b, c)"
   ]
  },
  {
   "cell_type": "code",
   "execution_count": 2,
   "metadata": {},
   "outputs": [
    {
     "name": "stdout",
     "output_type": "stream",
     "text": [
      "s t u m "
     ]
    }
   ],
   "source": [
    "for i in 'stum':\n",
    "    print(i,end=' ')"
   ]
  },
  {
   "cell_type": "markdown",
   "metadata": {},
   "source": [
    "#### Nested for loops"
   ]
  },
  {
   "cell_type": "code",
   "execution_count": 13,
   "metadata": {},
   "outputs": [],
   "source": [
    "items = ['aaa', 111, (4,5), 2.01]\n",
    "keys= [(4,5), 3.14]"
   ]
  },
  {
   "cell_type": "code",
   "execution_count": 14,
   "metadata": {},
   "outputs": [
    {
     "name": "stdout",
     "output_type": "stream",
     "text": [
      "(4, 5) found\n",
      "3.14 not found\n"
     ]
    }
   ],
   "source": [
    "#first way of doing this\n",
    "for key in keys: \n",
    "    for item in items:\n",
    "        if item == key:\n",
    "            print(key, 'found')\n",
    "            break\n",
    "    else:\n",
    "        print(key,'not found')"
   ]
  },
  {
   "cell_type": "code",
   "execution_count": 15,
   "metadata": {},
   "outputs": [
    {
     "name": "stdout",
     "output_type": "stream",
     "text": [
      "(4, 5) found!\n",
      "3.14 not found\n"
     ]
    }
   ],
   "source": [
    "#More convenient way of doing this\n",
    "for key in keys:\n",
    "    if key in items:\n",
    "        print(key, \"found!\")\n",
    "    else:\n",
    "        print(key, \"not found\")"
   ]
  },
  {
   "cell_type": "code",
   "execution_count": 16,
   "metadata": {},
   "outputs": [],
   "source": [
    "#simillarity check between two documents\n",
    "\n",
    "sep1 = 'spam'\n",
    "sep2 = 'scamster'\n",
    "\n",
    "res = []\n",
    "for i in sep1:\n",
    "    if i in sep2:\n",
    "        res.append(i)\n",
    "        "
   ]
  },
  {
   "cell_type": "code",
   "execution_count": 17,
   "metadata": {},
   "outputs": [
    {
     "name": "stdout",
     "output_type": "stream",
     "text": [
      "['s', 'a', 'm']\n"
     ]
    }
   ],
   "source": [
    "print(res)"
   ]
  },
  {
   "cell_type": "markdown",
   "metadata": {},
   "source": [
    "#### Non exhaustive traversals and range and slices"
   ]
  },
  {
   "cell_type": "code",
   "execution_count": 4,
   "metadata": {},
   "outputs": [
    {
     "name": "stdout",
     "output_type": "stream",
     "text": [
      "a c e g i k m o q s u w y "
     ]
    }
   ],
   "source": [
    "#printing every alternative character or element\n",
    "L = 'abcdefghijklmnopqrstuvwxyz'\n",
    "\n",
    "for i in range(0,len(L),2):  #--------> This specifies the interval in the range specified\n",
    "    print(L[i], end=' ')"
   ]
  },
  {
   "cell_type": "code",
   "execution_count": 11,
   "metadata": {},
   "outputs": [
    {
     "data": {
      "text/plain": [
       "'acegikmoqsuwy'"
      ]
     },
     "execution_count": 11,
     "metadata": {},
     "output_type": "execute_result"
    }
   ],
   "source": [
    "L[:-1:2]"
   ]
  },
  {
   "cell_type": "code",
   "execution_count": 24,
   "metadata": {},
   "outputs": [],
   "source": [
    "L = [i for i in range(8)]"
   ]
  },
  {
   "cell_type": "code",
   "execution_count": 25,
   "metadata": {},
   "outputs": [
    {
     "data": {
      "text/plain": [
       "[0, 1, 2, 3, 4, 5, 6, 7]"
      ]
     },
     "execution_count": 25,
     "metadata": {},
     "output_type": "execute_result"
    }
   ],
   "source": [
    "L"
   ]
  },
  {
   "cell_type": "code",
   "execution_count": 26,
   "metadata": {},
   "outputs": [
    {
     "name": "stdout",
     "output_type": "stream",
     "text": [
      "[1, 2, 3, 4, 5, 6, 7, 8]\n"
     ]
    }
   ],
   "source": [
    "for x in L:\n",
    "    L[x]+=1\n",
    "print(L)"
   ]
  },
  {
   "cell_type": "code",
   "execution_count": 23,
   "metadata": {},
   "outputs": [
    {
     "name": "stdout",
     "output_type": "stream",
     "text": [
      "[2, 3, 4, 5, 6, 7, 8, 9]\n"
     ]
    }
   ],
   "source": [
    "#using the while statement\n",
    "i = 0\n",
    "while i < len(L):\n",
    "    L[i] += 1\n",
    "    i+=1\n",
    "print(L)"
   ]
  },
  {
   "cell_type": "code",
   "execution_count": 27,
   "metadata": {},
   "outputs": [],
   "source": [
    "S1 = 'apam'\n",
    "S2 = 'spam'"
   ]
  },
  {
   "cell_type": "code",
   "execution_count": 28,
   "metadata": {},
   "outputs": [
    {
     "name": "stdout",
     "output_type": "stream",
     "text": [
      "[('a', 's'), ('p', 'p'), ('a', 'a'), ('m', 'm')]\n"
     ]
    }
   ],
   "source": [
    "print(list(zip(S1,S2)))"
   ]
  },
  {
   "cell_type": "code",
   "execution_count": 36,
   "metadata": {},
   "outputs": [
    {
     "data": {
      "text/plain": [
       "(0, 1, 2, 3)"
      ]
     },
     "execution_count": 36,
     "metadata": {},
     "output_type": "execute_result"
    }
   ],
   "source": [
    "#creating a loop over the above two\n",
    "A = ('a','b','c','d')\n",
    "B = tuple(i for i in range(4))\n",
    "B"
   ]
  },
  {
   "cell_type": "code",
   "execution_count": 42,
   "metadata": {},
   "outputs": [
    {
     "data": {
      "text/plain": [
       "{'a': 0, 'b': 1, 'c': 2, 'd': 3}"
      ]
     },
     "execution_count": 42,
     "metadata": {},
     "output_type": "execute_result"
    }
   ],
   "source": [
    "#create a dictionary out of this\n",
    "dict(zip(A,B))"
   ]
  },
  {
   "cell_type": "code",
   "execution_count": 46,
   "metadata": {},
   "outputs": [
    {
     "name": "stdout",
     "output_type": "stream",
     "text": [
      "{'a': 0, 'b': 1, 'c': 2, 'd': 3}\n"
     ]
    }
   ],
   "source": [
    "#harder way\n",
    "D2 = {}\n",
    "for (a,b) in zip(A,B):\n",
    "    D2[a]=b\n",
    "print(D2)"
   ]
  },
  {
   "cell_type": "code",
   "execution_count": 51,
   "metadata": {},
   "outputs": [
    {
     "name": "stdout",
     "output_type": "stream",
     "text": [
      "s has offset 0\n",
      "p has offset 1\n",
      "a has offset 2\n",
      "m has offset 3\n"
     ]
    }
   ],
   "source": [
    "\n",
    "\n",
    "#Generating offsets and items:enumerate\n",
    "for (i,j) in zip('spam',range(len('spam'))):\n",
    "    print(i,'has offset',j)"
   ]
  },
  {
   "cell_type": "code",
   "execution_count": 52,
   "metadata": {},
   "outputs": [
    {
     "name": "stdout",
     "output_type": "stream",
     "text": [
      "s has offset 0\n",
      "p has offset 1\n",
      "a has offset 2\n",
      "m has offset 3\n"
     ]
    }
   ],
   "source": [
    "#harder way\n",
    "S = 'spam'\n",
    "offset = 0\n",
    "for i in S:\n",
    "    print(i,'has offset',offset)\n",
    "    offset+=1"
   ]
  },
  {
   "cell_type": "code",
   "execution_count": 53,
   "metadata": {},
   "outputs": [],
   "source": [
    "#python comes with enumerate function in the recent releases"
   ]
  },
  {
   "cell_type": "code",
   "execution_count": 56,
   "metadata": {},
   "outputs": [
    {
     "name": "stdout",
     "output_type": "stream",
     "text": [
      "s has offset 0\n",
      "p has offset 1\n",
      "a has offset 2\n",
      "m has offset 3\n"
     ]
    }
   ],
   "source": [
    "for (i,j) in enumerate(S):\n",
    "    print(j,'has offset',i)"
   ]
  },
  {
   "cell_type": "code",
   "execution_count": null,
   "metadata": {},
   "outputs": [],
   "source": []
  }
 ],
 "metadata": {
  "kernelspec": {
   "display_name": "Python 3.8.13 ('arka')",
   "language": "python",
   "name": "python3"
  },
  "language_info": {
   "codemirror_mode": {
    "name": "ipython",
    "version": 3
   },
   "file_extension": ".py",
   "mimetype": "text/x-python",
   "name": "python",
   "nbconvert_exporter": "python",
   "pygments_lexer": "ipython3",
   "version": "3.8.13"
  },
  "orig_nbformat": 4,
  "vscode": {
   "interpreter": {
    "hash": "fa46da6b9307ef350aad613908c1591a068b15a96db2be16e9d9e053b74e28ee"
   }
  }
 },
 "nbformat": 4,
 "nbformat_minor": 2
}

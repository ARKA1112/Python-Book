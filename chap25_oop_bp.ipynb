{
 "cells": [
  {
   "cell_type": "markdown",
   "metadata": {},
   "source": [
    "### OOP The Big Picture"
   ]
  },
  {
   "cell_type": "code",
   "execution_count": 1,
   "metadata": {},
   "outputs": [],
   "source": [
    "#Inheritance -- inherit properties from a general class\n",
    "\n",
    "#Composition -- multiple inherited properties create compostition"
   ]
  },
  {
   "cell_type": "code",
   "execution_count": null,
   "metadata": {},
   "outputs": [],
   "source": [
    "#Classes\n",
    "\n",
    "#Serve as instance factories. Their attributes provide behaviour data and functions that is inherited by all the instances generated from them.\n",
    "\n",
    "#Instances represent the concrete items in a programs domain. Their attributes record data that varies specific object "
   ]
  },
  {
   "cell_type": "code",
   "execution_count": 1,
   "metadata": {},
   "outputs": [],
   "source": [
    "#the search approach is bottom-up and left-right"
   ]
  },
  {
   "cell_type": "markdown",
   "metadata": {},
   "source": [
    "![](otherfiles/Screenshot%20from%202022-09-25%2021-56-42.png)"
   ]
  },
  {
   "cell_type": "code",
   "execution_count": 5,
   "metadata": {},
   "outputs": [],
   "source": [
    "#Class structure in python\n",
    "\n",
    "class C2: pass            #make class objects ovals\n",
    "class C3: pass\n",
    "class c1(c2,c3): pass      #linked to superclasses\n",
    "\n",
    "i1 = c1()                 #Make instance objects\n",
    "i2 = c1()                 #Linked to their classes"
   ]
  },
  {
   "cell_type": "code",
   "execution_count": 11,
   "metadata": {},
   "outputs": [
    {
     "data": {
      "text/plain": [
       "__main__.c1"
      ]
     },
     "execution_count": 11,
     "metadata": {},
     "output_type": "execute_result"
    }
   ],
   "source": [
    "type(c1())"
   ]
  },
  {
   "cell_type": "markdown",
   "metadata": {},
   "source": [
    "##### Def inside a class is known as method"
   ]
  },
  {
   "cell_type": "code",
   "execution_count": 14,
   "metadata": {},
   "outputs": [
    {
     "name": "stdout",
     "output_type": "stream",
     "text": [
      "bob\n"
     ]
    },
    {
     "data": {
      "text/plain": [
       "'hello'"
      ]
     },
     "execution_count": 14,
     "metadata": {},
     "output_type": "execute_result"
    }
   ],
   "source": [
    "#creating a demo class\n",
    "class C1(C2,C3):            #two superclasses C2,C3\n",
    "        def setname(self,who):\n",
    "            self.name = who     #self is whoever this attr is attached to. Here for example it is I1 and I2\n",
    "\n",
    "I1 = C1()                   #makes two instances\n",
    "I2 = C1()\n",
    "I1.setname('bob')           #sets I1.name to bob\n",
    "I2.setname('mel')           #sets I2.name to mel\n",
    "print(I1.name)              #however both are instances of the same class\n",
    "\n",
    "\n",
    "#self automatically refers to the instance being processed\n",
    "#as of now C1 class doesnt attach a name attribute to an instance until the setname method is called.\n",
    "\n",
    "class C1(C2,C3):              \n",
    "    def __init__(self,who):         #set name when constructed\n",
    "        self.name = who             #self is either I1 or I2\n",
    "\n",
    "I1 = C1('hello')                    #sets I1.name to 'bob'\n",
    "I1.name                             #prints 'bob'\n",
    "\n",
    "\n",
    "#The init method is known as constructor because of when it is run. Its the most commonly used representative of a larger class of methods called operator overloading methods."
   ]
  },
  {
   "cell_type": "code",
   "execution_count": 31,
   "metadata": {},
   "outputs": [
    {
     "name": "stdout",
     "output_type": "stream",
     "text": [
      "<__main__.Employee object at 0x7fdee7cd2590> ----------------\n",
      "General Emp salary\n",
      "<__main__.engineer object at 0x7fdee7cd2500> ----------------\n",
      "engineer salary\n"
     ]
    }
   ],
   "source": [
    "#General stucture of a class object\n",
    "\n",
    "from pkg_resources import ResolutionError\n",
    "\n",
    "\n",
    "class Employee:\n",
    "    def computeSalary(self): return print('General Emp salary')\n",
    "    def giveRaise(self): pass\n",
    "    def promote(self): pass\n",
    "    def retire(self): pass\n",
    "\n",
    "#general employee class and can be customized for specialized needs for example for engineers salary computation is different\n",
    "#hence\n",
    " \n",
    "class engineer(Employee):                 #customized for engineer class\n",
    "    def computeSalary(self):\n",
    "        return print('engineer salary')\n",
    "\n",
    "bob = Employee()        #general employee category\n",
    "mel = engineer()        #engineer class\n",
    "\n",
    "#This is useful when we want to compute composite objects from a pool of employees with different emp categories\n",
    "\n",
    "company = [bob,mel]    #pool of emp\n",
    "\n",
    "for emp in company:\n",
    "        print(emp,'-'*16),emp.computeSalary()"
   ]
  },
  {
   "cell_type": "code",
   "execution_count": 32,
   "metadata": {},
   "outputs": [],
   "source": [
    "#polymorphism means that the meaning of an operation depends on the object being operated on.\n",
    "\n",
    "#Here computeSalary is located by inheritance search in each object before it is called. In other application it is also used to hide or encapsulate  interface differences"
   ]
  },
  {
   "cell_type": "code",
   "execution_count": 38,
   "metadata": {},
   "outputs": [
    {
     "ename": "NameError",
     "evalue": "name 'Converter' is not defined",
     "output_type": "error",
     "traceback": [
      "\u001b[0;31m---------------------------------------------------------------------------\u001b[0m",
      "\u001b[0;31mNameError\u001b[0m                                 Traceback (most recent call last)",
      "\u001b[1;32m/home/susearc/Documents/github/Python-Book/chap25_oop_bp.ipynb Cell 12\u001b[0m in \u001b[0;36m<cell line: 19>\u001b[0;34m()\u001b[0m\n\u001b[1;32m     <a href='vscode-notebook-cell:/home/susearc/Documents/github/Python-Book/chap25_oop_bp.ipynb#X15sZmlsZQ%3D%3D?line=15'>16</a>\u001b[0m \u001b[39mclass\u001b[39;00m \u001b[39mSocketReader\u001b[39;00m(reader):\n\u001b[1;32m     <a href='vscode-notebook-cell:/home/susearc/Documents/github/Python-Book/chap25_oop_bp.ipynb#X15sZmlsZQ%3D%3D?line=16'>17</a>\u001b[0m     \u001b[39mdef\u001b[39;00m \u001b[39mread\u001b[39m(\u001b[39mself\u001b[39m):\u001b[39mpass\u001b[39;00m           \u001b[39m# Read from a network socket\u001b[39;00m\n\u001b[0;32m---> <a href='vscode-notebook-cell:/home/susearc/Documents/github/Python-Book/chap25_oop_bp.ipynb#X15sZmlsZQ%3D%3D?line=18'>19</a>\u001b[0m processor(FileReader,Converter,SocketReader)\n",
      "\u001b[0;31mNameError\u001b[0m: name 'Converter' is not defined"
     ]
    }
   ],
   "source": [
    "#example of a datastreamer class\n",
    "def processor(reader,converter, writer):\n",
    "    while 1:\n",
    "        data = reader.read()\n",
    "        if not data: break\n",
    "\n",
    "#data = converter(data)\n",
    "#writer.write(data)               example data coverter\n",
    "\n",
    "\n",
    "class reader:\n",
    "    def read(self):pass           # Default behaviour and tools\n",
    "    def other(self):pass            \n",
    "class FileReader(reader):\n",
    "    def read(self):pass           # Read from a local file\n",
    "class SocketReader(reader):\n",
    "    def read(self):pass           # Read from a network socket\n",
    "\n",
    "#processor(FileReader,Converter,SocketReader)"
   ]
  },
  {
   "cell_type": "code",
   "execution_count": null,
   "metadata": {},
   "outputs": [],
   "source": []
  }
 ],
 "metadata": {
  "kernelspec": {
   "display_name": "Python 3.10.4 ('arka')",
   "language": "python",
   "name": "python3"
  },
  "language_info": {
   "codemirror_mode": {
    "name": "ipython",
    "version": 3
   },
   "file_extension": ".py",
   "mimetype": "text/x-python",
   "name": "python",
   "nbconvert_exporter": "python",
   "pygments_lexer": "ipython3",
   "version": "3.10.4"
  },
  "orig_nbformat": 4,
  "vscode": {
   "interpreter": {
    "hash": "fa46da6b9307ef350aad613908c1591a068b15a96db2be16e9d9e053b74e28ee"
   }
  }
 },
 "nbformat": 4,
 "nbformat_minor": 2
}

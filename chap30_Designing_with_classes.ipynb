{
 "cells": [
  {
   "cell_type": "markdown",
   "metadata": {},
   "source": [
    "#### Overloading by Call Signature"
   ]
  },
  {
   "cell_type": "code",
   "execution_count": null,
   "metadata": {},
   "outputs": [],
   "source": [
    "#polymorphism is based on object interfaces not types"
   ]
  },
  {
   "cell_type": "code",
   "execution_count": null,
   "metadata": {},
   "outputs": [],
   "source": [
    "#refer employees.py\n",
    "from importlib import reload\n",
    "reload(employees)\n",
    "import employees\n",
    "\n",
    "bob = employees.Chef('Bob Smith')\n",
    "print(bob.work)   #no need to wrap in print as its function has print in itself"
   ]
  },
  {
   "cell_type": "code",
   "execution_count": null,
   "metadata": {},
   "outputs": [],
   "source": [
    "bob = employees.PizzaBot('Bob Smith')\n",
    "bob"
   ]
  },
  {
   "cell_type": "markdown",
   "metadata": {},
   "source": [
    "#### OOP and Composition"
   ]
  },
  {
   "cell_type": "code",
   "execution_count": null,
   "metadata": {},
   "outputs": [],
   "source": [
    "#composition simply refers to a collection of embedded objects."
   ]
  },
  {
   "cell_type": "code",
   "execution_count": null,
   "metadata": {},
   "outputs": [],
   "source": [
    "#Now to create pizzashop.py"
   ]
  },
  {
   "cell_type": "markdown",
   "metadata": {},
   "source": [
    "#### Stream processors revisited"
   ]
  },
  {
   "cell_type": "code",
   "execution_count": null,
   "metadata": {},
   "outputs": [],
   "source": [
    "#refer to streams.py, converter.py\n"
   ]
  },
  {
   "cell_type": "code",
   "execution_count": null,
   "metadata": {},
   "outputs": [],
   "source": [
    "import converter\n",
    "prog = converter.Uppercase(open('script1.txt'), open('streams.txt', 'w'))\n",
    "prog.process()\n",
    "\n",
    "open('streams.txt').readlines()"
   ]
  },
  {
   "cell_type": "code",
   "execution_count": null,
   "metadata": {},
   "outputs": [],
   "source": [
    "from pizzashop import Pizzashop\n",
    "shop = Pizzashop()\n",
    "shop.chef, shop.server\n",
    "pickle.dump(shop, open('shopfile.dat','wb'))"
   ]
  },
  {
   "cell_type": "code",
   "execution_count": null,
   "metadata": {},
   "outputs": [],
   "source": [
    "import pickle\n",
    "\n",
    "obj = pickle.load(open('shopfile.dat','rb'))\n",
    "obj.chef, obj.order"
   ]
  },
  {
   "cell_type": "code",
   "execution_count": null,
   "metadata": {},
   "outputs": [],
   "source": [
    "from trace import wrapper\n",
    "x = wrapper([1,2,3])\n",
    "x.append(4)\n",
    "x.wrapped"
   ]
  },
  {
   "cell_type": "code",
   "execution_count": null,
   "metadata": {},
   "outputs": [],
   "source": [
    "x.extend([4,5])\n",
    "x.wrapped"
   ]
  },
  {
   "cell_type": "markdown",
   "metadata": {},
   "source": [
    "#### Pseudoprivate attrs"
   ]
  },
  {
   "cell_type": "code",
   "execution_count": null,
   "metadata": {},
   "outputs": [],
   "source": [
    "class C1:\n",
    "    def meth1(self): self.__X = 88\n",
    "    def meth2(self): print(self.__X)  #changes to _C1__X\n",
    "\n",
    "class C2:\n",
    "    def metha(self): self.__X = 'metha'\n",
    "    def methb(self): print(self.__X)  #changes to _C2__X"
   ]
  },
  {
   "cell_type": "code",
   "execution_count": null,
   "metadata": {},
   "outputs": [],
   "source": [
    "class C3(C1, C2):\n",
    "    pass"
   ]
  },
  {
   "cell_type": "code",
   "execution_count": null,
   "metadata": {},
   "outputs": [],
   "source": [
    "I = C3()\n",
    "I.meth1();I.meth2()\n",
    "I.metha();I.methb()\n",
    "dir(I)[:3]   #can see how the methods are imported"
   ]
  },
  {
   "cell_type": "code",
   "execution_count": null,
   "metadata": {},
   "outputs": [],
   "source": [
    "I.__dict__   #shows the mehods which are inherited from super classes\n",
    "I.__class__.__bases__   #shows the superclasses"
   ]
  },
  {
   "cell_type": "code",
   "execution_count": null,
   "metadata": {},
   "outputs": [],
   "source": [
    "#the above are pseudoprivate in the sense that : although they are using simillar methods or names, when they are aggregated to a class their namespaces dont collide"
   ]
  },
  {
   "cell_type": "code",
   "execution_count": 64,
   "metadata": {},
   "outputs": [],
   "source": [
    "class Super:\n",
    "    def method(self): print('method')    #A real application method\n",
    "\n",
    "class Tool:\n",
    "    def __method(self): print('__method')  #becomes _Tool__method\n",
    "    def other(self): self.__method()        #Use my internal method\n",
    "\n",
    "class Sub1(Tool, Super):\n",
    "    def actions(self): self.method()        #Runs Super.method\n",
    "\n",
    "class Sub2(Tool):\n",
    "    def __init__(self):\n",
    "        self.method = 99\n"
   ]
  },
  {
   "cell_type": "code",
   "execution_count": 97,
   "metadata": {},
   "outputs": [
    {
     "name": "stdout",
     "output_type": "stream",
     "text": [
      "method\n",
      "method\n",
      "__method\n"
     ]
    }
   ],
   "source": [
    "Super.method('h')\n",
    "\n",
    "Sub1().actions()\n",
    "Sub2().method\n",
    "Tool.other\n",
    "\n",
    "Tool._Tool__method('h')  #This is how to access the __method"
   ]
  },
  {
   "cell_type": "markdown",
   "metadata": {},
   "source": [
    "#### Methods are objects bound or unbound"
   ]
  },
  {
   "cell_type": "code",
   "execution_count": 110,
   "metadata": {},
   "outputs": [],
   "source": [
    "class Spam:\n",
    "    def dem(self, name='Hello World'):\n",
    "        print(2*name,sep=',')"
   ]
  },
  {
   "cell_type": "code",
   "execution_count": 119,
   "metadata": {},
   "outputs": [
    {
     "name": "stdout",
     "output_type": "stream",
     "text": [
      "Hello WorldHello World\n",
      "spamspam\n"
     ]
    }
   ],
   "source": [
    "#Bound method example\n",
    "\n",
    "x = Spam()   #instance\n",
    "x.dem()      #Intance + function ; bound mehod\n",
    "\n",
    "#Unbound method example\n",
    "\n",
    "x1 = Spam()\n",
    "x = Spam.dem     #Unbound method or object\n",
    "x(x1, 'spam')    #pass in instance"
   ]
  },
  {
   "cell_type": "code",
   "execution_count": null,
   "metadata": {},
   "outputs": [],
   "source": []
  },
  {
   "cell_type": "code",
   "execution_count": null,
   "metadata": {},
   "outputs": [],
   "source": []
  }
 ],
 "metadata": {
  "kernelspec": {
   "display_name": "Python 3.10.6 ('arka')",
   "language": "python",
   "name": "python3"
  },
  "language_info": {
   "codemirror_mode": {
    "name": "ipython",
    "version": 3
   },
   "file_extension": ".py",
   "mimetype": "text/x-python",
   "name": "python",
   "nbconvert_exporter": "python",
   "pygments_lexer": "ipython3",
   "version": "3.10.6"
  },
  "orig_nbformat": 4,
  "vscode": {
   "interpreter": {
    "hash": "fa46da6b9307ef350aad613908c1591a068b15a96db2be16e9d9e053b74e28ee"
   }
  }
 },
 "nbformat": 4,
 "nbformat_minor": 2
}

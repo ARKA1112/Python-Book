{
 "cells": [
  {
   "cell_type": "markdown",
   "metadata": {},
   "source": [
    "#### Overloading by Call Signature"
   ]
  },
  {
   "cell_type": "code",
   "execution_count": null,
   "metadata": {},
   "outputs": [],
   "source": [
    "#polymorphism is based on object interfaces not types"
   ]
  },
  {
   "cell_type": "code",
   "execution_count": null,
   "metadata": {},
   "outputs": [],
   "source": [
    "#refer employees.py\n",
    "from importlib import reload\n",
    "reload(employees)\n",
    "import employees\n",
    "\n",
    "bob = employees.Chef('Bob Smith')\n",
    "print(bob.work)   #no need to wrap in print as its function has print in itself"
   ]
  },
  {
   "cell_type": "code",
   "execution_count": null,
   "metadata": {},
   "outputs": [],
   "source": [
    "bob = employees.PizzaBot('Bob Smith')\n",
    "bob"
   ]
  },
  {
   "cell_type": "markdown",
   "metadata": {},
   "source": [
    "#### OOP and Composition"
   ]
  },
  {
   "cell_type": "code",
   "execution_count": null,
   "metadata": {},
   "outputs": [],
   "source": [
    "#composition simply refers to a collection of embedded objects."
   ]
  },
  {
   "cell_type": "code",
   "execution_count": null,
   "metadata": {},
   "outputs": [],
   "source": [
    "#Now to create pizzashop.py"
   ]
  },
  {
   "cell_type": "markdown",
   "metadata": {},
   "source": [
    "#### Stream processors revisited"
   ]
  },
  {
   "cell_type": "code",
   "execution_count": null,
   "metadata": {},
   "outputs": [],
   "source": [
    "#refer to streams.py, converter.py\n"
   ]
  },
  {
   "cell_type": "code",
   "execution_count": null,
   "metadata": {},
   "outputs": [],
   "source": [
    "import converter\n",
    "prog = converter.Uppercase(open('script1.txt'), open('streams.txt', 'w'))\n",
    "prog.process()\n",
    "\n",
    "open('streams.txt').readlines()"
   ]
  },
  {
   "cell_type": "code",
   "execution_count": null,
   "metadata": {},
   "outputs": [],
   "source": [
    "from pizzashop import Pizzashop\n",
    "shop = Pizzashop()\n",
    "shop.chef, shop.server\n",
    "pickle.dump(shop, open('shopfile.dat','wb'))"
   ]
  },
  {
   "cell_type": "code",
   "execution_count": null,
   "metadata": {},
   "outputs": [],
   "source": [
    "import pickle\n",
    "\n",
    "obj = pickle.load(open('shopfile.dat','rb'))\n",
    "obj.chef, obj.order"
   ]
  },
  {
   "cell_type": "code",
   "execution_count": null,
   "metadata": {},
   "outputs": [],
   "source": [
    "from trace import wrapper\n",
    "x = wrapper([1,2,3])\n",
    "x.append(4)\n",
    "x.wrapped"
   ]
  },
  {
   "cell_type": "code",
   "execution_count": null,
   "metadata": {},
   "outputs": [],
   "source": [
    "x.extend([4,5])\n",
    "x.wrapped"
   ]
  },
  {
   "cell_type": "markdown",
   "metadata": {},
   "source": [
    "#### Pseudoprivate attrs"
   ]
  },
  {
   "cell_type": "code",
   "execution_count": null,
   "metadata": {},
   "outputs": [],
   "source": [
    "class C1:\n",
    "    def meth1(self): self.__X = 88\n",
    "    def meth2(self): print(self.__X)  #changes to _C1__X\n",
    "\n",
    "class C2:\n",
    "    def metha(self): self.__X = 'metha'\n",
    "    def methb(self): print(self.__X)  #changes to _C2__X"
   ]
  },
  {
   "cell_type": "code",
   "execution_count": null,
   "metadata": {},
   "outputs": [],
   "source": [
    "class C3(C1, C2):\n",
    "    pass"
   ]
  },
  {
   "cell_type": "code",
   "execution_count": null,
   "metadata": {},
   "outputs": [],
   "source": [
    "I = C3()\n",
    "I.meth1();I.meth2()\n",
    "I.metha();I.methb()\n",
    "dir(I)[:3]   #can see how the methods are imported"
   ]
  },
  {
   "cell_type": "code",
   "execution_count": null,
   "metadata": {},
   "outputs": [],
   "source": [
    "I.__dict__   #shows the mehods which are inherited from super classes\n",
    "I.__class__.__bases__   #shows the superclasses"
   ]
  },
  {
   "cell_type": "code",
   "execution_count": null,
   "metadata": {},
   "outputs": [],
   "source": [
    "#the above are pseudoprivate in the sense that : although they are using simillar methods or names, when they are aggregated to a class their namespaces dont collide"
   ]
  },
  {
   "cell_type": "code",
   "execution_count": null,
   "metadata": {},
   "outputs": [],
   "source": [
    "class Super:\n",
    "    def method(self): print('method')    #A real application method\n",
    "\n",
    "class Tool:\n",
    "    def __method(self): print('__method')  #becomes _Tool__method\n",
    "    def other(self): self.__method()        #Use my internal method\n",
    "\n",
    "class Sub1(Tool, Super):\n",
    "    def actions(self): self.method()        #Runs Super.method\n",
    "\n",
    "class Sub2(Tool):\n",
    "    def __init__(self):\n",
    "        self.method = 99\n"
   ]
  },
  {
   "cell_type": "code",
   "execution_count": null,
   "metadata": {},
   "outputs": [],
   "source": [
    "Super.method('h')\n",
    "\n",
    "Sub1().actions()\n",
    "Sub2().method\n",
    "Tool.other\n",
    "\n",
    "Tool._Tool__method('h')  #This is how to access the __method"
   ]
  },
  {
   "cell_type": "markdown",
   "metadata": {},
   "source": [
    "#### Methods are objects bound or unbound"
   ]
  },
  {
   "cell_type": "code",
   "execution_count": null,
   "metadata": {},
   "outputs": [],
   "source": [
    "class Spam:\n",
    "    def dem(self, name='Hello World'):\n",
    "        print(2*name,sep=',')"
   ]
  },
  {
   "cell_type": "code",
   "execution_count": null,
   "metadata": {},
   "outputs": [],
   "source": [
    "#Bound method example\n",
    "\n",
    "x = Spam()   #instance\n",
    "x.dem()      #Intance + function ; bound mehod\n",
    "\n",
    "#Unbound method example\n",
    "\n",
    "x1 = Spam()\n",
    "x = Spam.dem     #Unbound method or object\n",
    "x(x1, 'spam')    #pass in instance"
   ]
  },
  {
   "cell_type": "code",
   "execution_count": null,
   "metadata": {},
   "outputs": [],
   "source": [
    "class Eggs:\n",
    "    def m1(self, n):\n",
    "        print(n)\n",
    "    def m2(self):\n",
    "        x = self.m1    #another bound method object\n",
    "        x(42)           #Looks like a simple function"
   ]
  },
  {
   "cell_type": "code",
   "execution_count": null,
   "metadata": {},
   "outputs": [],
   "source": [
    "Eggs().m2()"
   ]
  },
  {
   "cell_type": "code",
   "execution_count": null,
   "metadata": {},
   "outputs": [],
   "source": [
    "class Selfless:\n",
    "    def __init__(self, data):\n",
    "        self.data = data\n",
    "    def selfless(arg1, arg2):\n",
    "        return arg1 + arg2\n",
    "    def normal(self, arg1, arg2):\n",
    "        return self.data + arg1 + arg2"
   ]
  },
  {
   "cell_type": "code",
   "execution_count": null,
   "metadata": {},
   "outputs": [],
   "source": [
    "Selfless.selfless('pal','indrome')\n",
    "Selfless('init').data"
   ]
  },
  {
   "cell_type": "code",
   "execution_count": null,
   "metadata": {},
   "outputs": [],
   "source": [
    "x = Selfless('Palindrome')\n",
    "x.normal(' is',' a shape')"
   ]
  },
  {
   "cell_type": "code",
   "execution_count": null,
   "metadata": {},
   "outputs": [],
   "source": [
    "X = Selfless(2)\n",
    "X.normal(3, 4)\n",
    "\n",
    "Selfless.selfless(3,4)\n",
    "Selfless.normal(X,2,3)  #self is expected by method so pass it manually\n",
    "#Unbound methods require an instance to be passed by default"
   ]
  },
  {
   "cell_type": "markdown",
   "metadata": {},
   "source": [
    "#### Bound Methods and other callable objects"
   ]
  },
  {
   "cell_type": "code",
   "execution_count": null,
   "metadata": {},
   "outputs": [],
   "source": [
    "#consider the following\n",
    "\n",
    "class Number:\n",
    "    def __init__(self, base):\n",
    "        self.base = base\n",
    "    def double(self):\n",
    "        return self.base * 2\n",
    "    def triple(self):\n",
    "        return self.base * 3"
   ]
  },
  {
   "cell_type": "code",
   "execution_count": null,
   "metadata": {},
   "outputs": [],
   "source": [
    "x = Number(3)\n",
    "y = Number(2)\n",
    "z = Number(4)\n",
    "\n",
    "\n",
    "acts = [x.double, y.double, z.double]\n",
    "\n",
    "for acts in acts:\n",
    "    print(acts(),end='\\t')"
   ]
  },
  {
   "cell_type": "code",
   "execution_count": null,
   "metadata": {},
   "outputs": [],
   "source": [
    "bound = x.double\n",
    "bound.__self__, bound.__func__\n",
    "bound.__self__.base\n",
    "bound()     #calls the function"
   ]
  },
  {
   "cell_type": "code",
   "execution_count": null,
   "metadata": {},
   "outputs": [],
   "source": [
    "def square(arg):\n",
    "    return arg ** 2\n",
    "\n",
    "class Summ:\n",
    "    def __init__(self, arg):\n",
    "        self.arg = arg\n",
    "    def __call__(self, data):\n",
    "        return self.arg + data\n",
    "\n",
    "class Product:\n",
    "    def __init__(self, arg):\n",
    "        self.arg = arg\n",
    "    def __call__(self, data):\n",
    "        return self.arg * data\n",
    "\n",
    "\n",
    "x = square(3); x\n",
    "y = Summ(4); y(4)\n",
    "z = Product(3); z(9)\n",
    "\n",
    "\n",
    "actions = [square, y, z]\n",
    "\n",
    "for act in actions:\n",
    "    print(act(4))\n",
    "\n",
    "\n",
    "#using lambda\n",
    "\n",
    "list(map(lambda act: act(4), actions))"
   ]
  },
  {
   "cell_type": "code",
   "execution_count": null,
   "metadata": {},
   "outputs": [],
   "source": [
    "class Negate:\n",
    "    def __init__(self, val):\n",
    "        self.val = -val\n",
    "    def __repr__(self):\n",
    "        return str(self.val)\n",
    "\n",
    "Negate(4)\n",
    "\n",
    "x = Negate(3)\n",
    "print(x)\n",
    "\n",
    "actions = [square, x, y, z, Negate(4)]  #object no callable\n",
    "for act in actions:\n",
    "    act(1)"
   ]
  },
  {
   "cell_type": "code",
   "execution_count": null,
   "metadata": {},
   "outputs": [],
   "source": [
    "Negate(4)"
   ]
  },
  {
   "cell_type": "code",
   "execution_count": null,
   "metadata": {},
   "outputs": [],
   "source": [
    "#class(class1, class2) #this is called multiple inheritance"
   ]
  },
  {
   "cell_type": "code",
   "execution_count": null,
   "metadata": {},
   "outputs": [],
   "source": [
    "#refer to lister.py"
   ]
  },
  {
   "cell_type": "code",
   "execution_count": null,
   "metadata": {},
   "outputs": [],
   "source": [
    "from lister import ListIntance\n",
    "\n",
    "class Spam(ListIntance):      #inherits the listinstance class\n",
    "    def __init__(self):\n",
    "        self.data1 = 'food'\n",
    "\n",
    "x = Spam()\n",
    "print(x)"
   ]
  },
  {
   "cell_type": "code",
   "execution_count": null,
   "metadata": {},
   "outputs": [],
   "source": [
    "#also can be done by\n",
    "str(x)"
   ]
  },
  {
   "cell_type": "code",
   "execution_count": null,
   "metadata": {},
   "outputs": [],
   "source": [
    "import lister\n",
    "\n",
    "class C(lister.ListIntance):\n",
    "    pass\n",
    "    def __str__(self):\n",
    "        return 'instances'    #changes the str function in inherited from the superclass in this class\n",
    "x = C()\n",
    "x.a = 1; x.b = 2; x.c = 4\n",
    "print(x)"
   ]
  },
  {
   "cell_type": "code",
   "execution_count": null,
   "metadata": {},
   "outputs": [],
   "source": [
    "class C(lister.ListIntance):\n",
    "    pass\n",
    "    def __str__(self):\n",
    "        return 'attributes'+ super().__str__()\n",
    "\n",
    "x = C()\n",
    "x.a = 1; x.b = 2; x.c = 3"
   ]
  },
  {
   "cell_type": "code",
   "execution_count": null,
   "metadata": {},
   "outputs": [],
   "source": [
    "print(x)"
   ]
  },
  {
   "cell_type": "code",
   "execution_count": null,
   "metadata": {},
   "outputs": [],
   "source": [
    "getattr(x, 'a')"
   ]
  },
  {
   "cell_type": "code",
   "execution_count": null,
   "metadata": {},
   "outputs": [],
   "source": [
    "#refers from testmixin.py, lister.py\n",
    "\n",
    "from importlib import reload\n",
    "reload(lister)\n",
    "\n",
    "class Sub(testmixin.Super, lister.ListInherited):\n",
    "    pass\n",
    "x = Sub()\n",
    "print(x)"
   ]
  },
  {
   "cell_type": "code",
   "execution_count": null,
   "metadata": {},
   "outputs": [],
   "source": [
    "#modifying testmixin and running it"
   ]
  },
  {
   "cell_type": "code",
   "execution_count": null,
   "metadata": {},
   "outputs": [],
   "source": [
    "#applying the class in tkinter button class\n",
    "from lister import ListTree\n",
    "from tkinter import Button\n",
    "\n",
    "class MyButton(ListTree, Button):\n",
    "    pass\n",
    "\n",
    "B = MyButton(text='spam')\n",
    "open('savtree.txt','w').write(str(B))\n",
    "print(B)"
   ]
  },
  {
   "cell_type": "markdown",
   "metadata": {},
   "source": [
    "#### Classes are objects: Generic Object Factories"
   ]
  },
  {
   "cell_type": "code",
   "execution_count": null,
   "metadata": {},
   "outputs": [],
   "source": []
  },
  {
   "cell_type": "markdown",
   "metadata": {},
   "source": [
    "#### Quiz"
   ]
  },
  {
   "cell_type": "code",
   "execution_count": 1,
   "metadata": {},
   "outputs": [],
   "source": [
    "#q1 when a declared class inherits attributes from multiple superclasses and use it accordingly\n",
    "\n",
    "#q2 reference to an object before it has been constructed\n",
    "\n",
    "#q3 Composition is a technique whereby a controller class embeds and directs a number of objects, and provides an interface all its own; its a way to build up larger structures with classes.\n",
    "\n",
    "#q4 Bound methods combine an instance and a method function; you can call them without passing in an instance object explicitly because the original instance is still available\n",
    "\n",
    "#q5 Pseudopvt attributes ie with names __X are used to localize names to the enclosing class. This includes both class attributes like methods defined inside the class, and self instance attributes assigned inside the class. Such names are expanded to include the class name, which makes them unique. "
   ]
  },
  {
   "cell_type": "code",
   "execution_count": null,
   "metadata": {},
   "outputs": [],
   "source": []
  }
 ],
 "metadata": {
  "kernelspec": {
   "display_name": "Python 3.10.6 ('arka')",
   "language": "python",
   "name": "python3"
  },
  "language_info": {
   "codemirror_mode": {
    "name": "ipython",
    "version": 3
   },
   "file_extension": ".py",
   "mimetype": "text/x-python",
   "name": "python",
   "nbconvert_exporter": "python",
   "pygments_lexer": "ipython3",
   "version": "3.10.6"
  },
  "orig_nbformat": 4,
  "vscode": {
   "interpreter": {
    "hash": "fa46da6b9307ef350aad613908c1591a068b15a96db2be16e9d9e053b74e28ee"
   }
  }
 },
 "nbformat": 4,
 "nbformat_minor": 2
}

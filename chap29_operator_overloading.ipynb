{
 "cells": [
  {
   "cell_type": "markdown",
   "metadata": {},
   "source": [
    "##### Constructors and Expressions: __init__ and __sub__"
   ]
  },
  {
   "cell_type": "code",
   "execution_count": null,
   "metadata": {},
   "outputs": [],
   "source": [
    "class Number:\n",
    "    def __init__(self,num):\n",
    "        self.num = num\n",
    "    def __sub__(self,other):\n",
    "        return(Number(self.num - other))"
   ]
  },
  {
   "cell_type": "code",
   "execution_count": null,
   "metadata": {},
   "outputs": [],
   "source": [
    "X = Number(5)\n",
    "Y = X - 2\n",
    "Y.num"
   ]
  },
  {
   "cell_type": "markdown",
   "metadata": {},
   "source": [
    "![](Screenshot%20from%202022-09-30%2015-29-00.png)"
   ]
  },
  {
   "cell_type": "markdown",
   "metadata": {},
   "source": [
    "#### Indexing and Slicing:__getitem__and__setitem__"
   ]
  },
  {
   "cell_type": "code",
   "execution_count": null,
   "metadata": {},
   "outputs": [],
   "source": [
    "class Indexer:\n",
    "    def __getitem__(self,index):\n",
    "        return index ** 2\n",
    "\n",
    "X = Indexer()\n",
    "X[19]\n",
    "\n",
    "for i in range(5):       #this uses the __getitem__ builtin function to return the i\n",
    "    print(i,end=',')"
   ]
  },
  {
   "cell_type": "code",
   "execution_count": null,
   "metadata": {},
   "outputs": [],
   "source": [
    "L = [5,6,7,8,9]\n",
    "L[1:4]     #slicing the index\n",
    "L[1:]\n",
    "print(L[:-1])     #omits the last element   \n",
    "L[::2]   #returns at interval of 2"
   ]
  },
  {
   "cell_type": "code",
   "execution_count": null,
   "metadata": {},
   "outputs": [],
   "source": [
    "L[slice(2,4)]   #using slice option\n"
   ]
  },
  {
   "cell_type": "code",
   "execution_count": null,
   "metadata": {},
   "outputs": [],
   "source": [
    "from xmlrpc.server import list_public_methods\n",
    "\n",
    "\n",
    "print(L[slice(1,None)])\n",
    "print(L[slice(None, -1)])\n",
    "print(L[slice(None, None, -1)])"
   ]
  },
  {
   "cell_type": "markdown",
   "metadata": {},
   "source": [
    "#### __getitem__ adds indexing option to the class"
   ]
  },
  {
   "cell_type": "code",
   "execution_count": null,
   "metadata": {},
   "outputs": [],
   "source": [
    "#slicing using getitem\n",
    "\n",
    "class Indexer:\n",
    "    data = L\n",
    "    def __getitem__(self, index):\n",
    "        print('getitem: ', index)\n",
    "        return self.data[index]\n",
    "\n",
    "X = Indexer()\n",
    "X[1]\n",
    "X[1:None]\n",
    "X[::-2]      #slicing sends getitem a slicing object"
   ]
  },
  {
   "cell_type": "code",
   "execution_count": null,
   "metadata": {},
   "outputs": [],
   "source": [
    "#Declaring a string from A to Z using chr option\n",
    "\n",
    "L = [chr(i) for i in range(65,91)]\n",
    "B = ''.join(L)"
   ]
  },
  {
   "cell_type": "code",
   "execution_count": null,
   "metadata": {},
   "outputs": [],
   "source": [
    "#more examples\n",
    "\n",
    "class Stepper:\n",
    "    def __getitem__(self, i):\n",
    "        return self.data[i]\n",
    "\n",
    "X = Stepper()\n",
    "\n",
    "X.data = L\n",
    "for i in X.data:\n",
    "    print(i)"
   ]
  },
  {
   "cell_type": "code",
   "execution_count": null,
   "metadata": {},
   "outputs": [],
   "source": [
    "for item in L:\n",
    "    print(item, end=',')"
   ]
  },
  {
   "cell_type": "code",
   "execution_count": null,
   "metadata": {},
   "outputs": [],
   "source": [
    "'L' in B\n",
    "[c for c in B]\n",
    "list(map(ord,L))    #remember map is an iterable object\n",
    "B, L"
   ]
  },
  {
   "cell_type": "markdown",
   "metadata": {},
   "source": [
    "#### User defined iterators"
   ]
  },
  {
   "cell_type": "code",
   "execution_count": null,
   "metadata": {},
   "outputs": [],
   "source": [
    "class Squares:\n",
    "    def __init__(self, start, stop):\n",
    "        self.value = start - 1\n",
    "        self.stop = stop              #attributes assigned\n",
    "    def __iter__(self):\n",
    "        return self\n",
    "    def __next__(self):\n",
    "        if self.value == self.stop:\n",
    "            raise StopIteration\n",
    "        self.value += 1\n",
    "        return self.value ** 2"
   ]
  },
  {
   "cell_type": "code",
   "execution_count": null,
   "metadata": {},
   "outputs": [],
   "source": [
    "x = Squares(1,3)\n",
    "for i in x:\n",
    "    print(i, end=' ')"
   ]
  },
  {
   "cell_type": "code",
   "execution_count": null,
   "metadata": {},
   "outputs": [],
   "source": [
    "x = Squares(1, 6)\n",
    "I = iter(x)\n",
    "next(I), next(I), next(I), next(I)\n"
   ]
  },
  {
   "cell_type": "code",
   "execution_count": null,
   "metadata": {},
   "outputs": [],
   "source": [
    "#same using function\n",
    "\n",
    "def gsquares(start, stop):\n",
    "    for i in range(start,stop+1):\n",
    "        yield i ** 2\n",
    "\n",
    "for i in gsquares(1, 5):\n",
    "    print(i, end = ' ')"
   ]
  },
  {
   "cell_type": "markdown",
   "metadata": {},
   "source": [
    "#### Multiple iterators on one object"
   ]
  },
  {
   "cell_type": "code",
   "execution_count": null,
   "metadata": {},
   "outputs": [],
   "source": [
    "S = 'ace'\n",
    "for x in S:\n",
    "    for y in S:\n",
    "        print(x + y, end = ' ')   #iterates over for each element"
   ]
  },
  {
   "cell_type": "code",
   "execution_count": null,
   "metadata": {},
   "outputs": [],
   "source": [
    "class Skipiterator:\n",
    "    def __init__(self,wrapped):\n",
    "        self.wrapped = wrapped\n",
    "        self.offset  = 0\n",
    "    def __next__(self):\n",
    "        if self.offset >= len(self.wrapped):\n",
    "            raise StopIteration\n",
    "        else:\n",
    "            item = self.wrapped[self.offset]\n",
    "            self.offset += 2\n",
    "            return item\n",
    "\n",
    "class SkipObject:\n",
    "    def __init__(self, wrapped):\n",
    "        self.wrapped = wrapped\n",
    "    def __iter__(self):\n",
    "        return Skipiterator(self.wrapped)\n",
    "\n",
    "if __name__ == '__main__':\n",
    "    alpha = 'abcdef'\n",
    "    skipper = SkipObject(alpha)\n",
    "    I = iter(skipper)\n",
    "    print(next(I), next(I), next(I))\n",
    "\n",
    "\n",
    "    for x in skipper:\n",
    "        for y in skipper:\n",
    "            print(x + y, end = '')"
   ]
  },
  {
   "cell_type": "code",
   "execution_count": null,
   "metadata": {},
   "outputs": [],
   "source": [
    "for x in alpha[::3]:\n",
    "    for y in alpha[::3]:\n",
    "        print(x+y, end=' ')"
   ]
  },
  {
   "cell_type": "markdown",
   "metadata": {},
   "source": [
    "#### Membership: __contains__,__iter__,and __getitem__"
   ]
  },
  {
   "cell_type": "code",
   "execution_count": null,
   "metadata": {},
   "outputs": [],
   "source": [
    "class Iters:\n",
    "    def __init__(self, value):\n",
    "        self.data = value\n",
    "    def __getitem(self,i):\n",
    "        print('get[%s]:' %i, end='')\n",
    "        return self.data[i]\n",
    "    def __iter__(self):\n",
    "        print('iter=> ', end = '')\n",
    "        self.ix = 0\n",
    "        return self\n",
    "    def __next__(self):\n",
    "        print('next: ', end='')\n",
    "        if self.ix == len(self.data): raise StopIteration\n",
    "        item = self.data[self.ix]\n",
    "        self.ix += 1\n",
    "        return item\n",
    "    def __contains__(self,x):\n",
    "        print('contains: ', end = ' ')\n",
    "        return x in self.data"
   ]
  },
  {
   "cell_type": "code",
   "execution_count": null,
   "metadata": {},
   "outputs": [],
   "source": [
    "X = Iters([1, 2, 3, 4, 5])  #declaring the class\n",
    "print(3 in X)               #using the contains operation\n",
    "for i in X:\n",
    "    print(i, end = ' | ')   #triggers the __next__ operation\n",
    "\n",
    "print()\n",
    "print([i ** 2 for i in X])\n",
    "print(list(map(bin, X)))\n",
    "\n",
    "I = iter(X)\n",
    "while True:\n",
    "    try:\n",
    "        print(next(I), end = ' @ ')\n",
    "    except StopIteration:\n",
    "        break"
   ]
  },
  {
   "cell_type": "code",
   "execution_count": null,
   "metadata": {},
   "outputs": [],
   "source": [
    "#slice expressions trigger __getitem__\n",
    "\n",
    "X = Iters('spam')\n",
    "X.data[1]     #triggers __getitem__\n"
   ]
  },
  {
   "cell_type": "markdown",
   "metadata": {},
   "source": [
    "#### Attribute reference: `__getattr__ and __setattr__`"
   ]
  },
  {
   "cell_type": "code",
   "execution_count": null,
   "metadata": {},
   "outputs": [],
   "source": [
    "\n",
    "#this happens if use __init__\n",
    "class empty:\n",
    "    def __init__(self, attribute):\n",
    "        self.attribute = attribute\n",
    "        if self.attribute == 'age':\n",
    "            return print(4)\n",
    "        else:\n",
    "            raise AttributeError"
   ]
  },
  {
   "cell_type": "code",
   "execution_count": null,
   "metadata": {},
   "outputs": [],
   "source": [
    "x = empty('age')"
   ]
  },
  {
   "cell_type": "code",
   "execution_count": null,
   "metadata": {},
   "outputs": [],
   "source": [
    "#if we use getattr\n",
    "\n",
    "class empty:\n",
    "    def __getattr__(self, attr):\n",
    "        if attr == 'age':\n",
    "            return print(40)\n",
    "        else:\n",
    "            raise AttributeError\n",
    "            "
   ]
  },
  {
   "cell_type": "code",
   "execution_count": null,
   "metadata": {},
   "outputs": [],
   "source": [
    "X = empty()\n",
    "X.age   #age becomes a dynamically computed attribute\n",
    "X.name  #raises attribute error"
   ]
  },
  {
   "cell_type": "code",
   "execution_count": null,
   "metadata": {},
   "outputs": [],
   "source": []
  },
  {
   "cell_type": "markdown",
   "metadata": {},
   "source": [
    "#### Emulating privacy for instance attributes"
   ]
  },
  {
   "cell_type": "code",
   "execution_count": null,
   "metadata": {},
   "outputs": [],
   "source": [
    "class PrivateExc(Exception): pass #exceptions later\n",
    "\n",
    "class Privacy:\n",
    "    def __setattr__(self, __name: str, __value: int) -> None:\n",
    "        if __name in self.privates:\n",
    "            raise PrivateExc(__name, self)\n",
    "        else:\n",
    "            self.__dict__[__name] = __value\n",
    "\n",
    "class Test1(Privacy):\n",
    "    privates = ['age']\n",
    "\n",
    "class Test2(Privacy):\n",
    "    privates = ['name', 'pay']\n",
    "    def __init__(self) -> None:\n",
    "        self.__dict__['name'] = \"Tom\""
   ]
  },
  {
   "cell_type": "code",
   "execution_count": null,
   "metadata": {},
   "outputs": [],
   "source": [
    "x = Test1()\n",
    "y = Test2()"
   ]
  },
  {
   "cell_type": "code",
   "execution_count": null,
   "metadata": {},
   "outputs": [],
   "source": [
    "x.name = 'Bob'\n",
    "y.name = 'Sue'  #raises error because for test2 instance name and pay are in private list"
   ]
  },
  {
   "cell_type": "code",
   "execution_count": null,
   "metadata": {},
   "outputs": [],
   "source": [
    "#x.age = 30   #for test1 instance age is in private list\n",
    "y.age = 40"
   ]
  },
  {
   "cell_type": "markdown",
   "metadata": {},
   "source": [
    "#### Sring Representation `__repr__ and __str__`"
   ]
  },
  {
   "cell_type": "code",
   "execution_count": 29,
   "metadata": {},
   "outputs": [
    {
     "data": {
      "text/plain": [
       "1"
      ]
     },
     "execution_count": 29,
     "metadata": {},
     "output_type": "execute_result"
    }
   ],
   "source": [
    "class adder:\n",
    "    def __init__(self, value=0):\n",
    "        self.data = value\n",
    "    def __add__(self, other):\n",
    "        self.data += other\n",
    "\n",
    "x = adder()\n",
    "x + 1\n",
    "x.data"
   ]
  },
  {
   "cell_type": "code",
   "execution_count": 40,
   "metadata": {},
   "outputs": [],
   "source": [
    "#by coding addrepr\n",
    "\n",
    "class addrepr(adder):                       #inherit init and add\n",
    "    def __repr__(self):                     #add string represenstation\n",
    "        return 'addrepr(%s)' % self.data    #Convert to as-code string"
   ]
  },
  {
   "cell_type": "code",
   "execution_count": 41,
   "metadata": {},
   "outputs": [
    {
     "data": {
      "text/plain": [
       "addrepr(3)"
      ]
     },
     "execution_count": 41,
     "metadata": {},
     "output_type": "execute_result"
    }
   ],
   "source": [
    "x = addrepr(2)      #Runs __init__\n",
    "x                   #Runs __repr__\n",
    "x + 1               #Runs __add__\n",
    "x                   #runs __repr__"
   ]
  },
  {
   "cell_type": "code",
   "execution_count": 39,
   "metadata": {},
   "outputs": [
    {
     "data": {
      "text/plain": [
       "('addrepr(3)', 'addrepr(0)')"
      ]
     },
     "execution_count": 39,
     "metadata": {},
     "output_type": "execute_result"
    }
   ],
   "source": [
    "str(x), repr(addrepr())"
   ]
  },
  {
   "cell_type": "code",
   "execution_count": 46,
   "metadata": {},
   "outputs": [],
   "source": [
    "#what happens if we use str only\n",
    "\n",
    "class addstr(adder):\n",
    "    def __str__(self):\n",
    "        return 'Value: %s' %self.data\n",
    "        "
   ]
  },
  {
   "cell_type": "code",
   "execution_count": 50,
   "metadata": {},
   "outputs": [
    {
     "name": "stdout",
     "output_type": "stream",
     "text": [
      "Value: 3\n",
      "Value: 4\n"
     ]
    },
    {
     "data": {
      "text/plain": [
       "('Value: 4', '<__main__.addstr object at 0x7fce08126320>')"
      ]
     },
     "execution_count": 50,
     "metadata": {},
     "output_type": "execute_result"
    }
   ],
   "source": [
    "x = addstr(3)\n",
    "x    #shows object\n",
    "print(x)    #runs the str function\n",
    "x  +1\n",
    "print(x)\n",
    "str(x), repr(x)"
   ]
  },
  {
   "cell_type": "code",
   "execution_count": 51,
   "metadata": {},
   "outputs": [],
   "source": [
    "#__repr__ and __str__ in one function\n",
    "\n",
    "class addboth(adder):\n",
    "    def __str__(self):\n",
    "        return '__str__ at play %s' %self.data\n",
    "    def __repr__(self):\n",
    "        return '__repr__ at play %s' %self.data"
   ]
  },
  {
   "cell_type": "code",
   "execution_count": 55,
   "metadata": {},
   "outputs": [
    {
     "name": "stdout",
     "output_type": "stream",
     "text": [
      "__str__ at play 0\n"
     ]
    },
    {
     "data": {
      "text/plain": [
       "(None, __repr__ at play 0)"
      ]
     },
     "execution_count": 55,
     "metadata": {},
     "output_type": "execute_result"
    }
   ],
   "source": [
    "x = addboth()\n",
    "print(x), x   "
   ]
  },
  {
   "cell_type": "code",
   "execution_count": 59,
   "metadata": {},
   "outputs": [
    {
     "name": "stdout",
     "output_type": "stream",
     "text": [
      "__str__ at play 3\n"
     ]
    },
    {
     "data": {
      "text/plain": [
       "(__repr__ at play 3, None)"
      ]
     },
     "execution_count": 59,
     "metadata": {},
     "output_type": "execute_result"
    }
   ],
   "source": [
    "x + 1\n",
    "x, print(x)"
   ]
  },
  {
   "cell_type": "code",
   "execution_count": 60,
   "metadata": {},
   "outputs": [],
   "source": [
    "#Following illustrates both of these points\n",
    "\n",
    "class printer:\n",
    "    def __init__(self, value):\n",
    "        self.val = value\n",
    "    def __str__(self):\n",
    "        return str(self.val)   #convert to string"
   ]
  },
  {
   "cell_type": "code",
   "execution_count": 61,
   "metadata": {},
   "outputs": [],
   "source": [
    "objs = (printer(2), printer(3))"
   ]
  },
  {
   "cell_type": "code",
   "execution_count": 62,
   "metadata": {},
   "outputs": [
    {
     "name": "stdout",
     "output_type": "stream",
     "text": [
      "2\n",
      "3\n"
     ]
    }
   ],
   "source": [
    "for x in objs:\n",
    "    print(x)  "
   ]
  },
  {
   "cell_type": "code",
   "execution_count": 63,
   "metadata": {},
   "outputs": [],
   "source": [
    "class printer:\n",
    "    def __init__(self, value):\n",
    "        self.val = value\n",
    "    def __repr__(self):\n",
    "        return str(self.val)"
   ]
  },
  {
   "cell_type": "code",
   "execution_count": 65,
   "metadata": {},
   "outputs": [
    {
     "name": "stdout",
     "output_type": "stream",
     "text": [
      "2\n",
      "3\n"
     ]
    }
   ],
   "source": [
    "for x in objs:\n",
    "    print(x)"
   ]
  },
  {
   "cell_type": "markdown",
   "metadata": {},
   "source": [
    "#### Right side and inplace addition: `__radd__ and __iadd__`\n",
    "\n",
    "##### Because default `__add__` doesnt allow instance objects to the right side of the + sign"
   ]
  },
  {
   "cell_type": "code",
   "execution_count": 70,
   "metadata": {},
   "outputs": [],
   "source": [
    "class Commuter:\n",
    "    def __init__(self, val):\n",
    "        self.val = val\n",
    "    def __add__(self, other):\n",
    "        print('__add__')\n",
    "        return self.val + other\n",
    "    def __radd__(self, other):\n",
    "        print('__radd__')\n",
    "        print('radd', self.val, other)\n",
    "        return other + self.val"
   ]
  },
  {
   "cell_type": "code",
   "execution_count": 74,
   "metadata": {},
   "outputs": [
    {
     "name": "stdout",
     "output_type": "stream",
     "text": [
      "__add__\n"
     ]
    },
    {
     "data": {
      "text/plain": [
       "13"
      ]
     },
     "execution_count": 74,
     "metadata": {},
     "output_type": "execute_result"
    }
   ],
   "source": [
    "x = Commuter(12)\n",
    "x + 1    #__add__ at play"
   ]
  },
  {
   "cell_type": "code",
   "execution_count": 75,
   "metadata": {},
   "outputs": [
    {
     "name": "stdout",
     "output_type": "stream",
     "text": [
      "__radd__\n",
      "radd 12 22\n"
     ]
    },
    {
     "data": {
      "text/plain": [
       "34"
      ]
     },
     "execution_count": 75,
     "metadata": {},
     "output_type": "execute_result"
    }
   ],
   "source": [
    "22 + x #__radd__ at play"
   ]
  },
  {
   "cell_type": "code",
   "execution_count": null,
   "metadata": {},
   "outputs": [],
   "source": []
  }
 ],
 "metadata": {
  "kernelspec": {
   "display_name": "Python 3.10.4 ('arka')",
   "language": "python",
   "name": "python3"
  },
  "language_info": {
   "codemirror_mode": {
    "name": "ipython",
    "version": 3
   },
   "file_extension": ".py",
   "mimetype": "text/x-python",
   "name": "python",
   "nbconvert_exporter": "python",
   "pygments_lexer": "ipython3",
   "version": "3.10.4"
  },
  "orig_nbformat": 4,
  "vscode": {
   "interpreter": {
    "hash": "fa46da6b9307ef350aad613908c1591a068b15a96db2be16e9d9e053b74e28ee"
   }
  }
 },
 "nbformat": 4,
 "nbformat_minor": 2
}

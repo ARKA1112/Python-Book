{
 "cells": [
  {
   "cell_type": "markdown",
   "metadata": {},
   "source": [
    "##### Constructors and Expressions: __init__ and __sub__"
   ]
  },
  {
   "cell_type": "code",
   "execution_count": null,
   "metadata": {},
   "outputs": [],
   "source": [
    "class Number:\n",
    "    def __init__(self,num):\n",
    "        self.num = num\n",
    "    def __sub__(self,other):\n",
    "        return(Number(self.num - other))"
   ]
  },
  {
   "cell_type": "code",
   "execution_count": null,
   "metadata": {},
   "outputs": [],
   "source": [
    "X = Number(5)\n",
    "Y = X - 2\n",
    "Y.num"
   ]
  },
  {
   "cell_type": "markdown",
   "metadata": {},
   "source": [
    "![](Screenshot%20from%202022-09-30%2015-29-00.png)"
   ]
  },
  {
   "cell_type": "markdown",
   "metadata": {},
   "source": [
    "#### Indexing and Slicing:__getitem__and__setitem__"
   ]
  },
  {
   "cell_type": "code",
   "execution_count": null,
   "metadata": {},
   "outputs": [],
   "source": [
    "class Indexer:\n",
    "    def __getitem__(self,index):\n",
    "        return index ** 2\n",
    "\n",
    "X = Indexer()\n",
    "X[19]\n",
    "\n",
    "for i in range(5):       #this uses the __getitem__ builtin function to return the i\n",
    "    print(i,end=',')"
   ]
  },
  {
   "cell_type": "code",
   "execution_count": null,
   "metadata": {},
   "outputs": [],
   "source": [
    "L = [5,6,7,8,9]\n",
    "L[1:4]     #slicing the index\n",
    "L[1:]\n",
    "print(L[:-1])     #omits the last element   \n",
    "L[::2]   #returns at interval of 2"
   ]
  },
  {
   "cell_type": "code",
   "execution_count": null,
   "metadata": {},
   "outputs": [],
   "source": [
    "L[slice(2,4)]   #using slice option\n"
   ]
  },
  {
   "cell_type": "code",
   "execution_count": null,
   "metadata": {},
   "outputs": [],
   "source": [
    "from xmlrpc.server import list_public_methods\n",
    "\n",
    "\n",
    "print(L[slice(1,None)])\n",
    "print(L[slice(None, -1)])\n",
    "print(L[slice(None, None, -1)])"
   ]
  },
  {
   "cell_type": "markdown",
   "metadata": {},
   "source": [
    "#### __getitem__ adds indexing option to the class"
   ]
  },
  {
   "cell_type": "code",
   "execution_count": null,
   "metadata": {},
   "outputs": [],
   "source": [
    "#slicing using getitem\n",
    "\n",
    "class Indexer:\n",
    "    data = L\n",
    "    def __getitem__(self, index):\n",
    "        print('getitem: ', index)\n",
    "        return self.data[index]\n",
    "\n",
    "X = Indexer()\n",
    "X[1]\n",
    "X[1:None]\n",
    "X[::-2]      #slicing sends getitem a slicing object"
   ]
  },
  {
   "cell_type": "code",
   "execution_count": null,
   "metadata": {},
   "outputs": [],
   "source": [
    "#Declaring a string from A to Z using chr option\n",
    "\n",
    "L = [chr(i) for i in range(65,91)]\n",
    "B = ''.join(L)"
   ]
  },
  {
   "cell_type": "code",
   "execution_count": null,
   "metadata": {},
   "outputs": [],
   "source": [
    "#more examples\n",
    "\n",
    "class Stepper:\n",
    "    def __getitem__(self, i):\n",
    "        return self.data[i]\n",
    "\n",
    "X = Stepper()\n",
    "\n",
    "X.data = L\n",
    "for i in X.data:\n",
    "    print(i)"
   ]
  },
  {
   "cell_type": "code",
   "execution_count": null,
   "metadata": {},
   "outputs": [],
   "source": [
    "for item in L:\n",
    "    print(item, end=',')"
   ]
  },
  {
   "cell_type": "code",
   "execution_count": null,
   "metadata": {},
   "outputs": [],
   "source": [
    "'L' in B\n",
    "[c for c in B]\n",
    "list(map(ord,L))    #remember map is an iterable object\n",
    "B, L"
   ]
  },
  {
   "cell_type": "markdown",
   "metadata": {},
   "source": [
    "#### User defined iterators"
   ]
  },
  {
   "cell_type": "code",
   "execution_count": null,
   "metadata": {},
   "outputs": [],
   "source": [
    "class Squares:\n",
    "    def __init__(self, start, stop):\n",
    "        self.value = start - 1\n",
    "        self.stop = stop              #attributes assigned\n",
    "    def __iter__(self):\n",
    "        return self\n",
    "    def __next__(self):\n",
    "        if self.value == self.stop:\n",
    "            raise StopIteration\n",
    "        self.value += 1\n",
    "        return self.value ** 2"
   ]
  },
  {
   "cell_type": "code",
   "execution_count": null,
   "metadata": {},
   "outputs": [],
   "source": [
    "x = Squares(1,3)\n",
    "for i in x:\n",
    "    print(i, end=' ')"
   ]
  },
  {
   "cell_type": "code",
   "execution_count": null,
   "metadata": {},
   "outputs": [],
   "source": [
    "x = Squares(1, 6)\n",
    "I = iter(x)\n",
    "next(I), next(I), next(I), next(I)\n"
   ]
  },
  {
   "cell_type": "code",
   "execution_count": null,
   "metadata": {},
   "outputs": [],
   "source": [
    "#same using function\n",
    "\n",
    "def gsquares(start, stop):\n",
    "    for i in range(start,stop+1):\n",
    "        yield i ** 2\n",
    "\n",
    "for i in gsquares(1, 5):\n",
    "    print(i, end = ' ')"
   ]
  },
  {
   "cell_type": "markdown",
   "metadata": {},
   "source": [
    "#### Multiple iterators on one object"
   ]
  },
  {
   "cell_type": "code",
   "execution_count": null,
   "metadata": {},
   "outputs": [],
   "source": [
    "S = 'ace'\n",
    "for x in S:\n",
    "    for y in S:\n",
    "        print(x + y, end = ' ')   #iterates over for each element"
   ]
  },
  {
   "cell_type": "code",
   "execution_count": null,
   "metadata": {},
   "outputs": [],
   "source": [
    "class Skipiterator:\n",
    "    def __init__(self,wrapped):\n",
    "        self.wrapped = wrapped\n",
    "        self.offset  = 0\n",
    "    def __next__(self):\n",
    "        if self.offset >= len(self.wrapped):\n",
    "            raise StopIteration\n",
    "        else:\n",
    "            item = self.wrapped[self.offset]\n",
    "            self.offset += 2\n",
    "            return item\n",
    "\n",
    "class SkipObject:\n",
    "    def __init__(self, wrapped):\n",
    "        self.wrapped = wrapped\n",
    "    def __iter__(self):\n",
    "        return Skipiterator(self.wrapped)\n",
    "\n",
    "if __name__ == '__main__':\n",
    "    alpha = 'abcdef'\n",
    "    skipper = SkipObject(alpha)\n",
    "    I = iter(skipper)\n",
    "    print(next(I), next(I), next(I))\n",
    "\n",
    "\n",
    "    for x in skipper:\n",
    "        for y in skipper:\n",
    "            print(x + y, end = '')"
   ]
  },
  {
   "cell_type": "code",
   "execution_count": null,
   "metadata": {},
   "outputs": [],
   "source": [
    "for x in alpha[::3]:\n",
    "    for y in alpha[::3]:\n",
    "        print(x+y, end=' ')"
   ]
  },
  {
   "cell_type": "markdown",
   "metadata": {},
   "source": [
    "#### Membership: __contains__,__iter__,and __getitem__"
   ]
  },
  {
   "cell_type": "code",
   "execution_count": null,
   "metadata": {},
   "outputs": [],
   "source": [
    "class Iters:\n",
    "    def __init__(self, value):\n",
    "        self.data = value\n",
    "    def __getitem(self,i):\n",
    "        print('get[%s]:' %i, end='')\n",
    "        return self.data[i]\n",
    "    def __iter__(self):\n",
    "        print('iter=> ', end = '')\n",
    "        self.ix = 0\n",
    "        return self\n",
    "    def __next__(self):\n",
    "        print('next: ', end='')\n",
    "        if self.ix == len(self.data): raise StopIteration\n",
    "        item = self.data[self.ix]\n",
    "        self.ix += 1\n",
    "        return item\n",
    "    def __contains__(self,x):\n",
    "        print('contains: ', end = ' ')\n",
    "        return x in self.data"
   ]
  },
  {
   "cell_type": "code",
   "execution_count": null,
   "metadata": {},
   "outputs": [],
   "source": [
    "X = Iters([1, 2, 3, 4, 5])  #declaring the class\n",
    "print(3 in X)               #using the contains operation\n",
    "for i in X:\n",
    "    print(i, end = ' | ')   #triggers the __next__ operation\n",
    "\n",
    "print()\n",
    "print([i ** 2 for i in X])\n",
    "print(list(map(bin, X)))\n",
    "\n",
    "I = iter(X)\n",
    "while True:\n",
    "    try:\n",
    "        print(next(I), end = ' @ ')\n",
    "    except StopIteration:\n",
    "        break"
   ]
  },
  {
   "cell_type": "code",
   "execution_count": null,
   "metadata": {},
   "outputs": [],
   "source": [
    "#slice expressions trigger __getitem__\n",
    "\n",
    "X = Iters('spam')\n",
    "X.data[1]     #triggers __getitem__\n"
   ]
  },
  {
   "cell_type": "markdown",
   "metadata": {},
   "source": [
    "#### Attribute reference: `__getattr__ and __setattr__`"
   ]
  },
  {
   "cell_type": "code",
   "execution_count": null,
   "metadata": {},
   "outputs": [],
   "source": [
    "\n",
    "#this happens if use __init__\n",
    "class empty:\n",
    "    def __init__(self, attribute):\n",
    "        self.attribute = attribute\n",
    "        if self.attribute == 'age':\n",
    "            return print(4)\n",
    "        else:\n",
    "            raise AttributeError"
   ]
  },
  {
   "cell_type": "code",
   "execution_count": null,
   "metadata": {},
   "outputs": [],
   "source": [
    "x = empty('age')"
   ]
  },
  {
   "cell_type": "code",
   "execution_count": null,
   "metadata": {},
   "outputs": [],
   "source": [
    "#if we use getattr\n",
    "\n",
    "class empty:\n",
    "    def __getattr__(self, attr):\n",
    "        if attr == 'age':\n",
    "            return print(40)\n",
    "        else:\n",
    "            raise AttributeError\n",
    "            "
   ]
  },
  {
   "cell_type": "code",
   "execution_count": null,
   "metadata": {},
   "outputs": [],
   "source": [
    "X = empty()\n",
    "X.age   #age becomes a dynamically computed attribute\n",
    "X.name  #raises attribute error"
   ]
  },
  {
   "cell_type": "code",
   "execution_count": null,
   "metadata": {},
   "outputs": [],
   "source": []
  },
  {
   "cell_type": "markdown",
   "metadata": {},
   "source": [
    "#### Emulating privacy for instance attributes"
   ]
  },
  {
   "cell_type": "code",
   "execution_count": null,
   "metadata": {},
   "outputs": [],
   "source": [
    "class PrivateExc(Exception): pass #exceptions later\n",
    "\n",
    "class Privacy:\n",
    "    def __setattr__(self, __name: str, __value: int) -> None:\n",
    "        if __name in self.privates:\n",
    "            raise PrivateExc(__name, self)\n",
    "        else:\n",
    "            self.__dict__[__name] = __value\n",
    "\n",
    "class Test1(Privacy):\n",
    "    privates = ['age']\n",
    "\n",
    "class Test2(Privacy):\n",
    "    privates = ['name', 'pay']\n",
    "    def __init__(self) -> None:\n",
    "        self.__dict__['name'] = \"Tom\""
   ]
  },
  {
   "cell_type": "code",
   "execution_count": null,
   "metadata": {},
   "outputs": [],
   "source": [
    "x = Test1()\n",
    "y = Test2()"
   ]
  },
  {
   "cell_type": "code",
   "execution_count": null,
   "metadata": {},
   "outputs": [],
   "source": [
    "x.name = 'Bob'\n",
    "y.name = 'Sue'  #raises error because for test2 instance name and pay are in private list"
   ]
  },
  {
   "cell_type": "code",
   "execution_count": null,
   "metadata": {},
   "outputs": [],
   "source": [
    "#x.age = 30   #for test1 instance age is in private list\n",
    "y.age = 40"
   ]
  },
  {
   "cell_type": "markdown",
   "metadata": {},
   "source": [
    "#### Sring Representation `__repr__ and __str__`"
   ]
  },
  {
   "cell_type": "code",
   "execution_count": null,
   "metadata": {},
   "outputs": [],
   "source": [
    "class adder:\n",
    "    def __init__(self, value=0):\n",
    "        self.data = value\n",
    "    def __add__(self, other):\n",
    "        self.data += other\n",
    "\n",
    "x = adder()\n",
    "x + 1\n",
    "x.data"
   ]
  },
  {
   "cell_type": "code",
   "execution_count": null,
   "metadata": {},
   "outputs": [],
   "source": [
    "#by coding addrepr\n",
    "\n",
    "class addrepr(adder):                       #inherit init and add\n",
    "    def __repr__(self):                     #add string represenstation\n",
    "        return 'addrepr(%s)' % self.data    #Convert to as-code string"
   ]
  },
  {
   "cell_type": "code",
   "execution_count": null,
   "metadata": {},
   "outputs": [],
   "source": [
    "x = addrepr(2)      #Runs __init__\n",
    "x                   #Runs __repr__\n",
    "x + 1               #Runs __add__\n",
    "x                   #runs __repr__"
   ]
  },
  {
   "cell_type": "code",
   "execution_count": null,
   "metadata": {},
   "outputs": [],
   "source": [
    "str(x), repr(addrepr())"
   ]
  },
  {
   "cell_type": "code",
   "execution_count": null,
   "metadata": {},
   "outputs": [],
   "source": [
    "#what happens if we use str only\n",
    "\n",
    "class addstr(adder):\n",
    "    def __str__(self):\n",
    "        return 'Value: %s' %self.data\n",
    "        "
   ]
  },
  {
   "cell_type": "code",
   "execution_count": null,
   "metadata": {},
   "outputs": [],
   "source": [
    "x = addstr(3)\n",
    "x    #shows object\n",
    "print(x)    #runs the str function\n",
    "x  +1\n",
    "print(x)\n",
    "str(x), repr(x)"
   ]
  },
  {
   "cell_type": "code",
   "execution_count": null,
   "metadata": {},
   "outputs": [],
   "source": [
    "#__repr__ and __str__ in one function\n",
    "\n",
    "class addboth(adder):\n",
    "    def __str__(self):\n",
    "        return '__str__ at play %s' %self.data\n",
    "    def __repr__(self):\n",
    "        return '__repr__ at play %s' %self.data"
   ]
  },
  {
   "cell_type": "code",
   "execution_count": null,
   "metadata": {},
   "outputs": [],
   "source": [
    "x = addboth()\n",
    "print(x), x   "
   ]
  },
  {
   "cell_type": "code",
   "execution_count": null,
   "metadata": {},
   "outputs": [],
   "source": [
    "x + 1\n",
    "x, print(x)"
   ]
  },
  {
   "cell_type": "code",
   "execution_count": null,
   "metadata": {},
   "outputs": [],
   "source": [
    "#Following illustrates both of these points\n",
    "\n",
    "class printer:\n",
    "    def __init__(self, value):\n",
    "        self.val = value\n",
    "    def __str__(self):\n",
    "        return str(self.val)   #convert to string"
   ]
  },
  {
   "cell_type": "code",
   "execution_count": null,
   "metadata": {},
   "outputs": [],
   "source": [
    "objs = (printer(2), printer(3))"
   ]
  },
  {
   "cell_type": "code",
   "execution_count": null,
   "metadata": {},
   "outputs": [],
   "source": [
    "for x in objs:\n",
    "    print(x)  "
   ]
  },
  {
   "cell_type": "code",
   "execution_count": null,
   "metadata": {},
   "outputs": [],
   "source": [
    "class printer:\n",
    "    def __init__(self, value):\n",
    "        self.val = value\n",
    "    def __repr__(self):\n",
    "        return str(self.val)"
   ]
  },
  {
   "cell_type": "code",
   "execution_count": null,
   "metadata": {},
   "outputs": [],
   "source": [
    "for x in objs:\n",
    "    print(x)"
   ]
  },
  {
   "cell_type": "markdown",
   "metadata": {},
   "source": [
    "#### Right side and inplace addition: `__radd__ and __iadd__`\n",
    "\n",
    "##### Because default `__add__` doesnt allow instance objects to the right side of the + sign"
   ]
  },
  {
   "cell_type": "code",
   "execution_count": null,
   "metadata": {},
   "outputs": [],
   "source": [
    "class Commuter:\n",
    "    def __init__(self, val):\n",
    "        self.val = val\n",
    "    def __add__(self, other):\n",
    "        print('__add__')\n",
    "        return self.val + other\n",
    "    def __radd__(self, other):\n",
    "        print('__radd__')\n",
    "        print('radd', self.val, other)\n",
    "        return other + self.val"
   ]
  },
  {
   "cell_type": "code",
   "execution_count": null,
   "metadata": {},
   "outputs": [],
   "source": [
    "x = Commuter(12)\n",
    "x + 1    #__add__ at play"
   ]
  },
  {
   "cell_type": "code",
   "execution_count": null,
   "metadata": {},
   "outputs": [],
   "source": [
    "22 + x #__radd__ at play"
   ]
  },
  {
   "cell_type": "code",
   "execution_count": null,
   "metadata": {},
   "outputs": [],
   "source": [
    "class Commuter:\n",
    "    def __init__(self, value):\n",
    "        self.val = value\n",
    "    def __add__(self, other):\n",
    "        if isinstance(other, Commuter):\n",
    "            other = other.val\n",
    "        return Commuter(self.val + other) \n",
    "    def __radd__(self, other):\n",
    "        return Commuter(other + self.val)\n",
    "    def __str__(self):\n",
    "        return '<commuter: %s>' % self.val"
   ]
  },
  {
   "cell_type": "code",
   "execution_count": null,
   "metadata": {},
   "outputs": [],
   "source": [
    "x = Commuter(88)\n",
    "y = Commuter(99)\n",
    "print(x + 10)         #Result is another Commuter instance"
   ]
  },
  {
   "cell_type": "code",
   "execution_count": null,
   "metadata": {},
   "outputs": [],
   "source": [
    "print(y + 10)"
   ]
  },
  {
   "cell_type": "code",
   "execution_count": null,
   "metadata": {},
   "outputs": [],
   "source": [
    "z = x + y     #z is also another instance #not nested and doesnt recur to __radd__\n",
    "print(z)   "
   ]
  },
  {
   "cell_type": "markdown",
   "metadata": {},
   "source": [
    "#### In place addition"
   ]
  },
  {
   "cell_type": "code",
   "execution_count": null,
   "metadata": {},
   "outputs": [],
   "source": [
    "#for += operation\n",
    "\n",
    "class Number:\n",
    "    def __init__(self, val):\n",
    "        self.val = val\n",
    "    def __iadd__(self,other):      #__iadd__ explicit: x+y\n",
    "        self.val += other          # Usually return self\n",
    "        return self\n",
    "    def __repr__(self):\n",
    "        print('__repr__')\n",
    "        return '%s' %self.val\n",
    "    def __str__(self):\n",
    "        return '__str__ %s' %self.val"
   ]
  },
  {
   "cell_type": "code",
   "execution_count": null,
   "metadata": {},
   "outputs": [],
   "source": [
    "x = Number(9)\n",
    "x"
   ]
  },
  {
   "cell_type": "markdown",
   "metadata": {},
   "source": [
    "#### Can also be done using default `__add__` option"
   ]
  },
  {
   "cell_type": "code",
   "execution_count": null,
   "metadata": {},
   "outputs": [],
   "source": [
    "class Number:\n",
    "    def __init__(self, val):\n",
    "        self.val = val\n",
    "    def __add__(self, other):\n",
    "        self.val += other\n",
    "        return self\n",
    "    def __repr__(self):\n",
    "        return '__repr__ %s' % self.val"
   ]
  },
  {
   "cell_type": "code",
   "execution_count": null,
   "metadata": {},
   "outputs": [],
   "source": [
    "x = Number(9)\n",
    "x += 1\n",
    "x.val"
   ]
  },
  {
   "cell_type": "markdown",
   "metadata": {},
   "source": [
    "#### Call Expressions: `__call__`"
   ]
  },
  {
   "cell_type": "code",
   "execution_count": null,
   "metadata": {},
   "outputs": [],
   "source": [
    "#The call method is called whenour instance is called."
   ]
  },
  {
   "cell_type": "code",
   "execution_count": null,
   "metadata": {},
   "outputs": [],
   "source": [
    "class Callee:\n",
    "    def __call__(self, *args, **kwargs):\n",
    "        print('Called: ', args, kwargs)\n",
    "\n",
    "x = Callee()\n",
    "x(1,2,3, a=2, b=3)"
   ]
  },
  {
   "cell_type": "code",
   "execution_count": null,
   "metadata": {},
   "outputs": [],
   "source": [
    "#call function\n",
    "class Callee:\n",
    "    def __init__(self, value):\n",
    "       self.value = value\n",
    "    def __call__(self, other):\n",
    "        return self.value * other\n",
    "\n",
    "x = Callee(2)\n",
    "x(3)"
   ]
  },
  {
   "cell_type": "code",
   "execution_count": null,
   "metadata": {},
   "outputs": [],
   "source": [
    "#call function in another way\n",
    "\n",
    "class Callee:\n",
    "    def __init__(self, value):\n",
    "        self.value = value\n",
    "    def calla(self, other):\n",
    "        self.other = other\n",
    "        return self.value * self.other"
   ]
  },
  {
   "cell_type": "code",
   "execution_count": null,
   "metadata": {},
   "outputs": [],
   "source": [
    "x = Callee(2)\n",
    "#x(2)  cannot call directly, the function calla must be invoked\n",
    "\n",
    "x.calla(3)  #works as calla"
   ]
  },
  {
   "cell_type": "code",
   "execution_count": null,
   "metadata": {},
   "outputs": [],
   "source": [
    "\n",
    "from tkinter import Button"
   ]
  },
  {
   "cell_type": "code",
   "execution_count": null,
   "metadata": {},
   "outputs": [],
   "source": [
    "\n",
    "#defining a function to change colors when button is pressed\n",
    "class CallBack:\n",
    "    def __init__(self, color):\n",
    "        self.color = color\n",
    "    def __call__(self):\n",
    "        print('turn',self.color)\n",
    "\n",
    "#introducing instances\n",
    "\n",
    "cb1 = CallBack('blue')\n",
    "cb2 = CallBack('red')\n",
    "\n",
    "B1 = Button(command=cb1)    #register handlers\n",
    "B2 = Button(command=cb2)    #register handlers"
   ]
  },
  {
   "cell_type": "code",
   "execution_count": null,
   "metadata": {},
   "outputs": [],
   "source": [
    "cb1(),cb2() #passed command when executed"
   ]
  },
  {
   "cell_type": "code",
   "execution_count": null,
   "metadata": {},
   "outputs": [],
   "source": [
    "#other way to define cb function\n",
    "\n",
    "cb3 = (lambda color = 'grey': print('turn ',color))"
   ]
  },
  {
   "cell_type": "code",
   "execution_count": null,
   "metadata": {},
   "outputs": [],
   "source": [
    "cb3()"
   ]
  },
  {
   "cell_type": "code",
   "execution_count": null,
   "metadata": {},
   "outputs": [],
   "source": [
    "#same function without using call function\n",
    "class CallBack:\n",
    "    def __init__(self, color):\n",
    "        self.color = color\n",
    "    def changer(self):\n",
    "        print('turn '+ self.color)"
   ]
  },
  {
   "cell_type": "code",
   "execution_count": null,
   "metadata": {},
   "outputs": [],
   "source": [
    "x = CallBack('grey')\n",
    "x.changer()"
   ]
  },
  {
   "cell_type": "code",
   "execution_count": null,
   "metadata": {},
   "outputs": [],
   "source": [
    "#in that case the commands will change accordingly\n",
    "\n",
    "cb1 = CallBack('grey')\n",
    "cb2 = CallBack('black')\n",
    "\n",
    "B1 = Button(command=cb1.changer)\n",
    "B2 = Button(command=cb2.changer)\n",
    "\n",
    "object = CallBack('Blue')\n",
    "cb = object.changer\n",
    "cb()"
   ]
  },
  {
   "cell_type": "markdown",
   "metadata": {},
   "source": [
    "#### `__lt__` and `__gt__` operation"
   ]
  },
  {
   "cell_type": "code",
   "execution_count": null,
   "metadata": {},
   "outputs": [],
   "source": [
    "class C:\n",
    "    data = 'spam'\n",
    "    def __gt__(self, other):\n",
    "        return self.data > other\n",
    "    def __lt__(self, other):\n",
    "        return self.data < other"
   ]
  },
  {
   "cell_type": "code",
   "execution_count": null,
   "metadata": {},
   "outputs": [],
   "source": [
    "\n",
    "X = C()\n",
    "print(X > 'ham')   #runs __gt__\n",
    "print(X < 'ham')   #runs __lt__"
   ]
  },
  {
   "cell_type": "markdown",
   "metadata": {},
   "source": [
    "#### Boolean tests `__bool__` and `__len__`"
   ]
  },
  {
   "cell_type": "code",
   "execution_count": null,
   "metadata": {},
   "outputs": [],
   "source": [
    "class Truth:\n",
    "    def __bool__(self): return True\n",
    "\n",
    "x = Truth()\n",
    "if x: print('yes')"
   ]
  },
  {
   "cell_type": "code",
   "execution_count": null,
   "metadata": {},
   "outputs": [],
   "source": [
    "#or\n",
    "bool(x)"
   ]
  },
  {
   "cell_type": "code",
   "execution_count": null,
   "metadata": {},
   "outputs": [],
   "source": [
    "#ig this class is missing python falls back on length bcos a nonempty object is considered true\n",
    "\n",
    "class Truth:\n",
    "    def __len__(self):\n",
    "        return 0\n",
    "\n",
    "x = Truth()\n",
    "bool(x)"
   ]
  },
  {
   "cell_type": "markdown",
   "metadata": {},
   "source": [
    "#### Object Destruction __del__\n"
   ]
  },
  {
   "cell_type": "code",
   "execution_count": null,
   "metadata": {},
   "outputs": [],
   "source": [
    "class Life:\n",
    "    def __init__(self, name='unknown'):\n",
    "        print('Hello', name)\n",
    "        self.name = name\n",
    "    def __del__(self):\n",
    "        print('GoodBye', self.name)"
   ]
  },
  {
   "cell_type": "code",
   "execution_count": null,
   "metadata": {},
   "outputs": [],
   "source": [
    "brian = Life('Brian')"
   ]
  },
  {
   "cell_type": "code",
   "execution_count": null,
   "metadata": {},
   "outputs": [],
   "source": [
    "del(brian)"
   ]
  },
  {
   "cell_type": "markdown",
   "metadata": {},
   "source": [
    "#### Quiz"
   ]
  },
  {
   "cell_type": "code",
   "execution_count": 1,
   "metadata": {},
   "outputs": [],
   "source": [
    "#q1 __iter__ and __getitem__ , __iter__ generally follows __next__"
   ]
  },
  {
   "cell_type": "code",
   "execution_count": 2,
   "metadata": {},
   "outputs": [],
   "source": [
    "#2 __str__ and __repr__, called by print. __repr__ gives extra details or the object's as code form"
   ]
  },
  {
   "cell_type": "code",
   "execution_count": 3,
   "metadata": {},
   "outputs": [],
   "source": [
    "#3using __getitem__ or __getslice__ method"
   ]
  },
  {
   "cell_type": "code",
   "execution_count": 4,
   "metadata": {},
   "outputs": [],
   "source": [
    "#4 using __iadd__ or __radd__ methods"
   ]
  },
  {
   "cell_type": "code",
   "execution_count": 5,
   "metadata": {},
   "outputs": [],
   "source": [
    "#5 when a class naturally matches, or needs to emulate a built in types's interfaces. For example collection might imitate sequence or mapping interface. You generally shouldnt expression operatiors if they dont naturally map to your objects, though use normally named methods instead."
   ]
  },
  {
   "cell_type": "code",
   "execution_count": null,
   "metadata": {},
   "outputs": [],
   "source": []
  }
 ],
 "metadata": {
  "kernelspec": {
   "display_name": "Python 3.10.4 ('arka')",
   "language": "python",
   "name": "python3"
  },
  "language_info": {
   "codemirror_mode": {
    "name": "ipython",
    "version": 3
   },
   "file_extension": ".py",
   "mimetype": "text/x-python",
   "name": "python",
   "nbconvert_exporter": "python",
   "pygments_lexer": "ipython3",
   "version": "3.10.6"
  },
  "orig_nbformat": 4,
  "vscode": {
   "interpreter": {
    "hash": "fa46da6b9307ef350aad613908c1591a068b15a96db2be16e9d9e053b74e28ee"
   }
  }
 },
 "nbformat": 4,
 "nbformat_minor": 2
}

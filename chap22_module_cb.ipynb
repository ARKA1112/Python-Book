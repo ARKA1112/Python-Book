{
 "cells": [
  {
   "cell_type": "code",
   "execution_count": null,
   "id": "6a03b5a5-eb41-4dd2-be17-d08efc07c224",
   "metadata": {},
   "outputs": [],
   "source": [
    "import small"
   ]
  },
  {
   "cell_type": "code",
   "execution_count": null,
   "id": "4e48eccd-df86-4018-b986-736e2a42ceab",
   "metadata": {},
   "outputs": [],
   "source": [
    "small.y   #specifically adressing the attr in the python file\n",
    "#y         #y will not be defined"
   ]
  },
  {
   "cell_type": "markdown",
   "id": "e8fe02bb-adb2-453f-9448-82c905debee1",
   "metadata": {},
   "source": [
    "#however if we do this\n",
    "\n",
    "from small import x,y\n",
    "x,y\n",
    "x =1 \n",
    "x  #importing the attributes changes the global namespace\n",
    "#hence x is addressible globally\n",
    "\n",
    "#we can also define x and check if the value is changed\n",
    "x =2\n",
    "x    #x is changed, however this is not the same x as small.x\n",
    "\n",
    "#to check we will import small again\n",
    "\n",
    "from small import x,y\n",
    "x      #x resets back to 1\n",
    "\n",
    "#to change the value of x we can do the following\n",
    "small.x = 22"
   ]
  },
  {
   "cell_type": "code",
   "execution_count": null,
   "id": "a4711af2-9d34-4f1a-9ffb-0fcc9488ad62",
   "metadata": {},
   "outputs": [],
   "source": [
    "#check again\n",
    "from small import x,y\n",
    "print(x)  #value of x changed internally\n",
    "\n",
    "#but is limited to the fact\n",
    "#that as long it is not reloaded\n",
    "\n",
    "from importlib import reload\n",
    "reload(small)\n",
    "from small import x,y\n",
    "print(x) #value of the x changed to default"
   ]
  },
  {
   "cell_type": "markdown",
   "id": "bb20c2fc-149c-40da-93b2-8d5e6365cd26",
   "metadata": {},
   "source": [
    "#### Import and from name equivalence\n"
   ]
  },
  {
   "cell_type": "code",
   "execution_count": null,
   "id": "f97e04b6-b947-4429-88af-6d5571a630a6",
   "metadata": {},
   "outputs": [],
   "source": [
    "from small import x,y #is same as the following\n",
    "\n",
    "import small\n",
    "x = small.x\n",
    "y = small.y\n",
    "del small"
   ]
  },
  {
   "cell_type": "code",
   "execution_count": null,
   "id": "a6943dc6-aaa1-4d88-ae18-97770db702da",
   "metadata": {},
   "outputs": [],
   "source": [
    "x,y"
   ]
  },
  {
   "cell_type": "code",
   "execution_count": null,
   "id": "c45b2d42-2e6a-4411-84ec-35e3ab8a576b",
   "metadata": {},
   "outputs": [],
   "source": [
    "#import <modulename> is required\n",
    "#when different module names have the same attributes\n",
    "\n",
    "#for example\n",
    "#import a,b\n",
    "#a.func()\n",
    "#b.func() both have the func attribute\n",
    "#hence the need to import module a and b\n",
    "\n",
    "\n",
    "#however\n",
    "#if we do\n",
    "#from a import func\n",
    "#from b import func\n",
    "\n",
    "#then if we call func() it will be func() from the b module only\n",
    "\n"
   ]
  },
  {
   "cell_type": "code",
   "execution_count": null,
   "id": "bdcd711a-9b33-44b7-a4f3-bdb500b513dd",
   "metadata": {},
   "outputs": [],
   "source": [
    "#module attributes can be accessed by\n",
    "import small\n",
    "dir(small)\n",
    "#or\n",
    "small.__dict__"
   ]
  },
  {
   "cell_type": "code",
   "execution_count": null,
   "id": "b2237d8e-0484-4017-9560-676313a1c738",
   "metadata": {},
   "outputs": [],
   "source": []
  }
 ],
 "metadata": {
  "kernelspec": {
   "display_name": "Python 3.10.4 ('arka')",
   "language": "python",
   "name": "python3"
  },
  "language_info": {
   "codemirror_mode": {
    "name": "ipython",
    "version": 3
   },
   "file_extension": ".py",
   "mimetype": "text/x-python",
   "name": "python",
   "nbconvert_exporter": "python",
   "pygments_lexer": "ipython3",
   "version": "3.10.4"
  },
  "vscode": {
   "interpreter": {
    "hash": "fa46da6b9307ef350aad613908c1591a068b15a96db2be16e9d9e053b74e28ee"
   }
  }
 },
 "nbformat": 4,
 "nbformat_minor": 5
}

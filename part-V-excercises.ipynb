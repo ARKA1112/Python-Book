{
 "cells": [
  {
   "cell_type": "code",
   "execution_count": null,
   "metadata": {},
   "outputs": [],
   "source": [
    "#q1\n",
    "#wrote a module called mymod\n",
    "from pyfiles import mymod\n",
    "from importlib import reload\n",
    "\n",
    "\n",
    "reload(mymod)\n",
    "from pyfiles import mymod\n",
    "mymod\n",
    "mymod.countLines('script1.txt')\n",
    "mymod.countChars('script1.txt')"
   ]
  },
  {
   "cell_type": "code",
   "execution_count": null,
   "metadata": {},
   "outputs": [],
   "source": [
    "mymod.test('script1.txt')\n",
    "#this answers the first part of q1"
   ]
  },
  {
   "cell_type": "code",
   "execution_count": null,
   "metadata": {},
   "outputs": [],
   "source": [
    "#q2\n",
    "#Yes it does need to include in PYTHONPATH\n",
    "#importing the test and using it works\n",
    "\n",
    "from pyfiles.mymod import test\n",
    "test('script1.txt')\n",
    "\n",
    "#Testing the function on itself works\n",
    "test('pyfiles/mymod.py')"
   ]
  },
  {
   "cell_type": "code",
   "execution_count": null,
   "metadata": {},
   "outputs": [],
   "source": [
    "from pyfiles.mymod import *"
   ]
  },
  {
   "cell_type": "code",
   "execution_count": null,
   "metadata": {},
   "outputs": [],
   "source": [
    "test('script1.txt')"
   ]
  },
  {
   "cell_type": "code",
   "execution_count": null,
   "metadata": {},
   "outputs": [],
   "source": [
    "countChars('script1.txt'),countLines('script1.txt')"
   ]
  },
  {
   "cell_type": "code",
   "execution_count": null,
   "metadata": {},
   "outputs": [],
   "source": [
    "#q2 and q3 also done in the mymod already\n",
    "mymod.countLines.__doc__"
   ]
  },
  {
   "cell_type": "code",
   "execution_count": null,
   "metadata": {},
   "outputs": [],
   "source": [
    "from pyfiles import myclient\n",
    "#using the . notation in the myclient.py enables it to use the mymod module\n",
    "\n",
    "\n",
    "#but using the direct import statement in the myclient dosent work\n",
    "myclient.__dict__"
   ]
  },
  {
   "cell_type": "code",
   "execution_count": null,
   "metadata": {},
   "outputs": [],
   "source": [
    "from importlib import reload\n",
    "reload(myclient)"
   ]
  },
  {
   "cell_type": "code",
   "execution_count": null,
   "metadata": {},
   "outputs": [],
   "source": [
    "myclient.__dict__"
   ]
  },
  {
   "cell_type": "code",
   "execution_count": 1,
   "metadata": {},
   "outputs": [],
   "source": [
    "#q7 because in recur1 it imports any file named recur2 but it dosent execute it\n",
    "\n",
    "#same for the second case as it imports but dosent execute the code inside the module itself"
   ]
  },
  {
   "cell_type": "code",
   "execution_count": null,
   "metadata": {},
   "outputs": [],
   "source": [
    "#all questions answered"
   ]
  }
 ],
 "metadata": {
  "kernelspec": {
   "display_name": "Python 3.10.4 ('arka')",
   "language": "python",
   "name": "python3"
  },
  "language_info": {
   "codemirror_mode": {
    "name": "ipython",
    "version": 3
   },
   "file_extension": ".py",
   "mimetype": "text/x-python",
   "name": "python",
   "nbconvert_exporter": "python",
   "pygments_lexer": "ipython3",
   "version": "3.10.4"
  },
  "orig_nbformat": 4,
  "vscode": {
   "interpreter": {
    "hash": "fa46da6b9307ef350aad613908c1591a068b15a96db2be16e9d9e053b74e28ee"
   }
  }
 },
 "nbformat": 4,
 "nbformat_minor": 2
}

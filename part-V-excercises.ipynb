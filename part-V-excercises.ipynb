{
 "cells": [
  {
   "cell_type": "code",
   "execution_count": 88,
   "metadata": {},
   "outputs": [
    {
     "name": "stdout",
     "output_type": "stream",
     "text": [
      "There are 10 no of lines\n",
      "There are  23  no of characters\n"
     ]
    }
   ],
   "source": [
    "#q1\n",
    "#wrote a module called mymod\n",
    "from pyfiles import mymod\n",
    "from importlib import reload\n",
    "\n",
    "\n",
    "reload(mymod)\n",
    "from pyfiles import mymod\n",
    "mymod\n",
    "mymod.countLines('script1.txt')\n",
    "mymod.countChars('script1.txt')"
   ]
  },
  {
   "cell_type": "code",
   "execution_count": 89,
   "metadata": {},
   "outputs": [
    {
     "name": "stdout",
     "output_type": "stream",
     "text": [
      "There are 10 no of lines\n",
      "There are  23  no of characters\n"
     ]
    }
   ],
   "source": [
    "mymod.test('script1.txt')\n",
    "#this answers the first part of q1"
   ]
  },
  {
   "cell_type": "code",
   "execution_count": 90,
   "metadata": {},
   "outputs": [
    {
     "name": "stdout",
     "output_type": "stream",
     "text": [
      "There are 10 no of lines\n",
      "There are  23  no of characters\n",
      "There are 15 no of lines\n",
      "There are  47  no of characters\n"
     ]
    }
   ],
   "source": [
    "#q2\n",
    "#Yes it does need to include in PYTHONPATH\n",
    "#importing the test and using it works\n",
    "\n",
    "from pyfiles.mymod import test\n",
    "test('script1.txt')\n",
    "\n",
    "#Testing the function on itself works\n",
    "test('pyfiles/mymod.py')"
   ]
  },
  {
   "cell_type": "code",
   "execution_count": 91,
   "metadata": {},
   "outputs": [],
   "source": [
    "from pyfiles.mymod import *"
   ]
  },
  {
   "cell_type": "code",
   "execution_count": 92,
   "metadata": {},
   "outputs": [
    {
     "name": "stdout",
     "output_type": "stream",
     "text": [
      "There are 10 no of lines\n",
      "There are  23  no of characters\n"
     ]
    }
   ],
   "source": [
    "test('script1.txt')"
   ]
  },
  {
   "cell_type": "code",
   "execution_count": 95,
   "metadata": {},
   "outputs": [
    {
     "name": "stdout",
     "output_type": "stream",
     "text": [
      "There are  23  no of characters\n",
      "There are 10 no of lines\n"
     ]
    },
    {
     "data": {
      "text/plain": [
       "(None, None)"
      ]
     },
     "execution_count": 95,
     "metadata": {},
     "output_type": "execute_result"
    }
   ],
   "source": [
    "countChars('script1.txt'),countLines('script1.txt')"
   ]
  },
  {
   "cell_type": "code",
   "execution_count": 107,
   "metadata": {},
   "outputs": [
    {
     "data": {
      "text/plain": [
       "'\\n        counts the number of lines in a file\\n        '"
      ]
     },
     "execution_count": 107,
     "metadata": {},
     "output_type": "execute_result"
    }
   ],
   "source": [
    "#q2 and q3 also done in the mymod already\n",
    "mymod.countLines.__doc__"
   ]
  },
  {
   "cell_type": "code",
   "execution_count": null,
   "metadata": {},
   "outputs": [],
   "source": []
  }
 ],
 "metadata": {
  "kernelspec": {
   "display_name": "Python 3.10.4 ('arka')",
   "language": "python",
   "name": "python3"
  },
  "language_info": {
   "codemirror_mode": {
    "name": "ipython",
    "version": 3
   },
   "file_extension": ".py",
   "mimetype": "text/x-python",
   "name": "python",
   "nbconvert_exporter": "python",
   "pygments_lexer": "ipython3",
   "version": "3.10.4"
  },
  "orig_nbformat": 4,
  "vscode": {
   "interpreter": {
    "hash": "fa46da6b9307ef350aad613908c1591a068b15a96db2be16e9d9e053b74e28ee"
   }
  }
 },
 "nbformat": 4,
 "nbformat_minor": 2
}
